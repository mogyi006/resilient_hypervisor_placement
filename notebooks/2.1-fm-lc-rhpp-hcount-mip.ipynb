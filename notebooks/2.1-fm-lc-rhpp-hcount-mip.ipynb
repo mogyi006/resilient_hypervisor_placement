{
 "cells": [
  {
   "cell_type": "code",
   "execution_count": 1,
   "metadata": {},
   "outputs": [],
   "source": [
    "%load_ext autoreload\n",
    "%autoreload 2"
   ]
  },
  {
   "cell_type": "code",
   "execution_count": 2,
   "metadata": {},
   "outputs": [],
   "source": [
    "# Standard library imports.\n",
    "import itertools\n",
    "\n",
    "# Related third party imports.\n",
    "import numpy as np\n",
    "import networkx as nx\n",
    "import matplotlib.pyplot as plt\n",
    "import seaborn as sns\n",
    "import gurobipy as gp\n",
    "from gurobipy import GRB\n",
    "\n",
    "# Local application/library specific imports.\n",
    "from src.models.network_simulation import NetworkSimulation\n",
    "import src.data.graph_utilities as gu"
   ]
  },
  {
   "cell_type": "code",
   "execution_count": 4,
   "metadata": {},
   "outputs": [],
   "source": [
    "network_folder = '../data/processed/networks'\n",
    "network_name = '26_usa'\n",
    "factor = 0.5\n",
    "\n",
    "# Load data\n",
    "g = nx.read_gml(f'{network_folder}/{network_name}.gml', label=\"id\")\n",
    "diameter = gu.get_graph_diameter(g)\n",
    "ml = diameter * factor\n",
    "\n",
    "ns = NetworkSimulation(network_name, **{'max_length':ml, 'shortest_k':16})\n",
    "S, H, C = list(g.nodes), list(g.nodes), list(g.nodes)\n",
    "H_pairs = list(itertools.combinations_with_replacement(H,2))\n",
    "HS_pairs = list(itertools.product(H, S))\n",
    "HHS_pairs = list(itertools.product(H_pairs, S))\n",
    "CS_pairs = list(itertools.product(C, S))\n",
    "\n",
    "allowed_switch_H_pairs = gu.get_allowed_hypervisor_pairs_by_switch(ns.network_operator.triplets_by_switches)\n",
    "# not_allowed_switch_H_pairs = {s:[(h1,h2) for h1, h2 in H_pairs if (h1,h2) not in allowed_switch_H_pairs[s]] for s in S}\n",
    "# switch_H_pairs = {s:[(i,j) for _,i,j in ns.network_operator.triplets_by_switches[s] if (i!=s and j!=s)] for s in S}\n"
   ]
  },
  {
   "cell_type": "code",
   "execution_count": 8,
   "metadata": {},
   "outputs": [
    {
     "name": "stdout",
     "output_type": "stream",
     "text": [
      "Gurobi Optimizer version 9.1.2 build v9.1.2rc0 (linux64)\n",
      "Thread count: 4 physical cores, 8 logical processors, using up to 8 threads\n",
      "Optimize a model with 78 rows, 9828 columns and 2827 nonzeros\n",
      "Model fingerprint: 0x74b20d29\n",
      "Model has 8502 general constraints\n",
      "Variable types: 0 continuous, 9828 integer (9828 binary)\n",
      "Coefficient statistics:\n",
      "  Matrix range     [1e+00, 2e+00]\n",
      "  Objective range  [1e+00, 1e+00]\n",
      "  Bounds range     [1e+00, 1e+00]\n",
      "  RHS range        [1e+00, 2e+00]\n",
      "Presolve added 3090 rows and 0 columns\n",
      "Presolve removed 0 rows and 7079 columns\n",
      "Presolve time: 0.10s\n",
      "Presolved: 3168 rows, 2749 columns, 14833 nonzeros\n",
      "Variable types: 0 continuous, 2749 integer (2749 binary)\n",
      "Found heuristic solution: objective 25.0000000\n",
      "\n",
      "Root relaxation: objective 3.666667e+00, 1964 iterations, 0.12 seconds\n",
      "\n",
      "    Nodes    |    Current Node    |     Objective Bounds      |     Work\n",
      " Expl Unexpl |  Obj  Depth IntInf | Incumbent    BestBd   Gap | It/Node Time\n",
      "\n",
      "     0     0    3.66667    0  120   25.00000    3.66667  85.3%     -    0s\n",
      "H    0     0                       6.0000000    3.66667  38.9%     -    0s\n",
      "H    0     0                       5.0000000    3.66667  26.7%     -    0s\n",
      "H    0     0                       4.0000000    3.66667  8.33%     -    0s\n",
      "     0     0    3.66667    0  120    4.00000    3.66667  8.33%     -    0s\n",
      "\n",
      "Explored 1 nodes (3857 simplex iterations) in 0.43 seconds\n",
      "Thread count was 8 (of 8 available processors)\n",
      "\n",
      "Solution count 4: 4 5 6 25 \n",
      "\n",
      "Optimal solution found (tolerance 1.00e-04)\n",
      "Best objective 4.000000000000e+00, best bound 4.000000000000e+00, gap 0.0000%\n"
     ]
    }
   ],
   "source": [
    "model = gp.Model(\"mip1\")\n",
    "\n",
    "active_hypervisors = model.addVars(H, vtype=GRB.BINARY)\n",
    "hypervisor_controls_switch = model.addVars(HS_pairs, vtype=GRB.BINARY)\n",
    "hypervisor_pair_controls_switch = model.addVars(HHS_pairs, vtype=GRB.BINARY)\n",
    "\n",
    "# Only active hypervisors can control switches, Hypervisors without controlled switches are inactive\n",
    "c_1 = model.addConstrs(active_hypervisors[h] == gp.or_([hypervisor_controls_switch[(h,s)] for s in S]) for h in H)\n",
    "\n",
    "# Each switch is controlled by a pair of hypervisors except when there is a hypervisor at the switch’s location\n",
    "c_2a = model.addConstrs(active_hypervisors[s] <= hypervisor_controls_switch[(s,s)] for s in S)\n",
    "# c_2a = model.addConstrs(active_hypervisors[s] <= hypervisor_pair_controls_switch[((s,s),s)] for s in S)\n",
    "c_2b = model.addConstrs(hypervisor_controls_switch[(s,s)] + gp.LinExpr([(1, hypervisor_controls_switch[(h,s)]) for h in H]) == 2 for s in S)\n",
    "# c_2b = model.addConstrs(gp.quicksum([hypervisor_pair_controls_switch[((h1,h2),s)] for h1,h2 in H_pairs]) == 1 for s in S)\n",
    "\n",
    "# The hypervisor pair controls the switch if both of them are controlling it\n",
    "c_3 = model.addConstrs(hypervisor_pair_controls_switch[((h1,h2),s)] == gp.and_(hypervisor_controls_switch[(h1,s)], hypervisor_controls_switch[(h2,s)]) for (h1,h2),s in HHS_pairs if not (h1==h2 and h1!=s))\n",
    "\n",
    "# Only valid triplets (T) can appear\n",
    "c_4 = model.addConstrs(gp.quicksum([hypervisor_pair_controls_switch[((h1,h2),s)] for h1,h2 in allowed_switch_H_pairs[s]]) == 1 for s in S)\n",
    "# c_5a = model.addConstrs(gp.quicksum([hypervisor_pair_controls_switch[((h1,h2),s)] for h1,h2 in not_allowed_switch_H_pairs[s]]) == 0 for s in S)\n",
    "# c_5b = model.addConstrs(hypervisor_pair_controls_switch[((h1,h2),s)] == 0 for h1,h2 in not_allowed_switch_H_pairs[s] for s in S)\n",
    "# c_5c = model.addConstrs(hypervisor_controls_switch[(h1,s)] + hypervisor_controls_switch[(h2,s)] <= 1 for h1,h2 in not_allowed_switch_H_pairs[s] for s in S)\n",
    "\n",
    "# c_6 = model.addConstr(gp.quicksum(active_hypervisors) <= 5)\n",
    "\n",
    "# Minimize the number of hypervisors\n",
    "model.setObjective(gp.quicksum(active_hypervisors), GRB.MINIMIZE)\n",
    "model.optimize()"
   ]
  },
  {
   "cell_type": "code",
   "execution_count": 6,
   "metadata": {},
   "outputs": [
    {
     "name": "stdout",
     "output_type": "stream",
     "text": [
      "2\n",
      "6\n",
      "10\n",
      "21\n",
      "Obj: 4\n"
     ]
    }
   ],
   "source": [
    "for h,v in active_hypervisors.items():\n",
    "    if v.x > 0.9:\n",
    "        print('%s' % (h))\n",
    "print('Obj: %g' % model.objVal)"
   ]
  },
  {
   "cell_type": "code",
   "execution_count": 15,
   "metadata": {},
   "outputs": [
    {
     "name": "stdout",
     "output_type": "stream",
     "text": [
      " 4  4  4\n",
      " 6  4  7\n",
      " 3  4 11\n",
      " 7  7  7\n",
      " 9  7 10\n",
      "22  7 10\n",
      " 8  8  8\n",
      "10 10 10\n",
      "11 11 11\n",
      "12 11 13\n",
      " 5 11 25\n",
      "13 13 13\n",
      "14 14 14\n",
      "15 15 15\n",
      " 0 15 19\n",
      " 1 15 19\n",
      " 2 15 19\n",
      "16 15 19\n",
      "17 15 19\n",
      "18 15 19\n",
      "20 15 19\n",
      "21 15 19\n",
      "24 15 19\n",
      "19 19 19\n",
      "23 23 23\n",
      "25 25 25\n"
     ]
    }
   ],
   "source": [
    "for ((h1,h2),s),v in hypervisor_pair_controls_switch.items():\n",
    "    if v.x > 0.9:\n",
    "        print('%2s %2s %2s' % (s, h1, h2))"
   ]
  }
 ],
 "metadata": {
  "kernelspec": {
   "display_name": "Python 3",
   "language": "python",
   "name": "python3"
  },
  "language_info": {
   "codemirror_mode": {
    "name": "ipython",
    "version": 3
   },
   "file_extension": ".py",
   "mimetype": "text/x-python",
   "name": "python",
   "nbconvert_exporter": "python",
   "pygments_lexer": "ipython3",
   "version": "3.8.2"
  }
 },
 "nbformat": 4,
 "nbformat_minor": 4
}
