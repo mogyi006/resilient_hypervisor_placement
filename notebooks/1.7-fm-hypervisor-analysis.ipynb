{
 "cells": [
  {
   "cell_type": "code",
   "execution_count": 1,
   "metadata": {},
   "outputs": [],
   "source": [
    "%load_ext autoreload\n",
    "%autoreload 2"
   ]
  },
  {
   "cell_type": "code",
   "execution_count": 5,
   "metadata": {},
   "outputs": [],
   "source": [
    "# Standard library imports.\n",
    "import pickle\n",
    "from collections import Counter\n",
    "\n",
    "# Related third party imports.\n",
    "import pandas as pd\n",
    "import numpy as np\n",
    "\n",
    "# Local application/library specific imports.\n",
    "from src.models.network_simulation import NetworkSimulation"
   ]
  },
  {
   "cell_type": "markdown",
   "metadata": {},
   "source": [
    "# 1. Hypervisor Frequency in the Quartets"
   ]
  },
  {
   "cell_type": "code",
   "execution_count": 4,
   "metadata": {},
   "outputs": [],
   "source": [
    "network_name = '25_italy'\n",
    "network_operator_path = f'../data/processed/network_operators/{network_name}/{network_name}_L{5}_k16.p'\n",
    "network_operator = pickle.load(open(network_operator_path, \"rb\"))"
   ]
  },
  {
   "cell_type": "code",
   "execution_count": 18,
   "metadata": {},
   "outputs": [
    {
     "data": {
      "text/plain": [
       "dict_keys([0, 7, 18, 6, 8, 1, 12, 17, 11, 15, 20, 10, 16, 9, 19, 2, 22, 23, 14, 3, 5, 24, 13, 21, 4])"
      ]
     },
     "execution_count": 18,
     "metadata": {},
     "output_type": "execute_result"
    }
   ],
   "source": [
    "counts = Counter(q[1] for q in network_operator.quartets) + Counter(q[2] for q in network_operator.quartets)\n",
    "counts.keys()"
   ]
  },
  {
   "cell_type": "code",
   "execution_count": 19,
   "metadata": {},
   "outputs": [],
   "source": [
    "network_name = '25_italy'\n",
    "df = pd.DataFrame()\n",
    "\n",
    "for L in range(1,11):\n",
    "    network_operator_path = f'../data/processed/network_operators/{network_name}/{network_name}_L{L}_k16.p'\n",
    "    network_operator = pickle.load(open(network_operator_path, \"rb\"))\n",
    "\n",
    "    counts = Counter(q[1] for q in network_operator.quartets) + Counter(q[2] for q in network_operator.quartets)\n",
    "    df[L] = pd.Series(counts, index=counts.keys())"
   ]
  },
  {
   "cell_type": "code",
   "execution_count": 23,
   "metadata": {},
   "outputs": [],
   "source": [
    "df = df.sort_index()\n",
    "df['mean'] = df.divide(df.sum(), axis='columns').mean(axis=1)"
   ]
  },
  {
   "cell_type": "code",
   "execution_count": 24,
   "metadata": {},
   "outputs": [
    {
     "name": "stdout",
     "output_type": "stream",
     "text": [
      ",1,2,3,4,5,6,7,8,9,10,mean\n",
      "0,6,28,95,292,917,1919,3617,5357,7200,8899,0.05622873946783301\n",
      "1,4,11,51,171,651,1541,3098,4914,6761,8537,0.04146340272536753\n",
      "2,2,6,19,63,243,640,1536,2890,4681,6862,0.022186905308252937\n",
      "3,4,18,34,69,135,326,777,1501,2578,4376,0.019725752809952184\n",
      "4,4,18,34,51,103,279,631,1199,2088,3520,0.017587992263637935\n",
      "5,4,18,34,51,81,260,585,1091,1903,3162,0.016831516671563344\n",
      "6,8,35,156,523,1299,2328,3620,5205,6790,8404,0.06969007088023205\n",
      "7,6,33,167,557,1328,2354,3639,5290,6831,8564,0.0694843564858493\n",
      "8,10,29,222,573,1359,2362,3605,5221,6805,8358,0.07499124033355\n",
      "9,8,19,104,442,1108,2033,3230,4625,6303,7847,0.057502802067207384\n",
      "10,4,12,21,164,569,1271,2439,3732,5119,6592,0.03356028403484236\n",
      "11,2,6,15,42,205,649,1448,2516,3748,5069,0.01901218555071078\n",
      "12,6,12,101,442,1128,2069,3147,4350,5727,7358,0.05329363739766692\n",
      "13,4,6,13,57,221,718,1654,2725,4010,4984,0.02170155276978606\n",
      "14,4,6,20,92,347,1076,2071,3302,4384,5605,0.026632661210433624\n",
      "15,4,19,133,508,1278,2177,3330,4506,5956,7630,0.058490739177393836\n",
      "16,14,30,102,416,1059,1992,3101,4347,5830,7463,0.062339593894127784\n",
      "17,10,26,79,267,699,1495,2546,3753,5114,6574,0.04804993948480567\n",
      "18,4,20,38,73,153,427,927,1884,3474,5360,0.022882231802010676\n",
      "19,2,4,11,26,61,216,648,1512,3099,5053,0.012786905030362682\n",
      "20,4,29,94,364,980,2082,3677,5425,7210,8834,0.0571769524085274\n",
      "21,2,8,15,46,171,549,1495,2956,4916,7223,0.02178362657128583\n",
      "22,14,31,108,400,1043,1923,3197,4604,6216,8013,0.06341486313109707\n",
      "23,2,8,13,70,184,453,1121,2014,3198,4763,0.017347646663444627\n",
      "24,2,10,33,123,466,1397,2697,4713,6981,9068,0.035834401860059026\n",
      "\n"
     ]
    }
   ],
   "source": [
    "print(df.to_csv())"
   ]
  },
  {
   "cell_type": "markdown",
   "metadata": {},
   "source": [
    "# 2. Hypervisor Frequency in the Placements"
   ]
  },
  {
   "cell_type": "code",
   "execution_count": 66,
   "metadata": {},
   "outputs": [],
   "source": [
    "network = '25_italy'\n",
    "simulation_date = '2021-11-09'\n",
    "placement_type = 'ilp-opt'\n",
    "\n",
    "df = pd.read_json(f\"../results/{network}/{simulation_date}-{network}-{placement_type}.json\")\n",
    "df.latency_factor = df.latency_factor.round(1)"
   ]
  },
  {
   "cell_type": "code",
   "execution_count": 67,
   "metadata": {},
   "outputs": [],
   "source": [
    "dfh = pd.DataFrame()\n",
    "for L, row in df[['latency_factor','h_list']].groupby('latency_factor').sum().iterrows():\n",
    "    counts = Counter(row['h_list'])\n",
    "    dfh[L] = pd.Series(counts, index=counts.keys())\n",
    "dfh = dfh.fillna(0).astype('int')\n",
    "dfh = dfh.sort_index()\n",
    "dfh['mean'] = dfh.divide(dfh.sum(), axis='columns').mean(axis=1)"
   ]
  },
  {
   "cell_type": "code",
   "execution_count": null,
   "metadata": {},
   "outputs": [],
   "source": [
    "dfh"
   ]
  },
  {
   "cell_type": "code",
   "execution_count": 69,
   "metadata": {},
   "outputs": [],
   "source": [
    "network = '25_italy'\n",
    "simulation_date = '2021-11-09'\n",
    "hypervisor_frequency = pd.DataFrame()\n",
    "\n",
    "for placement_type in ['heu-hco', 'ilp-hco', 'ilp-acc', 'ilp-opt']:\n",
    "    df = pd.read_json(f\"../results/{network}/{simulation_date}-{network}-{placement_type}.json\")\n",
    "    df.latency_factor = df.latency_factor.round(1)\n",
    "    \n",
    "    dfh = pd.DataFrame()\n",
    "    for L, row in df[['latency_factor','h_list']].groupby('latency_factor').sum().iterrows():\n",
    "        counts = Counter(row['h_list'])\n",
    "        dfh[L] = pd.Series(counts, index=counts.keys())\n",
    "    dfh = dfh.fillna(0).astype('int')\n",
    "    dfh = dfh.sort_index()\n",
    "    hypervisor_frequency[placement_type] = dfh.divide(dfh.sum(), axis='columns').mean(axis=1)"
   ]
  },
  {
   "cell_type": "code",
   "execution_count": 80,
   "metadata": {},
   "outputs": [
    {
     "name": "stdout",
     "output_type": "stream",
     "text": [
      ",heu-hco,ilp-hco,ilp-acc,ilp-opt\n",
      "0,0.088,0.118,0.072,0.083\n",
      "1,0.017,0.004,0.029,0.028\n",
      "2,0.041,0.018,0.031,0.035\n",
      "3,0.032,0.051,0.044,0.034\n",
      "4,0.022,0.024,0.013,0.013\n",
      "5,0.020,0.004,0.024,0.023\n",
      "6,0.031,0.095,0.030,0.032\n",
      "7,0.036,0.004,0.030,0.031\n",
      "8,0.030,0.018,0.038,0.038\n",
      "9,0.020,0.010,0.016,0.019\n",
      "10,0.013,0.010,0.010,0.013\n",
      "11,0.032,0.018,0.018,0.021\n",
      "12,0.027,0.025,0.024,0.018\n",
      "13,0.035,0.018,0.025,0.027\n",
      "14,0.018,0.035,0.019,0.015\n",
      "15,0.025,0.023,0.030,0.035\n",
      "16,0.013,0.004,0.002,0.003\n",
      "17,0.009,0.010,0.009,0.011\n",
      "18,0.030,0.031,0.026,0.025\n",
      "19,0.043,0.031,0.035,0.034\n",
      "20,0.086,0.076,0.128,0.097\n",
      "21,0.029,0.060,0.019,0.022\n",
      "22,0.030,,0.007,0.023\n",
      "23,0.098,0.101,0.098,0.098\n",
      "24,0.179,0.210,0.223,0.221\n",
      "\n"
     ]
    }
   ],
   "source": [
    "print(hypervisor_frequency.to_csv(float_format='%.3f'))"
   ]
  }
 ],
 "metadata": {
  "interpreter": {
   "hash": "dcfd4f773bf5e226e1489114b6468ab89926ab25e4ffaffcce46052f5d998310"
  },
  "kernelspec": {
   "display_name": "Python 3.8.2 64-bit ('hp': conda)",
   "name": "python3"
  },
  "language_info": {
   "codemirror_mode": {
    "name": "ipython",
    "version": 3
   },
   "file_extension": ".py",
   "mimetype": "text/x-python",
   "name": "python",
   "nbconvert_exporter": "python",
   "pygments_lexer": "ipython3",
   "version": "3.8.2"
  },
  "orig_nbformat": 4
 },
 "nbformat": 4,
 "nbformat_minor": 2
}
