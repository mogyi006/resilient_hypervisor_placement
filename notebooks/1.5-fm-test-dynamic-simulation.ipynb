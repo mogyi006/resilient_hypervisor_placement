{
 "cells": [
  {
   "cell_type": "code",
   "execution_count": null,
   "metadata": {},
   "outputs": [],
   "source": [
    "%load_ext autoreload\n",
    "%autoreload 2"
   ]
  },
  {
   "cell_type": "code",
   "execution_count": null,
   "metadata": {},
   "outputs": [],
   "source": [
    "# Standard library imports.\n",
    "import datetime\n",
    "import itertools\n",
    "import json\n",
    "\n",
    "# Related third party imports.\n",
    "import numpy as np\n",
    "import pandas as pd\n",
    "pd.options.display.float_format = '{:,.2f}'.format\n",
    "import tqdm\n",
    "\n",
    "# Local application/library specific imports.\n",
    "from src.models.network_simulation import NetworkSimulation\n",
    "from src.data.json_encoder import NumpyEncoder\n",
    "\n",
    "def add_cumulative(df):\n",
    "    for sim_name in df['simulation_name'].unique():\n",
    "        for sim_id in df['simulation_id'].unique():\n",
    "            mask = (df['simulation_id'] == sim_id) & (df['simulation_name'] == sim_name)\n",
    "            df.loc[mask,'acceptable_count_cum'] = df.loc[mask,'acceptable_count'].cumsum()\n",
    "            df.loc[mask,'vSDN_count_cum'] = df.loc[mask,'vSDN_count'].cumsum()\n",
    "            df.loc[mask,'acceptance_ratio_cum'] = df.loc[mask,'acceptable_count_cum'] / df.loc[mask,'vSDN_count_cum']"
   ]
  },
  {
   "cell_type": "code",
   "execution_count": 27,
   "metadata": {},
   "outputs": [
    {
     "name": "stdout",
     "output_type": "stream",
     "text": [
      "2021-11-15-19-58\n"
     ]
    }
   ],
   "source": [
    "print(datetime.datetime.now().strftime(\"%Y-%m-%d-%H-%M\"))"
   ]
  },
  {
   "cell_type": "code",
   "execution_count": null,
   "metadata": {},
   "outputs": [],
   "source": [
    "network_name = '25_italy'\n",
    "max_vSDN_size = 10\n",
    "hp_type = 'ilp'\n",
    "hp_objective = 'acceptance ratio'\n",
    "\n",
    "possible_settings = {\n",
    "    'network_name': [network_name],\n",
    "    'latency_factor': [0.5], # np.arange(0.4, 0.7, 0.1),\n",
    "    'shortest_k': [16],\n",
    "    'hp_type': [hp_type],\n",
    "    'hp_objective': [hp_objective],\n",
    "    'sim_repeat': [3],\n",
    "    'timesteps': [10],\n",
    "    'max_request_size': [max_vSDN_size],\n",
    "    'request_per_timestep': [5,6],\n",
    "    'TTL_range': [5],\n",
    "    'vSDN_count_ilp':[10],\n",
    "    'vSDN_size_ilp':[max(2, int(max_vSDN_size / 2))]\n",
    "}\n",
    "param_names_1 = list(possible_settings.keys())\n",
    "setting_list = [\n",
    "    dict(zip(param_names_1, x))\n",
    "    for x in itertools.product(*possible_settings.values())\n",
    "]"
   ]
  },
  {
   "cell_type": "code",
   "execution_count": null,
   "metadata": {},
   "outputs": [],
   "source": [
    "# Normal Simulation\n",
    "setting = setting_list[0]\n",
    "\n",
    "ns = NetworkSimulation(**setting)\n",
    "ns.init_simulation(**setting)\n",
    "ns.run_multiple_dynamic_simulations(**setting)\n",
    "run_log = ns.get_logs()\n",
    "df = pd.DataFrame(run_log)\n",
    "add_cumulative(df)"
   ]
  },
  {
   "cell_type": "code",
   "execution_count": null,
   "metadata": {},
   "outputs": [],
   "source": [
    "df[['hp_runtime', 'acceptance_ratio', 'acceptance_ratio_cum', 'active_vSDN_count', 'mean_switch_hpair_count', 'simulation_id', 'timestep', 'max_vSDN_size']]"
   ]
  },
  {
   "cell_type": "code",
   "execution_count": null,
   "metadata": {},
   "outputs": [],
   "source": [
    "df.groupby(by=['simulation_name', 'timestep']).mean()[['acceptance_ratio_cum', 'active_vSDN_count']]"
   ]
  },
  {
   "cell_type": "code",
   "execution_count": null,
   "metadata": {},
   "outputs": [],
   "source": [
    "# Simulation\n",
    "simulation_logs = []\n",
    "for setting in tqdm.tqdm(setting_list, total=len(setting_list)):\n",
    "    ns = NetworkSimulation(**setting)\n",
    "    ns.init_simulation(**setting)\n",
    "    ns.run_multiple_dynamic_simulations(**setting)\n",
    "    simulation_logs.extend(ns.get_logs())\n",
    "dfs = pd.DataFrame(simulation_logs)\n",
    "add_cumulative(dfs)"
   ]
  },
  {
   "cell_type": "code",
   "execution_count": null,
   "metadata": {},
   "outputs": [],
   "source": [
    "dfs.shape"
   ]
  },
  {
   "cell_type": "code",
   "execution_count": null,
   "metadata": {},
   "outputs": [],
   "source": [
    "dfs[['hp_runtime', 'acceptance_ratio', 'acceptance_ratio_cum', 'active_vSDN_count', 'mean_switch_hpair_count', 'simulation_id', 'timestep', 'max_vSDN_size', 'vSDN_count']]"
   ]
  },
  {
   "cell_type": "code",
   "execution_count": 30,
   "metadata": {},
   "outputs": [
    {
     "data": {
      "text/html": [
       "<div>\n",
       "<style scoped>\n",
       "    .dataframe tbody tr th:only-of-type {\n",
       "        vertical-align: middle;\n",
       "    }\n",
       "\n",
       "    .dataframe tbody tr th {\n",
       "        vertical-align: top;\n",
       "    }\n",
       "\n",
       "    .dataframe thead th {\n",
       "        text-align: right;\n",
       "    }\n",
       "</style>\n",
       "<table border=\"1\" class=\"dataframe\">\n",
       "  <thead>\n",
       "    <tr style=\"text-align: right;\">\n",
       "      <th></th>\n",
       "      <th></th>\n",
       "      <th>acceptance_ratio_cum</th>\n",
       "      <th>active_vSDN_count</th>\n",
       "    </tr>\n",
       "    <tr>\n",
       "      <th>simulation_name</th>\n",
       "      <th>timestep</th>\n",
       "      <th></th>\n",
       "      <th></th>\n",
       "    </tr>\n",
       "  </thead>\n",
       "  <tbody>\n",
       "    <tr>\n",
       "      <th rowspan=\"10\" valign=\"top\">25_italy_L50_mrs10_rpt5_ttl5</th>\n",
       "      <th>1</th>\n",
       "      <td>0.60</td>\n",
       "      <td>3.00</td>\n",
       "    </tr>\n",
       "    <tr>\n",
       "      <th>2</th>\n",
       "      <td>0.43</td>\n",
       "      <td>4.00</td>\n",
       "    </tr>\n",
       "    <tr>\n",
       "      <th>3</th>\n",
       "      <td>0.42</td>\n",
       "      <td>4.00</td>\n",
       "    </tr>\n",
       "    <tr>\n",
       "      <th>4</th>\n",
       "      <td>0.40</td>\n",
       "      <td>4.33</td>\n",
       "    </tr>\n",
       "    <tr>\n",
       "      <th>5</th>\n",
       "      <td>0.37</td>\n",
       "      <td>4.67</td>\n",
       "    </tr>\n",
       "    <tr>\n",
       "      <th>6</th>\n",
       "      <td>0.34</td>\n",
       "      <td>3.00</td>\n",
       "    </tr>\n",
       "    <tr>\n",
       "      <th>7</th>\n",
       "      <td>0.35</td>\n",
       "      <td>4.67</td>\n",
       "    </tr>\n",
       "    <tr>\n",
       "      <th>8</th>\n",
       "      <td>0.33</td>\n",
       "      <td>4.00</td>\n",
       "    </tr>\n",
       "    <tr>\n",
       "      <th>9</th>\n",
       "      <td>0.33</td>\n",
       "      <td>2.67</td>\n",
       "    </tr>\n",
       "    <tr>\n",
       "      <th>10</th>\n",
       "      <td>0.31</td>\n",
       "      <td>3.33</td>\n",
       "    </tr>\n",
       "    <tr>\n",
       "      <th rowspan=\"10\" valign=\"top\">25_italy_L50_mrs10_rpt6_ttl5</th>\n",
       "      <th>1</th>\n",
       "      <td>0.33</td>\n",
       "      <td>2.00</td>\n",
       "    </tr>\n",
       "    <tr>\n",
       "      <th>2</th>\n",
       "      <td>0.25</td>\n",
       "      <td>1.67</td>\n",
       "    </tr>\n",
       "    <tr>\n",
       "      <th>3</th>\n",
       "      <td>0.26</td>\n",
       "      <td>2.67</td>\n",
       "    </tr>\n",
       "    <tr>\n",
       "      <th>4</th>\n",
       "      <td>0.25</td>\n",
       "      <td>3.33</td>\n",
       "    </tr>\n",
       "    <tr>\n",
       "      <th>5</th>\n",
       "      <td>0.23</td>\n",
       "      <td>2.33</td>\n",
       "    </tr>\n",
       "    <tr>\n",
       "      <th>6</th>\n",
       "      <td>0.28</td>\n",
       "      <td>4.00</td>\n",
       "    </tr>\n",
       "    <tr>\n",
       "      <th>7</th>\n",
       "      <td>0.27</td>\n",
       "      <td>3.33</td>\n",
       "    </tr>\n",
       "    <tr>\n",
       "      <th>8</th>\n",
       "      <td>0.27</td>\n",
       "      <td>3.67</td>\n",
       "    </tr>\n",
       "    <tr>\n",
       "      <th>9</th>\n",
       "      <td>0.27</td>\n",
       "      <td>4.67</td>\n",
       "    </tr>\n",
       "    <tr>\n",
       "      <th>10</th>\n",
       "      <td>0.28</td>\n",
       "      <td>4.00</td>\n",
       "    </tr>\n",
       "  </tbody>\n",
       "</table>\n",
       "</div>"
      ],
      "text/plain": [
       "                                       acceptance_ratio_cum  active_vSDN_count\n",
       "simulation_name              timestep                                         \n",
       "25_italy_L50_mrs10_rpt5_ttl5 1                         0.60               3.00\n",
       "                             2                         0.43               4.00\n",
       "                             3                         0.42               4.00\n",
       "                             4                         0.40               4.33\n",
       "                             5                         0.37               4.67\n",
       "                             6                         0.34               3.00\n",
       "                             7                         0.35               4.67\n",
       "                             8                         0.33               4.00\n",
       "                             9                         0.33               2.67\n",
       "                             10                        0.31               3.33\n",
       "25_italy_L50_mrs10_rpt6_ttl5 1                         0.33               2.00\n",
       "                             2                         0.25               1.67\n",
       "                             3                         0.26               2.67\n",
       "                             4                         0.25               3.33\n",
       "                             5                         0.23               2.33\n",
       "                             6                         0.28               4.00\n",
       "                             7                         0.27               3.33\n",
       "                             8                         0.27               3.67\n",
       "                             9                         0.27               4.67\n",
       "                             10                        0.28               4.00"
      ]
     },
     "execution_count": 30,
     "metadata": {},
     "output_type": "execute_result"
    }
   ],
   "source": [
    "dfs.groupby(by=['simulation_name', 'timestep']).mean()[['acceptance_ratio_cum', 'active_vSDN_count']]"
   ]
  },
  {
   "cell_type": "code",
   "execution_count": null,
   "metadata": {},
   "outputs": [],
   "source": [
    "# Optimal Run\n",
    "setting = setting_list[0]\n",
    "\n",
    "ns = NetworkSimulation(**setting)\n",
    "ns.init_simulation(**setting)\n",
    "ns.run_optimal_dynamic_simulation(**setting)\n",
    "run_log_opt = ns.get_logs()\n",
    "df_opt = pd.DataFrame(run_log_opt)\n",
    "add_cumulative(df_opt)"
   ]
  },
  {
   "cell_type": "code",
   "execution_count": null,
   "metadata": {},
   "outputs": [],
   "source": [
    "df_opt[['hp_runtime', 'acceptance_ratio', 'acceptance_ratio_cum', 'active_vSDN_count', 'mean_switch_hpair_count', 'hp_changed']]"
   ]
  },
  {
   "cell_type": "code",
   "execution_count": null,
   "metadata": {},
   "outputs": [],
   "source": [
    "pd.concat([df[['hp_runtime', 'acceptance_ratio_cum', 'active_vSDN_count', 'mean_switch_hpair_count', 'h_list']],df_opt[['hp_runtime', 'acceptance_ratio_cum', 'active_vSDN_count', 'mean_switch_hpair_count', 'h_list', 'hp_changed']]], axis=1).sort_index(axis=1)"
   ]
  },
  {
   "cell_type": "code",
   "execution_count": null,
   "metadata": {},
   "outputs": [],
   "source": [
    "# Baseline Simulation\n",
    "simulation_logs = []\n",
    "for setting in tqdm.tqdm(setting_generator, total=len(setting_generator)):\n",
    "    ns = NetworkSimulation(**setting)\n",
    "    ns.init_simulation(**setting)\n",
    "    ns.baseline_simulation(possible_request_settings=possible_request_settings, **setting)\n",
    "    simulation_logs.extend(ns.get_logs())"
   ]
  },
  {
   "cell_type": "code",
   "execution_count": null,
   "metadata": {},
   "outputs": [],
   "source": [
    "with open(f\"../results/{network_name}/{datetime.date.today()}-{network_name}-test.json\", 'w') as file:\n",
    "    json.dump(simulation_logs, file, indent=4, sort_keys=True,\n",
    "              separators=(', ', ': '), ensure_ascii=False,\n",
    "              cls=NumpyEncoder)"
   ]
  },
  {
   "cell_type": "markdown",
   "metadata": {},
   "source": [
    "# Analyse simulation logs"
   ]
  },
  {
   "cell_type": "code",
   "execution_count": null,
   "metadata": {},
   "outputs": [],
   "source": [
    "df_heu = pd.DataFrame(simulation_logs)"
   ]
  },
  {
   "cell_type": "code",
   "execution_count": null,
   "metadata": {},
   "outputs": [],
   "source": [
    "df_heu.query(\"latency_factor == 0.5 & vSDN_size == 2\")[['hp_runtime', 'acceptance_ratio']]#.mean()"
   ]
  },
  {
   "cell_type": "code",
   "execution_count": null,
   "metadata": {},
   "outputs": [],
   "source": [
    "df_ilp = pd.DataFrame(simulation_logs)"
   ]
  },
  {
   "cell_type": "code",
   "execution_count": null,
   "metadata": {},
   "outputs": [],
   "source": [
    "df_ilp.query(\"latency_factor == 0.4 & vSDN_size == 3\")[['hp_runtime', 'acceptable_count','acceptance_ratio', 'acceptance_ratio_ilp', 'h_list']]#.mean()"
   ]
  },
  {
   "cell_type": "code",
   "execution_count": null,
   "metadata": {},
   "outputs": [],
   "source": [
    "df_opt = pd.DataFrame(simulation_logs)"
   ]
  },
  {
   "cell_type": "code",
   "execution_count": null,
   "metadata": {},
   "outputs": [],
   "source": [
    "df_opt.query(\"latency_factor == 0.4 & vSDN_size == 2\")[['hp_runtime', 'acceptance_ratio', 'acceptance_ratio_ilp']]#.mean()"
   ]
  }
 ],
 "metadata": {
  "interpreter": {
   "hash": "dcfd4f773bf5e226e1489114b6468ab89926ab25e4ffaffcce46052f5d998310"
  },
  "kernelspec": {
   "display_name": "Python 3.8.2 64-bit ('hp': conda)",
   "name": "python3"
  },
  "language_info": {
   "codemirror_mode": {
    "name": "ipython",
    "version": 3
   },
   "file_extension": ".py",
   "mimetype": "text/x-python",
   "name": "python",
   "nbconvert_exporter": "python",
   "pygments_lexer": "ipython3",
   "version": "3.8.2"
  }
 },
 "nbformat": 4,
 "nbformat_minor": 4
}
