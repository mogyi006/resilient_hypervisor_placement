{
 "cells": [
  {
   "cell_type": "code",
   "execution_count": 1,
   "metadata": {},
   "outputs": [],
   "source": [
    "%load_ext autoreload\n",
    "%autoreload 2"
   ]
  },
  {
   "cell_type": "code",
   "execution_count": 2,
   "metadata": {},
   "outputs": [],
   "source": [
    "# Standard library imports.\n",
    "import itertools\n",
    "\n",
    "# Related third party imports.\n",
    "import numpy as np\n",
    "import networkx as nx\n",
    "import matplotlib.pyplot as plt\n",
    "import seaborn as sns\n",
    "import gurobipy as gp\n",
    "from gurobipy import GRB\n",
    "\n",
    "# Local application/library specific imports.\n",
    "from src.models.network_simulation import NetworkSimulation\n",
    "import src.data.graph_utilities as gu"
   ]
  },
  {
   "cell_type": "code",
   "execution_count": 6,
   "metadata": {},
   "outputs": [],
   "source": [
    "network_folder = '../data/processed/networks'\n",
    "network_name = '25_italy'\n",
    "factor = 0.5\n",
    "\n",
    "# Load data\n",
    "g = nx.read_gml(f'{network_folder}/{network_name}.gml', label=\"id\")\n",
    "diameter = gu.get_graph_diameter(g)\n",
    "ml = diameter * factor\n",
    "\n",
    "ns = NetworkSimulation(network_name, **{'max_length':ml, 'shortest_k':16})\n",
    "ns.generate_new_vSDN_requests(number_of_requests=20, size_of_requests=15, TTL_range=2)\n",
    "\n",
    "S, H, C = list(g.nodes), list(g.nodes), list(g.nodes)\n",
    "H_pairs = list(itertools.combinations_with_replacement(H,2))\n",
    "HS_pairs = list(itertools.product(H, S))\n",
    "HHS_pairs = list(itertools.product(H_pairs, S))\n",
    "CS_pairs = list(itertools.product(C, S))\n",
    "R = {r.get_id():r.get_switches() for r in ns.new_vSDN_requests}\n",
    "CR_pairs = list(itertools.product(C, R.keys()))\n",
    "\n",
    "allowed_switch_H_pairs = gu.get_allowed_hypervisor_pairs_by_switch(ns.network_operator.triplets_by_switches)\n",
    "allowed_cs_H_pairs = ns.network_operator.quartets_by_cs"
   ]
  },
  {
   "cell_type": "code",
   "execution_count": 8,
   "metadata": {},
   "outputs": [
    {
     "name": "stdout",
     "output_type": "stream",
     "text": [
      "Gurobi Optimizer version 9.1.2 build v9.1.2rc0 (linux64)\n",
      "Thread count: 4 physical cores, 8 logical processors, using up to 8 threads\n",
      "Optimize a model with 76 rows, 9920 columns and 2130 nonzeros\n",
      "Model fingerprint: 0x86a02955\n",
      "Model has 8695 general constraints\n",
      "Variable types: 0 continuous, 9920 integer (9920 binary)\n",
      "Coefficient statistics:\n",
      "  Matrix range     [1e+00, 2e+00]\n",
      "  Objective range  [5e-02, 5e-02]\n",
      "  Bounds range     [1e+00, 1e+00]\n",
      "  RHS range        [1e+00, 8e+00]\n",
      "Presolve added 3312 rows and 0 columns\n",
      "Presolve removed 0 rows and 7672 columns\n",
      "Presolve time: 0.25s\n",
      "Presolved: 3388 rows, 2248 columns, 18499 nonzeros\n",
      "Variable types: 0 continuous, 2248 integer (2248 binary)\n",
      "Found heuristic solution: objective -0.0000000\n",
      "\n",
      "Root relaxation: objective 7.000000e-01, 1718 iterations, 0.23 seconds\n",
      "\n",
      "    Nodes    |    Current Node    |     Objective Bounds      |     Work\n",
      " Expl Unexpl |  Obj  Depth IntInf | Incumbent    BestBd   Gap | It/Node Time\n",
      "\n",
      "     0     0    0.70000    0  201   -0.00000    0.70000      -     -    1s\n",
      "     0     0    0.63214    0  447   -0.00000    0.63214      -     -    1s\n",
      "H    0     0                       0.2000000    0.63214   216%     -    1s\n",
      "H    0     0                       0.4000000    0.63214  58.0%     -    1s\n",
      "     0     0    0.58929    0  553    0.40000    0.58929  47.3%     -    2s\n",
      "     0     0    0.58659    0  388    0.40000    0.58659  46.6%     -    2s\n",
      "     0     0    0.56176    0  281    0.40000    0.56176  40.4%     -    3s\n",
      "     0     0    0.56176    0  352    0.40000    0.56176  40.4%     -    4s\n",
      "     0     0    0.50877    0  417    0.40000    0.50877  27.2%     -    5s\n",
      "H    0     0                       0.4500000    0.50877  13.1%     -    5s\n",
      "\n",
      "Cutting planes:\n",
      "  Gomory: 2\n",
      "  Clique: 27\n",
      "  Zero half: 6\n",
      "  RLT: 2\n",
      "\n",
      "Explored 1 nodes (15724 simplex iterations) in 5.51 seconds\n",
      "Thread count was 8 (of 8 available processors)\n",
      "\n",
      "Solution count 4: 0.45 0.4 0.2 -0 \n",
      "No other solutions better than 0.45\n",
      "\n",
      "Optimal solution found (tolerance 1.00e-04)\n",
      "Best objective 4.500000000000e-01, best bound 4.500000000000e-01, gap 0.0000%\n"
     ]
    }
   ],
   "source": [
    "model = gp.Model(\"mip1\")\n",
    "\n",
    "active_hypervisors = model.addVars(H, vtype=GRB.BINARY)\n",
    "hypervisor_controls_switch = model.addVars(HS_pairs, vtype=GRB.BINARY)\n",
    "hypervisor_pair_controls_switch = model.addVars(HHS_pairs, vtype=GRB.BINARY)\n",
    "controller_controls_switch = model.addVars(CS_pairs, vtype=GRB.BINARY)\n",
    "controller_controls_request = model.addVars(CR_pairs, vtype=GRB.BINARY)\n",
    "controllable_request = model.addVars(R.keys(), vtype=GRB.BINARY)\n",
    "\n",
    "# Only active hypervisors can control switches, Hypervisors without controlled switches are inactive\n",
    "c_1 = model.addConstrs(active_hypervisors[h] == gp.or_([hypervisor_controls_switch[(h,s)] for s in S]) for h in H)\n",
    "\n",
    "# Each switch is controlled by a pair of hypervisors except when there is a hypervisor at the switch’s location\n",
    "c_2a = model.addConstrs(active_hypervisors[s] <= hypervisor_controls_switch[(s,s)] for s in S)\n",
    "# c_2a = model.addConstrs(active_hypervisors[s] <= hypervisor_pair_controls_switch[((s,s),s)] for s in S)\n",
    "c_2b = model.addConstrs(hypervisor_controls_switch[(s,s)] + gp.LinExpr([(1, hypervisor_controls_switch[(h,s)]) for h in H]) == 2 for s in S)\n",
    "# c_2b = model.addConstrs(gp.quicksum([hypervisor_pair_controls_switch[((h1,h2),s)] for h1,h2 in H_pairs]) == 1 for s in S)\n",
    "\n",
    "# The hypervisor pair controls the switch if both of them are controlling it\n",
    "c_3 = model.addConstrs(hypervisor_pair_controls_switch[((h1,h2),s)] == gp.and_(hypervisor_controls_switch[(h1,s)], hypervisor_controls_switch[(h2,s)]) for (h1,h2),s in HHS_pairs if not (h1==h2 and h1!=s))\n",
    "\n",
    "# Only valid triplets (T) can appear\n",
    "c_4 = model.addConstrs(gp.quicksum([hypervisor_pair_controls_switch[((h1,h2),s)] for h1,h2 in allowed_switch_H_pairs[s]]) == 1 for s in S)\n",
    "# c_5a = model.addConstrs(gp.quicksum([hypervisor_pair_controls_switch[((h1,h2),s)] for h1,h2 in not_allowed_switch_H_pairs[s]]) == 0 for s in S)\n",
    "# c_5b = model.addConstrs(hypervisor_pair_controls_switch[((h1,h2),s)] == 0 for h1,h2 in not_allowed_switch_H_pairs[s] for s in S)\n",
    "# c_5c = model.addConstrs(hypervisor_controls_switch[(h1,s)] + hypervisor_controls_switch[(h2,s)] <= 1 for h1,h2 in not_allowed_switch_H_pairs[s] for s in S)\n",
    "\n",
    "# If a good hypervisor pair controls the switch then the controller is able to control it\n",
    "c_6 = model.addConstrs(controller_controls_switch[(c,s)] == gp.or_([hypervisor_pair_controls_switch[((h1,h2),s)] for h1,h2 in allowed_cs_H_pairs.get((c,s), [])]) for c,s in CS_pairs)\n",
    "\n",
    "# The request can be accepted with the controller if it can control all of its switches\n",
    "c_7 = model.addConstrs(controller_controls_request[(c,r)] == gp.and_([controller_controls_switch[(c,s)] for s in R[r]]) for c,r in CR_pairs)\n",
    "\n",
    "# The request is acceptable if there is a controller that can control all of its switches\n",
    "c_8 = model.addConstrs(controllable_request[r] == gp.or_([controller_controls_request[(c,r)] for c in C]) for r in R)\n",
    "\n",
    "c_9 = model.addConstr(gp.quicksum(active_hypervisors) <= 8)\n",
    "\n",
    "# Minimize the number of hypervisors\n",
    "model.setObjective(gp.quicksum(controllable_request)/len(R), GRB.MAXIMIZE)\n",
    "model.optimize()"
   ]
  },
  {
   "cell_type": "code",
   "execution_count": 9,
   "metadata": {},
   "outputs": [
    {
     "name": "stdout",
     "output_type": "stream",
     "text": [
      "0\n",
      "4\n",
      "5\n",
      "13\n",
      "19\n",
      "20\n",
      "21\n",
      "23\n",
      "Obj: 0.45\n"
     ]
    }
   ],
   "source": [
    "for h,v in active_hypervisors.items():\n",
    "    if v.x > 0.9:\n",
    "        print('%s' % (h))\n",
    "print('Obj: %g' % model.objVal)"
   ]
  },
  {
   "cell_type": "code",
   "execution_count": 10,
   "metadata": {},
   "outputs": [
    {
     "name": "stdout",
     "output_type": "stream",
     "text": [
      " 0  0  0\n",
      " 1  0 20\n",
      " 3  0 20\n",
      " 6  0 20\n",
      " 7  0 20\n",
      " 8  0 20\n",
      " 9  0 20\n",
      "10  0 20\n",
      "11  0 20\n",
      "12  0 20\n",
      "15  0 20\n",
      "16  0 20\n",
      "17  0 20\n",
      "19  0 20\n",
      "22  0 20\n",
      " 2  0 24\n",
      "18  0 24\n",
      "21  0 24\n",
      " 4  4  4\n",
      " 5  5  5\n",
      "13 13 13\n",
      "14 14 14\n",
      "20 20 20\n",
      "23 23 23\n",
      "24 24 24\n"
     ]
    }
   ],
   "source": [
    "for ((h1,h2),s),v in hypervisor_pair_controls_switch.items():\n",
    "    if v.x > 0.9:\n",
    "        print('%2s %2s %2s' % (s, h1, h2))"
   ]
  },
  {
   "cell_type": "code",
   "execution_count": 10,
   "metadata": {},
   "outputs": [
    {
     "name": "stdout",
     "output_type": "stream",
     "text": [
      "[0, 6, 7, 9, 10, 12, 15, 16, 17, 18, 19, 20, 21, 22, 24]\n",
      "[1, 2, 4, 5, 6, 7, 8, 9, 10, 12, 15, 16, 19, 20, 21]\n",
      "[0, 3, 4, 5, 6, 7, 9, 12, 15, 16, 19, 20, 21, 22, 24]\n",
      "[0, 1, 2, 3, 4, 5, 6, 7, 9, 10, 12, 18, 19, 20, 21]\n",
      "[1, 2, 6, 7, 8, 9, 10, 11, 15, 16, 17, 19, 20, 21, 22]\n",
      "[0, 1, 2, 6, 8, 9, 12, 16, 17, 18, 19, 20, 21, 22, 23]\n",
      "[0, 1, 2, 3, 4, 5, 6, 7, 8, 9, 15, 19, 20, 21, 22]\n",
      "[0, 1, 3, 6, 7, 8, 9, 10, 11, 15, 16, 17, 18, 20, 24]\n",
      "[0, 3, 4, 5, 6, 7, 8, 9, 10, 12, 15, 16, 17, 18, 24]\n"
     ]
    }
   ],
   "source": [
    "for r,v in controllable_request.items():\n",
    "    if v.x > 0.5:\n",
    "        print(R[r])"
   ]
  }
 ],
 "metadata": {
  "kernelspec": {
   "display_name": "Python 3",
   "language": "python",
   "name": "python3"
  },
  "language_info": {
   "codemirror_mode": {
    "name": "ipython",
    "version": 3
   },
   "file_extension": ".py",
   "mimetype": "text/x-python",
   "name": "python",
   "nbconvert_exporter": "python",
   "pygments_lexer": "ipython3",
   "version": "3.8.2"
  }
 },
 "nbformat": 4,
 "nbformat_minor": 4
}
