{
 "cells": [
  {
   "cell_type": "code",
   "execution_count": 1,
   "metadata": {},
   "outputs": [],
   "source": [
    "%load_ext autoreload\n",
    "%autoreload 2"
   ]
  },
  {
   "cell_type": "code",
   "execution_count": 3,
   "metadata": {},
   "outputs": [],
   "source": [
    "import numpy as np\n",
    "import scipy\n",
    "import networkx as nx\n",
    "import pandas as pd\n",
    "import matplotlib.pyplot as plt\n",
    "import seaborn as sns\n",
    "from itertools import product, combinations, islice\n",
    "# from geopy import distance\n",
    "from copy import deepcopy\n",
    "from random import choice\n",
    "from tqdm.notebook import tqdm\n",
    "import time"
   ]
  },
  {
   "cell_type": "code",
   "execution_count": null,
   "metadata": {},
   "outputs": [],
   "source": [
    "# Latency matrix of shortest paths\n",
    "def create_latency_matrix(graph):\n",
    "    n = len(graph.nodes)\n",
    "    latency_matrix = np.zeros((n,n), dtype=int)\n",
    "    all_shortest_paths = [\n",
    "        x[1] for x in nx.all_pairs_dijkstra_path_length(\n",
    "            graph, weight='length'\n",
    "        )\n",
    "    ]\n",
    "    for i,j in product(range(n),range(n)):\n",
    "        latency_matrix[i][j] = all_shortest_paths[i][j]\n",
    "    return latency_matrix\n",
    "\n",
    "# Controller-Hypervisor-Switch latency matrix\n",
    "def create_chs_latency_matrix(latency_matrix):\n",
    "    n = latency_matrix.shape[0]\n",
    "    chs_latency_matrix = np.zeros((n,n,n), dtype=int)\n",
    "    for i,j,k in product(range(n),range(n),range(n)):\n",
    "        chs_latency_matrix[i][j][k] = latency_matrix[i][j] + latency_matrix[j][k]\n",
    "    return chs_latency_matrix\n",
    "\n",
    "# Controllability matrix with given latency\n",
    "def controllability_matrix(chs_latency_matrix, latency_contraint):\n",
    "    return np.asarray(chs_latency_matrix <= latency_contraint, dtype=int)\n",
    "\n",
    "#\n",
    "def hypervisor_matrix(matrix, hypervisor):\n",
    "    return matrix[:,hypervisor,:]\n",
    "\n",
    "#\n",
    "def controllability_hypervisor(cmatrix, hypervisor):\n",
    "    return np.sum(hypervisor_matrix(cmatrix, hypervisor), axis=0)"
   ]
  },
  {
   "cell_type": "code",
   "execution_count": null,
   "metadata": {},
   "outputs": [],
   "source": [
    "# Generating Graph\n",
    "n = 20  # number of nodes\n",
    "p = 0.2 # edge prob.\n",
    "L = 3   # latency\n",
    "\n",
    "while True:\n",
    "    g = nx.generators.random_graphs.gnp_random_graph(n, p)\n",
    "    if nx.is_connected(g):\n",
    "        break\n",
    "\n",
    "l_matrix = create_latency_matrix(g)\n",
    "fl_matrix = create_chs_latency_matrix(l_matrix)\n",
    "c_matrix = controllability_matrix(fl_matrix, L)"
   ]
  },
  {
   "cell_type": "code",
   "execution_count": 3,
   "metadata": {},
   "outputs": [],
   "source": [
    "g = nx.read_gml('../data/raw/networks/italy.gml', label='id')\n",
    "for edge in g.edges:\n",
    "    g.edges[edge]['length'] = distance.distance(\n",
    "        (g.nodes[edge[0]]['Latitude'], g.nodes[edge[0]]['Longitude']),\n",
    "        (g.nodes[edge[1]]['Latitude'], g.nodes[edge[1]]['Longitude'])\n",
    "    ).km\n",
    "\n",
    "for node in g.nodes:\n",
    "    g.nodes[node]['City'] = g.nodes[node]['label']\n",
    "nx.write_gml(g, '../data/processed/networks/25_italy.gml')"
   ]
  },
  {
   "cell_type": "code",
   "execution_count": 3,
   "metadata": {},
   "outputs": [
    {
     "name": "stdout",
     "output_type": "stream",
     "text": [
      "Longest shortest path in the network: 1586\n",
      "Minimum of maximal control latency: 805\n",
      "Latency constraint: 793.0\n"
     ]
    }
   ],
   "source": [
    "g = nx.read_gml('../data/processed/networks/25_italy.gml', label='id')\n",
    "\n",
    "V = list(g.nodes)\n",
    "H = list(g.nodes)\n",
    "C = list(g.nodes)\n",
    "\n",
    "l_matrix = create_latency_matrix(g)\n",
    "fl_matrix = create_chs_latency_matrix(l_matrix)\n",
    "\n",
    "print(f\"Longest shortest path in the network: {np.amax(l_matrix)}\")\n",
    "print(f\"Minimum of maximal control latency: {np.amin(np.amax(fl_matrix, axis=2))}\")\n",
    "\n",
    "L = np.amax(l_matrix) / 2\n",
    "print(f\"Latency constraint: {L}\")\n",
    "\n",
    "c_matrix = controllability_matrix(fl_matrix, L)"
   ]
  },
  {
   "cell_type": "code",
   "execution_count": 5,
   "metadata": {},
   "outputs": [
    {
     "name": "stdout",
     "output_type": "stream",
     "text": [
      "0 29\n",
      "0 48\n",
      "0 46\n",
      "1 47\n",
      "1 34\n",
      "1 49\n",
      "2 31\n",
      "2 8\n",
      "2 37\n",
      "3 31\n",
      "3 11\n",
      "3 43\n",
      "3 32\n",
      "3 20\n",
      "4 35\n",
      "4 44\n",
      "4 22\n",
      "4 5\n",
      "5 32\n",
      "5 21\n",
      "5 22\n",
      "5 25\n",
      "6 38\n",
      "6 7\n",
      "6 22\n",
      "7 15\n",
      "8 11\n",
      "8 13\n",
      "9 16\n",
      "9 33\n",
      "9 23\n",
      "10 14\n",
      "10 35\n",
      "10 44\n",
      "10 25\n",
      "11 31\n",
      "11 13\n",
      "12 14\n",
      "12 29\n",
      "13 31\n",
      "13 25\n",
      "13 49\n",
      "14 48\n",
      "15 27\n",
      "16 28\n",
      "16 19\n",
      "16 18\n",
      "17 24\n",
      "17 30\n",
      "18 25\n",
      "18 19\n",
      "18 49\n",
      "19 44\n",
      "19 25\n",
      "20 43\n",
      "21 43\n",
      "21 27\n",
      "21 22\n",
      "22 39\n",
      "23 28\n",
      "23 42\n",
      "23 24\n",
      "24 33\n",
      "24 42\n",
      "24 45\n",
      "26 30\n",
      "26 34\n",
      "27 43\n",
      "28 29\n",
      "28 44\n",
      "28 46\n",
      "30 45\n",
      "31 32\n",
      "32 43\n",
      "34 40\n",
      "34 37\n",
      "34 41\n",
      "35 39\n",
      "36 48\n",
      "36 38\n",
      "37 49\n",
      "37 41\n",
      "38 48\n",
      "38 39\n",
      "40 41\n",
      "42 46\n",
      "45 47\n",
      "45 49\n"
     ]
    }
   ],
   "source": [
    "g = nx.read_gml('../data/processed/networks/50_germany.gml', label='id')\n",
    "for u,v in g.edges():\n",
    "    print(f\"{u} {v}\")"
   ]
  },
  {
   "cell_type": "code",
   "execution_count": null,
   "metadata": {},
   "outputs": [],
   "source": [
    "control_values = []\n",
    "for latency_ratio in np.arange(0.1, 0.75, 0.04):\n",
    "    L = np.amax(l_matrix) * latency_ratio\n",
    "    c_matrix = controllability_matrix(fl_matrix, L)\n",
    "    controlled_node_numbers = np.amax(np.sum(c_matrix, axis=2), axis=1)\n",
    "    control_values.append(controlled_node_numbers)\n",
    "    print(f\"Latency ratio: {latency_ratio:.2f}\\tMax controlled nodes: {np.amax(controlled_node_numbers)}\")\n",
    "\n",
    "control_values = np.asarray(control_values)"
   ]
  },
  {
   "cell_type": "code",
   "execution_count": 4,
   "metadata": {},
   "outputs": [],
   "source": [
    "from src.data.graph_utilities import get_all_paths, construct_quartets"
   ]
  },
  {
   "cell_type": "code",
   "execution_count": 41,
   "metadata": {},
   "outputs": [
    {
     "name": "stdout",
     "output_type": "stream",
     "text": [
      "1\t0.08\t1.31\t36472\n",
      "2\t0.24\t2.20\t54941\n",
      "4\t0.65\t4.11\t65988\n",
      "8\t1.62\t9.70\t68712\n",
      "16\t3.73\t33.75\t69150\n",
      "32\t8.17\t146.24\t69194\n",
      "64\t18.42\t499.53\t69194\n"
     ]
    }
   ],
   "source": [
    "for k in [1,2,4,8,16,32,64]:\n",
    "    t1 = time.perf_counter()\n",
    "    all_paths = get_all_paths(g, max_length=4800, shortest_k=k)\n",
    "    t_path = time.perf_counter() - t1\n",
    "    t1 = time.perf_counter()\n",
    "    Q, Qc, Qs = construct_quartets(C, V, H, all_paths, 4000)\n",
    "    t_quartet = time.perf_counter() - t1\n",
    "    print(f\"{k}\\t{t_path:.2f}\\t{t_quartet:.2f}\\t{len(Q)}\")"
   ]
  },
  {
   "cell_type": "code",
   "execution_count": 18,
   "metadata": {},
   "outputs": [
    {
     "data": {
      "text/plain": [
       "50"
      ]
     },
     "execution_count": 18,
     "metadata": {},
     "output_type": "execute_result"
    }
   ],
   "source": [
    "np.max([len(paths) for key,paths in all_paths.items()])"
   ]
  },
  {
   "cell_type": "code",
   "execution_count": 22,
   "metadata": {},
   "outputs": [
    {
     "data": {
      "text/plain": [
       "36472"
      ]
     },
     "execution_count": 22,
     "metadata": {},
     "output_type": "execute_result"
    }
   ],
   "source": [
    "len(Q)"
   ]
  },
  {
   "cell_type": "code",
   "execution_count": 207,
   "metadata": {},
   "outputs": [],
   "source": [
    "\"\"\"Path-disjoint Set Cover\"\"\"\n",
    "# path: set of tuples\n",
    "# paths: list of path\n",
    "\n",
    "def latency_of_path(G, p):\n",
    "    length = 0\n",
    "    for u,v in p:\n",
    "        length += G[u][v]['length']\n",
    "    return length\n",
    "\n",
    "\n",
    "def k_shortest_paths(G, source, target, k, weight=\"length\"):\n",
    "    return list(\n",
    "        islice(nx.shortest_simple_paths(G, source, target, weight=weight), k)\n",
    "    )\n",
    "\n",
    "\n",
    "def path_as_edges(path):\n",
    "    if all(isinstance(x, int) for x in path):\n",
    "        return set(zip(path[0::], path[1::]))\n",
    "    elif all(isinstance(x, tuple) for x in path):\n",
    "        return path\n",
    "    else:\n",
    "        raise TypeError\n",
    "\n",
    "\n",
    "def get_paths(G, u, v, max_latency, shortest_k):\n",
    "    shortest_k_path = k_shortest_paths(G, u, v, shortest_k)\n",
    "    return list( path_as_edges(path) for path in shortest_k_path if latency_of_path(G, path_as_edges(path)) < max_latency)\n",
    "\n",
    "\n",
    "def get_shortest_paths(G, u, v):\n",
    "    return list(set(zip(path[0::], path[1::])) for path in nx.all_shortest_paths(G, u, v))\n",
    "\n",
    "\n",
    "def is_disjoint(p, q):\n",
    "    if isinstance(p, set) and isinstance(q, set):\n",
    "        return p.isdisjoint(q)\n",
    "    else:\n",
    "        print(f\"p: {isinstance(p, set)}\\nq:{isinstance(q, set)}\")\n",
    "        p_ = set(p)\n",
    "        q_ = set(q)\n",
    "        return p_.isdisjoint(q_)\n",
    "\n",
    "\n",
    "def is_path_disjoint(P, Q):\n",
    "    for p,q in product(P,Q):\n",
    "            if is_disjoint(p, q) and is_low_latency(p) and is_low_latency(q):\n",
    "                return True\n",
    "    return False\n",
    "\n",
    "def is_low_latency(p):\n",
    "    return len(p) < 2\n",
    "\n",
    "def is_path_disjoint_cover(G, f, f_, c, max_latency):\n",
    "    P = get_paths(G, f, c, max_latency, shortest_k=10)\n",
    "    Q = get_paths(G, f_, c, max_latency, shortest_k=10)\n",
    "    # P = list(set(zip(path[0::], path[1::])) for path in nx.all_shortest_paths(g, f, c))\n",
    "    # Q = list(set(zip(path[0::], path[1::])) for path in nx.all_shortest_paths(g, f_, c))\n",
    "    return is_path_disjoint(P, Q)\n",
    "\n",
    "\n",
    "def construct_triplets(G, C, F, max_latency):\n",
    "    T_self = set( (c,c,c) for c in C )\n",
    "    T_not_self = set(\n",
    "        (c, f, f_) for c,f,f_ in product(C,F,F)\n",
    "        if (c != f) and (c != f_) and (f < f_) and is_path_disjoint_cover(G, f, f_, c, max_latency)\n",
    "    )\n",
    "    return T_self | T_not_self\n",
    "\n",
    "\n",
    "def covered_customers(Tc, F, C):\n",
    "    covered = []\n",
    "    for c in C:\n",
    "        if c in F:\n",
    "            covered.append(c)\n",
    "            continue\n",
    "        for c, f, f_ in Tc[c]:\n",
    "            if (f in F) and (f_ in F):\n",
    "                covered.append(c)\n",
    "                break\n",
    "    return covered\n",
    "\n",
    "def get_facility_for_maxcover(C, C_, F, F_, Tc, Tf):\n",
    "    currently_covering = len(C_)\n",
    "    F_notused = list( set(F) - set(F_) )\n",
    "\n",
    "    covering = [len( covered_customers(Tc, list(F_) + [f], C) ) for f in F_notused]\n",
    "    # max_index = covering.index(max(covering))\n",
    "    max_covering = max(covering)\n",
    "    max_indexes = [idx for idx, value in enumerate(covering) if value == max_covering]\n",
    "    # print(\"Before: \", currently_covering, \"Possible: \", sorted(covering, reverse=True)[:5])\n",
    "    if max_covering > currently_covering:\n",
    "        return set( [ F_notused[choice(max_indexes)] ] )\n",
    "    else:\n",
    "        return None\n",
    "\n",
    "\n",
    "def get_facility_pair_for_maxcover(C, C_, F, F_, Tc, Tf):\n",
    "    currently_covering = len(C_)\n",
    "    F_notused = list(combinations( list(set(F)-set(F_)), 2))\n",
    "\n",
    "    covering = [len( covered_customers(Tc, list(F_) + [f, f_], C) ) for f, f_ in F_notused]\n",
    "    # max_index = covering.index(max(covering))\n",
    "    max_covering = max(covering)\n",
    "    max_indexes = [idx for idx, value in enumerate(covering) if value == max_covering]\n",
    "    # print(\"Before: \", currently_covering, \"Possible: \", sorted(covering, reverse=True)[:5])\n",
    "    if max_covering > currently_covering:\n",
    "        return set( F_notused[choice(max_indexes)] )\n",
    "    else:\n",
    "        return None\n",
    "\n",
    "\n",
    "def minimize_cover(C, C_, F_, Tc):\n",
    "    F_min = deepcopy(F_)\n",
    "    for f in F_:\n",
    "        if len( covered_customers(Tc, F_min - set([f]), C) ) == len(C_):\n",
    "            # print(\"Minimized\")\n",
    "            F_min.discard(f)\n",
    "    return F_min\n",
    "\n",
    "\n",
    "def greedy(C, F, Tc, Tf):\n",
    "    F_ = set()\n",
    "    C_ = set()\n",
    "    F_.update(get_facility_pair_for_maxcover(C, C_, F, F_, Tc, Tf))\n",
    "    while C != C_:\n",
    "        F_.update(get_facility_for_maxcover(C, C_, F, F_, Tc, Tf))\n",
    "        # print(\"Step 1:  \", F_)\n",
    "        C_ = covered_customers(Tc, F_, C)\n",
    "        F_ = minimize_cover(C, C_, F_, Tc)\n",
    "        # print(\"Step 2:  \", F_)\n",
    "        # print(\"Covered: \", len(C_))\n",
    "    return F_"
   ]
  },
  {
   "cell_type": "code",
   "execution_count": 191,
   "metadata": {},
   "outputs": [],
   "source": [
    "T = construct_triplets(g, V, H, max_latency=1000)\n",
    "\n",
    "Tf = {}\n",
    "Tc = {}\n",
    "\n",
    "for c, f, f_ in T:\n",
    "    if f in H:\n",
    "        Tf.setdefault(f, []).append((c,f,f_))\n",
    "    if c in V:\n",
    "        Tc.setdefault(c, []).append((c,f,f_))\n"
   ]
  },
  {
   "cell_type": "code",
   "execution_count": 208,
   "metadata": {
    "tags": []
   },
   "outputs": [
    {
     "name": "stdout",
     "output_type": "stream",
     "text": [
      "CPU times: user 1.6 s, sys: 7.92 ms, total: 1.6 s\n",
      "Wall time: 1.61 s\n"
     ]
    },
    {
     "data": {
      "text/plain": [
       "<AxesSubplot:ylabel='count'>"
      ]
     },
     "execution_count": 208,
     "metadata": {},
     "output_type": "execute_result"
    },
    {
     "data": {
      "image/png": "[encoded data removed]",
      "image/svg+xml": "<?xml version=\"1.0\" encoding=\"utf-8\" standalone=\"no\"?>\n<!DOCTYPE svg PUBLIC \"-//W3C//DTD SVG 1.1//EN\"\n  \"http://www.w3.org/Graphics/SVG/1.1/DTD/svg11.dtd\">\n<svg height=\"248.518125pt\" version=\"1.1\" viewBox=\"0 0 382.603125 248.518125\" width=\"382.603125pt\" xmlns=\"http://www.w3.org/2000/svg\" xmlns:xlink=\"http://www.w3.org/1999/xlink\">\n <metadata>\n  <rdf:RDF xmlns:cc=\"http://creativecommons.org/ns#\" xmlns:dc=\"http://purl.org/dc/elements/1.1/\" xmlns:rdf=\"http://www.w3.org/1999/02/22-rdf-syntax-ns#\">\n   <cc:Work>\n    <dc:type rdf:resource=\"http://purl.org/dc/dcmitype/StillImage\"/>\n    <dc:date>2021-05-07T16:40:36.183343</dc:date>\n    <dc:format>image/svg+xml</dc:format>\n    <dc:creator>\n     <cc:Agent>\n      <dc:title>Matplotlib v3.4.1, https://matplotlib.org/</dc:title>\n     </cc:Agent>\n    </dc:creator>\n   </cc:Work>\n  </rdf:RDF>\n </metadata>\n <defs>\n  <style type=\"text/css\">*{stroke-linecap:butt;stroke-linejoin:round;}</style>\n </defs>\n <g id=\"figure_1\">\n  <g id=\"patch_1\">\n   <path d=\"M 0 248.518125 \nL 382.603125 248.518125 \nL 382.603125 0 \nL 0 0 \nz\n\" style=\"fill:none;\"/>\n  </g>\n  <g id=\"axes_1\">\n   <g id=\"patch_2\">\n    <path d=\"M 40.603125 224.64 \nL 375.403125 224.64 \nL 375.403125 7.2 \nL 40.603125 7.2 \nz\n\" style=\"fill:#ffffff;\"/>\n   </g>\n   <g id=\"patch_3\">\n    <path clip-path=\"url(#p05f7e4256b)\" d=\"M 48.973125 224.64 \nL 115.933125 224.64 \nL 115.933125 37.276735 \nL 48.973125 37.276735 \nz\n\" style=\"fill:#3274a1;\"/>\n   </g>\n   <g id=\"patch_4\">\n    <path clip-path=\"url(#p05f7e4256b)\" d=\"M 132.673125 224.64 \nL 199.633125 224.64 \nL 199.633125 17.554286 \nL 132.673125 17.554286 \nz\n\" style=\"fill:#e1812c;\"/>\n   </g>\n   <g id=\"patch_5\">\n    <path clip-path=\"url(#p05f7e4256b)\" d=\"M 216.373125 224.64 \nL 283.333125 224.64 \nL 283.333125 130.958367 \nL 216.373125 130.958367 \nz\n\" style=\"fill:#3a923a;\"/>\n   </g>\n   <g id=\"patch_6\">\n    <path clip-path=\"url(#p05f7e4256b)\" d=\"M 300.073125 224.64 \nL 367.033125 224.64 \nL 367.033125 219.709388 \nL 300.073125 219.709388 \nz\n\" style=\"fill:#c03d3e;\"/>\n   </g>\n   <g id=\"matplotlib.axis_1\">\n    <g id=\"xtick_1\">\n     <g id=\"line2d_1\">\n      <defs>\n       <path d=\"M 0 0 \nL 0 3.5 \n\" id=\"med20ca012c\" style=\"stroke:#000000;stroke-width:0.8;\"/>\n      </defs>\n      <g>\n       <use style=\"stroke:#000000;stroke-width:0.8;\" x=\"82.453125\" xlink:href=\"#med20ca012c\" y=\"224.64\"/>\n      </g>\n     </g>\n     <g id=\"text_1\">\n      <!-- 13 -->\n      <g transform=\"translate(76.090625 239.238437)scale(0.1 -0.1)\">\n       <defs>\n        <path d=\"M 794 531 \nL 1825 531 \nL 1825 4091 \nL 703 3866 \nL 703 4441 \nL 1819 4666 \nL 2450 4666 \nL 2450 531 \nL 3481 531 \nL 3481 0 \nL 794 0 \nL 794 531 \nz\n\" id=\"DejaVuSans-31\" transform=\"scale(0.015625)\"/>\n        <path d=\"M 2597 2516 \nQ 3050 2419 3304 2112 \nQ 3559 1806 3559 1356 \nQ 3559 666 3084 287 \nQ 2609 -91 1734 -91 \nQ 1441 -91 1130 -33 \nQ 819 25 488 141 \nL 488 750 \nQ 750 597 1062 519 \nQ 1375 441 1716 441 \nQ 2309 441 2620 675 \nQ 2931 909 2931 1356 \nQ 2931 1769 2642 2001 \nQ 2353 2234 1838 2234 \nL 1294 2234 \nL 1294 2753 \nL 1863 2753 \nQ 2328 2753 2575 2939 \nQ 2822 3125 2822 3475 \nQ 2822 3834 2567 4026 \nQ 2313 4219 1838 4219 \nQ 1578 4219 1281 4162 \nQ 984 4106 628 3988 \nL 628 4550 \nQ 988 4650 1302 4700 \nQ 1616 4750 1894 4750 \nQ 2613 4750 3031 4423 \nQ 3450 4097 3450 3541 \nQ 3450 3153 3228 2886 \nQ 3006 2619 2597 2516 \nz\n\" id=\"DejaVuSans-33\" transform=\"scale(0.015625)\"/>\n       </defs>\n       <use xlink:href=\"#DejaVuSans-31\"/>\n       <use x=\"63.623047\" xlink:href=\"#DejaVuSans-33\"/>\n      </g>\n     </g>\n    </g>\n    <g id=\"xtick_2\">\n     <g id=\"line2d_2\">\n      <g>\n       <use style=\"stroke:#000000;stroke-width:0.8;\" x=\"166.153125\" xlink:href=\"#med20ca012c\" y=\"224.64\"/>\n      </g>\n     </g>\n     <g id=\"text_2\">\n      <!-- 14 -->\n      <g transform=\"translate(159.790625 239.238437)scale(0.1 -0.1)\">\n       <defs>\n        <path d=\"M 2419 4116 \nL 825 1625 \nL 2419 1625 \nL 2419 4116 \nz\nM 2253 4666 \nL 3047 4666 \nL 3047 1625 \nL 3713 1625 \nL 3713 1100 \nL 3047 1100 \nL 3047 0 \nL 2419 0 \nL 2419 1100 \nL 313 1100 \nL 313 1709 \nL 2253 4666 \nz\n\" id=\"DejaVuSans-34\" transform=\"scale(0.015625)\"/>\n       </defs>\n       <use xlink:href=\"#DejaVuSans-31\"/>\n       <use x=\"63.623047\" xlink:href=\"#DejaVuSans-34\"/>\n      </g>\n     </g>\n    </g>\n    <g id=\"xtick_3\">\n     <g id=\"line2d_3\">\n      <g>\n       <use style=\"stroke:#000000;stroke-width:0.8;\" x=\"249.853125\" xlink:href=\"#med20ca012c\" y=\"224.64\"/>\n      </g>\n     </g>\n     <g id=\"text_3\">\n      <!-- 15 -->\n      <g transform=\"translate(243.490625 239.238437)scale(0.1 -0.1)\">\n       <defs>\n        <path d=\"M 691 4666 \nL 3169 4666 \nL 3169 4134 \nL 1269 4134 \nL 1269 2991 \nQ 1406 3038 1543 3061 \nQ 1681 3084 1819 3084 \nQ 2600 3084 3056 2656 \nQ 3513 2228 3513 1497 \nQ 3513 744 3044 326 \nQ 2575 -91 1722 -91 \nQ 1428 -91 1123 -41 \nQ 819 9 494 109 \nL 494 744 \nQ 775 591 1075 516 \nQ 1375 441 1709 441 \nQ 2250 441 2565 725 \nQ 2881 1009 2881 1497 \nQ 2881 1984 2565 2268 \nQ 2250 2553 1709 2553 \nQ 1456 2553 1204 2497 \nQ 953 2441 691 2322 \nL 691 4666 \nz\n\" id=\"DejaVuSans-35\" transform=\"scale(0.015625)\"/>\n       </defs>\n       <use xlink:href=\"#DejaVuSans-31\"/>\n       <use x=\"63.623047\" xlink:href=\"#DejaVuSans-35\"/>\n      </g>\n     </g>\n    </g>\n    <g id=\"xtick_4\">\n     <g id=\"line2d_4\">\n      <g>\n       <use style=\"stroke:#000000;stroke-width:0.8;\" x=\"333.553125\" xlink:href=\"#med20ca012c\" y=\"224.64\"/>\n      </g>\n     </g>\n     <g id=\"text_4\">\n      <!-- 16 -->\n      <g transform=\"translate(327.190625 239.238437)scale(0.1 -0.1)\">\n       <defs>\n        <path d=\"M 2113 2584 \nQ 1688 2584 1439 2293 \nQ 1191 2003 1191 1497 \nQ 1191 994 1439 701 \nQ 1688 409 2113 409 \nQ 2538 409 2786 701 \nQ 3034 994 3034 1497 \nQ 3034 2003 2786 2293 \nQ 2538 2584 2113 2584 \nz\nM 3366 4563 \nL 3366 3988 \nQ 3128 4100 2886 4159 \nQ 2644 4219 2406 4219 \nQ 1781 4219 1451 3797 \nQ 1122 3375 1075 2522 \nQ 1259 2794 1537 2939 \nQ 1816 3084 2150 3084 \nQ 2853 3084 3261 2657 \nQ 3669 2231 3669 1497 \nQ 3669 778 3244 343 \nQ 2819 -91 2113 -91 \nQ 1303 -91 875 529 \nQ 447 1150 447 2328 \nQ 447 3434 972 4092 \nQ 1497 4750 2381 4750 \nQ 2619 4750 2861 4703 \nQ 3103 4656 3366 4563 \nz\n\" id=\"DejaVuSans-36\" transform=\"scale(0.015625)\"/>\n       </defs>\n       <use xlink:href=\"#DejaVuSans-31\"/>\n       <use x=\"63.623047\" xlink:href=\"#DejaVuSans-36\"/>\n      </g>\n     </g>\n    </g>\n   </g>\n   <g id=\"matplotlib.axis_2\">\n    <g id=\"ytick_1\">\n     <g id=\"line2d_5\">\n      <defs>\n       <path d=\"M 0 0 \nL -3.5 0 \n\" id=\"m4e69143216\" style=\"stroke:#000000;stroke-width:0.8;\"/>\n      </defs>\n      <g>\n       <use style=\"stroke:#000000;stroke-width:0.8;\" x=\"40.603125\" xlink:href=\"#m4e69143216\" y=\"224.64\"/>\n      </g>\n     </g>\n     <g id=\"text_5\">\n      <!-- 0 -->\n      <g transform=\"translate(27.240625 228.439219)scale(0.1 -0.1)\">\n       <defs>\n        <path d=\"M 2034 4250 \nQ 1547 4250 1301 3770 \nQ 1056 3291 1056 2328 \nQ 1056 1369 1301 889 \nQ 1547 409 2034 409 \nQ 2525 409 2770 889 \nQ 3016 1369 3016 2328 \nQ 3016 3291 2770 3770 \nQ 2525 4250 2034 4250 \nz\nM 2034 4750 \nQ 2819 4750 3233 4129 \nQ 3647 3509 3647 2328 \nQ 3647 1150 3233 529 \nQ 2819 -91 2034 -91 \nQ 1250 -91 836 529 \nQ 422 1150 422 2328 \nQ 422 3509 836 4129 \nQ 1250 4750 2034 4750 \nz\n\" id=\"DejaVuSans-30\" transform=\"scale(0.015625)\"/>\n       </defs>\n       <use xlink:href=\"#DejaVuSans-30\"/>\n      </g>\n     </g>\n    </g>\n    <g id=\"ytick_2\">\n     <g id=\"line2d_6\">\n      <g>\n       <use style=\"stroke:#000000;stroke-width:0.8;\" x=\"40.603125\" xlink:href=\"#m4e69143216\" y=\"199.986939\"/>\n      </g>\n     </g>\n     <g id=\"text_6\">\n      <!-- 5 -->\n      <g transform=\"translate(27.240625 203.786158)scale(0.1 -0.1)\">\n       <use xlink:href=\"#DejaVuSans-35\"/>\n      </g>\n     </g>\n    </g>\n    <g id=\"ytick_3\">\n     <g id=\"line2d_7\">\n      <g>\n       <use style=\"stroke:#000000;stroke-width:0.8;\" x=\"40.603125\" xlink:href=\"#m4e69143216\" y=\"175.333878\"/>\n      </g>\n     </g>\n     <g id=\"text_7\">\n      <!-- 10 -->\n      <g transform=\"translate(20.878125 179.133096)scale(0.1 -0.1)\">\n       <use xlink:href=\"#DejaVuSans-31\"/>\n       <use x=\"63.623047\" xlink:href=\"#DejaVuSans-30\"/>\n      </g>\n     </g>\n    </g>\n    <g id=\"ytick_4\">\n     <g id=\"line2d_8\">\n      <g>\n       <use style=\"stroke:#000000;stroke-width:0.8;\" x=\"40.603125\" xlink:href=\"#m4e69143216\" y=\"150.680816\"/>\n      </g>\n     </g>\n     <g id=\"text_8\">\n      <!-- 15 -->\n      <g transform=\"translate(20.878125 154.480035)scale(0.1 -0.1)\">\n       <use xlink:href=\"#DejaVuSans-31\"/>\n       <use x=\"63.623047\" xlink:href=\"#DejaVuSans-35\"/>\n      </g>\n     </g>\n    </g>\n    <g id=\"ytick_5\">\n     <g id=\"line2d_9\">\n      <g>\n       <use style=\"stroke:#000000;stroke-width:0.8;\" x=\"40.603125\" xlink:href=\"#m4e69143216\" y=\"126.027755\"/>\n      </g>\n     </g>\n     <g id=\"text_9\">\n      <!-- 20 -->\n      <g transform=\"translate(20.878125 129.826974)scale(0.1 -0.1)\">\n       <defs>\n        <path d=\"M 1228 531 \nL 3431 531 \nL 3431 0 \nL 469 0 \nL 469 531 \nQ 828 903 1448 1529 \nQ 2069 2156 2228 2338 \nQ 2531 2678 2651 2914 \nQ 2772 3150 2772 3378 \nQ 2772 3750 2511 3984 \nQ 2250 4219 1831 4219 \nQ 1534 4219 1204 4116 \nQ 875 4013 500 3803 \nL 500 4441 \nQ 881 4594 1212 4672 \nQ 1544 4750 1819 4750 \nQ 2544 4750 2975 4387 \nQ 3406 4025 3406 3419 \nQ 3406 3131 3298 2873 \nQ 3191 2616 2906 2266 \nQ 2828 2175 2409 1742 \nQ 1991 1309 1228 531 \nz\n\" id=\"DejaVuSans-32\" transform=\"scale(0.015625)\"/>\n       </defs>\n       <use xlink:href=\"#DejaVuSans-32\"/>\n       <use x=\"63.623047\" xlink:href=\"#DejaVuSans-30\"/>\n      </g>\n     </g>\n    </g>\n    <g id=\"ytick_6\">\n     <g id=\"line2d_10\">\n      <g>\n       <use style=\"stroke:#000000;stroke-width:0.8;\" x=\"40.603125\" xlink:href=\"#m4e69143216\" y=\"101.374694\"/>\n      </g>\n     </g>\n     <g id=\"text_10\">\n      <!-- 25 -->\n      <g transform=\"translate(20.878125 105.173913)scale(0.1 -0.1)\">\n       <use xlink:href=\"#DejaVuSans-32\"/>\n       <use x=\"63.623047\" xlink:href=\"#DejaVuSans-35\"/>\n      </g>\n     </g>\n    </g>\n    <g id=\"ytick_7\">\n     <g id=\"line2d_11\">\n      <g>\n       <use style=\"stroke:#000000;stroke-width:0.8;\" x=\"40.603125\" xlink:href=\"#m4e69143216\" y=\"76.721633\"/>\n      </g>\n     </g>\n     <g id=\"text_11\">\n      <!-- 30 -->\n      <g transform=\"translate(20.878125 80.520851)scale(0.1 -0.1)\">\n       <use xlink:href=\"#DejaVuSans-33\"/>\n       <use x=\"63.623047\" xlink:href=\"#DejaVuSans-30\"/>\n      </g>\n     </g>\n    </g>\n    <g id=\"ytick_8\">\n     <g id=\"line2d_12\">\n      <g>\n       <use style=\"stroke:#000000;stroke-width:0.8;\" x=\"40.603125\" xlink:href=\"#m4e69143216\" y=\"52.068571\"/>\n      </g>\n     </g>\n     <g id=\"text_12\">\n      <!-- 35 -->\n      <g transform=\"translate(20.878125 55.86779)scale(0.1 -0.1)\">\n       <use xlink:href=\"#DejaVuSans-33\"/>\n       <use x=\"63.623047\" xlink:href=\"#DejaVuSans-35\"/>\n      </g>\n     </g>\n    </g>\n    <g id=\"ytick_9\">\n     <g id=\"line2d_13\">\n      <g>\n       <use style=\"stroke:#000000;stroke-width:0.8;\" x=\"40.603125\" xlink:href=\"#m4e69143216\" y=\"27.41551\"/>\n      </g>\n     </g>\n     <g id=\"text_13\">\n      <!-- 40 -->\n      <g transform=\"translate(20.878125 31.214729)scale(0.1 -0.1)\">\n       <use xlink:href=\"#DejaVuSans-34\"/>\n       <use x=\"63.623047\" xlink:href=\"#DejaVuSans-30\"/>\n      </g>\n     </g>\n    </g>\n    <g id=\"text_14\">\n     <!-- count -->\n     <g transform=\"translate(14.798438 130.02625)rotate(-90)scale(0.1 -0.1)\">\n      <defs>\n       <path d=\"M 3122 3366 \nL 3122 2828 \nQ 2878 2963 2633 3030 \nQ 2388 3097 2138 3097 \nQ 1578 3097 1268 2742 \nQ 959 2388 959 1747 \nQ 959 1106 1268 751 \nQ 1578 397 2138 397 \nQ 2388 397 2633 464 \nQ 2878 531 3122 666 \nL 3122 134 \nQ 2881 22 2623 -34 \nQ 2366 -91 2075 -91 \nQ 1284 -91 818 406 \nQ 353 903 353 1747 \nQ 353 2603 823 3093 \nQ 1294 3584 2113 3584 \nQ 2378 3584 2631 3529 \nQ 2884 3475 3122 3366 \nz\n\" id=\"DejaVuSans-63\" transform=\"scale(0.015625)\"/>\n       <path d=\"M 1959 3097 \nQ 1497 3097 1228 2736 \nQ 959 2375 959 1747 \nQ 959 1119 1226 758 \nQ 1494 397 1959 397 \nQ 2419 397 2687 759 \nQ 2956 1122 2956 1747 \nQ 2956 2369 2687 2733 \nQ 2419 3097 1959 3097 \nz\nM 1959 3584 \nQ 2709 3584 3137 3096 \nQ 3566 2609 3566 1747 \nQ 3566 888 3137 398 \nQ 2709 -91 1959 -91 \nQ 1206 -91 779 398 \nQ 353 888 353 1747 \nQ 353 2609 779 3096 \nQ 1206 3584 1959 3584 \nz\n\" id=\"DejaVuSans-6f\" transform=\"scale(0.015625)\"/>\n       <path d=\"M 544 1381 \nL 544 3500 \nL 1119 3500 \nL 1119 1403 \nQ 1119 906 1312 657 \nQ 1506 409 1894 409 \nQ 2359 409 2629 706 \nQ 2900 1003 2900 1516 \nL 2900 3500 \nL 3475 3500 \nL 3475 0 \nL 2900 0 \nL 2900 538 \nQ 2691 219 2414 64 \nQ 2138 -91 1772 -91 \nQ 1169 -91 856 284 \nQ 544 659 544 1381 \nz\nM 1991 3584 \nL 1991 3584 \nz\n\" id=\"DejaVuSans-75\" transform=\"scale(0.015625)\"/>\n       <path d=\"M 3513 2113 \nL 3513 0 \nL 2938 0 \nL 2938 2094 \nQ 2938 2591 2744 2837 \nQ 2550 3084 2163 3084 \nQ 1697 3084 1428 2787 \nQ 1159 2491 1159 1978 \nL 1159 0 \nL 581 0 \nL 581 3500 \nL 1159 3500 \nL 1159 2956 \nQ 1366 3272 1645 3428 \nQ 1925 3584 2291 3584 \nQ 2894 3584 3203 3211 \nQ 3513 2838 3513 2113 \nz\n\" id=\"DejaVuSans-6e\" transform=\"scale(0.015625)\"/>\n       <path d=\"M 1172 4494 \nL 1172 3500 \nL 2356 3500 \nL 2356 3053 \nL 1172 3053 \nL 1172 1153 \nQ 1172 725 1289 603 \nQ 1406 481 1766 481 \nL 2356 481 \nL 2356 0 \nL 1766 0 \nQ 1100 0 847 248 \nQ 594 497 594 1153 \nL 594 3053 \nL 172 3053 \nL 172 3500 \nL 594 3500 \nL 594 4494 \nL 1172 4494 \nz\n\" id=\"DejaVuSans-74\" transform=\"scale(0.015625)\"/>\n      </defs>\n      <use xlink:href=\"#DejaVuSans-63\"/>\n      <use x=\"54.980469\" xlink:href=\"#DejaVuSans-6f\"/>\n      <use x=\"116.162109\" xlink:href=\"#DejaVuSans-75\"/>\n      <use x=\"179.541016\" xlink:href=\"#DejaVuSans-6e\"/>\n      <use x=\"242.919922\" xlink:href=\"#DejaVuSans-74\"/>\n     </g>\n    </g>\n   </g>\n   <g id=\"patch_7\">\n    <path d=\"M 40.603125 224.64 \nL 40.603125 7.2 \n\" style=\"fill:none;stroke:#000000;stroke-linecap:square;stroke-linejoin:miter;stroke-width:0.8;\"/>\n   </g>\n   <g id=\"patch_8\">\n    <path d=\"M 375.403125 224.64 \nL 375.403125 7.2 \n\" style=\"fill:none;stroke:#000000;stroke-linecap:square;stroke-linejoin:miter;stroke-width:0.8;\"/>\n   </g>\n   <g id=\"patch_9\">\n    <path d=\"M 40.603125 224.64 \nL 375.403125 224.64 \n\" style=\"fill:none;stroke:#000000;stroke-linecap:square;stroke-linejoin:miter;stroke-width:0.8;\"/>\n   </g>\n   <g id=\"patch_10\">\n    <path d=\"M 40.603125 7.2 \nL 375.403125 7.2 \n\" style=\"fill:none;stroke:#000000;stroke-linecap:square;stroke-linejoin:miter;stroke-width:0.8;\"/>\n   </g>\n  </g>\n </g>\n <defs>\n  <clipPath id=\"p05f7e4256b\">\n   <rect height=\"217.44\" width=\"334.8\" x=\"40.603125\" y=\"7.2\"/>\n  </clipPath>\n </defs>\n</svg>\n",
      "text/plain": [
       "<Figure size 432x288 with 1 Axes>"
      ]
     },
     "metadata": {
      "needs_background": "light"
     },
     "output_type": "display_data"
    }
   ],
   "source": [
    "%time sns.countplot(x=[len(greedy(V, H, Tc, Tf)) for i in range(100)])"
   ]
  },
  {
   "cell_type": "code",
   "execution_count": 130,
   "metadata": {},
   "outputs": [
    {
     "data": {
      "text/plain": [
       "(2, 20)"
      ]
     },
     "execution_count": 130,
     "metadata": {},
     "output_type": "execute_result"
    }
   ],
   "source": [
    "get_facility_pair_for_maxcover(V, set(), H, set(), Tc, Tf)"
   ]
  }
 ],
 "metadata": {
  "interpreter": {
   "hash": "198c5c8b06a543be5d206c29f99af937e4c5f8a9521fc2b90f586564194f4e7c"
  },
  "kernelspec": {
   "display_name": "Python 3.8.2 64-bit ('hp': conda)",
   "name": "python3"
  },
  "language_info": {
   "codemirror_mode": {
    "name": "ipython",
    "version": 3
   },
   "file_extension": ".py",
   "mimetype": "text/x-python",
   "name": "python",
   "nbconvert_exporter": "python",
   "pygments_lexer": "ipython3",
   "version": "3.8.2"
  },
  "orig_nbformat": 2
 },
 "nbformat": 4,
 "nbformat_minor": 2
}
