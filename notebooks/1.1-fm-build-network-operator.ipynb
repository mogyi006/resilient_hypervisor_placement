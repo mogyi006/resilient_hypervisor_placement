{
 "cells": [
  {
   "cell_type": "code",
   "execution_count": null,
   "metadata": {},
   "outputs": [],
   "source": [
    "%load_ext autoreload\n",
    "%autoreload 2"
   ]
  },
  {
   "cell_type": "code",
   "execution_count": null,
   "metadata": {},
   "outputs": [],
   "source": [
    "# Standard library imports.\n",
    "import collections\n",
    "\n",
    "# Related third party imports.\n",
    "import numpy as np\n",
    "import networkx as nx\n",
    "import matplotlib.pyplot as plt\n",
    "import seaborn as sns\n",
    "from tqdm import tqdm\n",
    "\n",
    "# Local application/library specific imports.\n",
    "from src.models.network_operator import NetworkOperator\n",
    "from src.models.network_simulation import NetworkSimulation\n",
    "import src.data.graph_utilities as gu"
   ]
  },
  {
   "cell_type": "code",
   "execution_count": null,
   "metadata": {},
   "outputs": [],
   "source": [
    "g = nx.read_gml(path='../data/processed/networks/26_usa.gml', label='id')\n",
    "latency_matrix = gu.create_latency_matrix(g)\n",
    "max_latency = np.amax(latency_matrix)\n",
    "print(\"Max distance: \", np.amax(latency_matrix))\n",
    "print(\"Min Max distance:\", np.amin(np.amax(latency_matrix, axis=1)))"
   ]
  },
  {
   "cell_type": "code",
   "execution_count": null,
   "metadata": {},
   "outputs": [],
   "source": [
    "settings = {'network_name':'25_italy', 'latency_factor':0.5, 'shortest_k':16}\n",
    "\n",
    "ns = NetworkSimulation(**settings)\n",
    "ns.init_simulation(**settings)"
   ]
  },
  {
   "cell_type": "code",
   "execution_count": null,
   "metadata": {},
   "outputs": [],
   "source": [
    "Q = ns.network_operator.quartets"
   ]
  },
  {
   "cell_type": "code",
   "execution_count": null,
   "metadata": {},
   "outputs": [],
   "source": [
    "stat_c = collections.defaultdict(int)\n",
    "\n",
    "stat_hp = np.zeros((ns.network_operator.get_node_count(), ns.network_operator.get_node_count()))\n",
    "stat_cs = np.zeros((ns.network_operator.get_node_count(), ns.network_operator.get_node_count()))\n",
    "\n",
    "for q in Q:\n",
    "    stat_c[q[0]] += 1\n",
    "    stat_hp[q[1], q[2]] += 1\n",
    "    stat_cs[q[0], q[3]] += 1"
   ]
  },
  {
   "cell_type": "code",
   "execution_count": null,
   "metadata": {},
   "outputs": [],
   "source": [
    "sns.heatmap(stat_hp)"
   ]
  },
  {
   "cell_type": "code",
   "execution_count": null,
   "metadata": {},
   "outputs": [],
   "source": [
    "sns.heatmap(stat_cs)"
   ]
  },
  {
   "cell_type": "code",
   "execution_count": null,
   "metadata": {},
   "outputs": [],
   "source": [
    "plt.bar(stat_c.keys(), stat_c.values())"
   ]
  },
  {
   "cell_type": "code",
   "execution_count": null,
   "metadata": {},
   "outputs": [],
   "source": [
    "for factor in np.linspace(0.1, 0.8, 8):\n",
    "    ml = max_latency * factor\n",
    "    ns = NetworkSimulation('26_usa', **{'max_length':ml, 'shortest_k':16})\n",
    "    ns.initial_hypervisor_placement(**{'repeat':50, 'optimize':'overall coverage', 'max_length':ml})\n",
    "    for rs in range(2,11):\n",
    "        ns.discard_old_vSDNs(all=True)\n",
    "        ns.generate_new_vSDN_requests(2000, rs, 10)\n",
    "        ns.setup_new_vSDN_requests(rs, ml, factor)"
   ]
  },
  {
   "cell_type": "code",
   "execution_count": null,
   "metadata": {
    "tags": []
   },
   "outputs": [],
   "source": [
    "# fig, ax = plt.subplots(9, 1, figsize=(12, 9*9))\n",
    "controller_usage = [np.zeros((len(g.nodes()),), dtype=int), np.zeros((len(g.nodes()),), dtype=int)]\n",
    "\n",
    "for j,factor in enumerate([0.5, 0.3]):\n",
    "    ml = max_latency * factor\n",
    "    ns = NetworkSimulation('25_italy', **{'max_length':ml, 'shortest_k':16})\n",
    "    ns.initital_hypervisor_placement(**{'repeat':50, 'select':'hypervisor count'})\n",
    "    for idx, rs in enumerate(range(2,11)):\n",
    "        ns.discard_old_vSDNs(all=True)\n",
    "        ns.generate_new_vSDN_requests(1000, rs, 10)\n",
    "        ns.setup_new_vSDN_requests(rs, ml, factor)\n",
    "        ac = ns.network_operator.get_active_controllers()\n",
    "        nodes, counts = np.unique(np.asarray(ac), return_counts=True)\n",
    "        for i,v in enumerate(nodes):\n",
    "            controller_usage[j][v] += counts[i]\n",
    "        # ax[idx].bar(nodes, counts)"
   ]
  },
  {
   "cell_type": "code",
   "execution_count": null,
   "metadata": {},
   "outputs": [],
   "source": [
    "x = np.arange(len(g.nodes()))  # the label locations\n",
    "width = 0.35  # the width of the bars\n",
    "\n",
    "fig, ax = plt.subplots(figsize=(12,6))\n",
    "rects1 = ax.bar(x - width/2, controller_usage[0]/np.sum(controller_usage[0]), width, label='Usage (0.5)')\n",
    "rects2 = ax.bar(x + width/2, controller_usage[1]/np.sum(controller_usage[1]), width, label='Usage (0.3)')\n",
    "\n",
    "# Add some text for labels, title and custom x-axis tick labels, etc.\n",
    "ax.set_ylabel('Used')\n",
    "ax.set_title('Conroller usage')\n",
    "ax.set_xticks(x)\n",
    "ax.set_xticklabels(g.nodes())\n",
    "ax.legend()\n",
    "\n",
    "# ax.bar_label(rects1, padding=3)\n",
    "# ax.bar_label(rects2, padding=3)\n",
    "\n",
    "fig.tight_layout()\n",
    "\n",
    "plt.show()"
   ]
  },
  {
   "cell_type": "code",
   "execution_count": null,
   "metadata": {},
   "outputs": [],
   "source": [
    "plt.hist(controller_usage[0]/np.sum(controller_usage[0]))\n",
    "plt.hist(controller_usage[1]/np.sum(controller_usage[1]))"
   ]
  },
  {
   "cell_type": "code",
   "execution_count": null,
   "metadata": {},
   "outputs": [],
   "source": [
    "for c, quartet_list in no.quartets_by_controllers.items():\n",
    "    print(c, len(np.unique([s for _,_,_,s in quartet_list])))"
   ]
  },
  {
   "cell_type": "code",
   "execution_count": null,
   "metadata": {},
   "outputs": [],
   "source": [
    "%time sns.countplot(x=[len(greedy(network_operator=no, start_with_pair=True)) for i in tqdm(range(13))])"
   ]
  },
  {
   "cell_type": "code",
   "execution_count": null,
   "metadata": {},
   "outputs": [],
   "source": [
    "greedy(network_operator=no, start_with_pair=True)"
   ]
  },
  {
   "cell_type": "code",
   "execution_count": null,
   "metadata": {},
   "outputs": [],
   "source": [
    "no.hypervisor_placement(**{'max_length':4000, 'shortest_k':10})\n"
   ]
  },
  {
   "cell_type": "code",
   "execution_count": null,
   "metadata": {},
   "outputs": [],
   "source": [
    "no.hypervisor_assignment"
   ]
  },
  {
   "cell_type": "code",
   "execution_count": null,
   "metadata": {},
   "outputs": [],
   "source": [
    "primary, backup = no.get_hypervisor_switch_latencies()"
   ]
  },
  {
   "cell_type": "code",
   "execution_count": null,
   "metadata": {},
   "outputs": [],
   "source": [
    "no.quartets_by_controllers[0][:10]"
   ]
  },
  {
   "cell_type": "code",
   "execution_count": null,
   "metadata": {},
   "outputs": [],
   "source": [
    "for c in no.possible_controllers:\n",
    "    print(c, set(s for _,h,h_,s in no.quartets_by_controllers[c] if (h in no.active_hypervisors) and (h_ in no.active_hypervisors) ))"
   ]
  },
  {
   "cell_type": "code",
   "execution_count": null,
   "metadata": {},
   "outputs": [],
   "source": [
    "for s in no.nodes:\n",
    "    print(s, set(c for c,_,_,_ in no.quartets_by_switches[s]))"
   ]
  }
 ],
 "metadata": {
  "interpreter": {
   "hash": "daa7306e9a45877ed9270412ef140ae5b39167d6d56ebf0e95a18a0cbaf1bce5"
  },
  "kernelspec": {
   "display_name": "Python 3",
   "language": "python",
   "name": "python3"
  },
  "language_info": {
   "codemirror_mode": {
    "name": "ipython",
    "version": 3
   },
   "file_extension": ".py",
   "mimetype": "text/x-python",
   "name": "python",
   "nbconvert_exporter": "python",
   "pygments_lexer": "ipython3",
   "version": "3.8.2"
  }
 },
 "nbformat": 4,
 "nbformat_minor": 4
}
