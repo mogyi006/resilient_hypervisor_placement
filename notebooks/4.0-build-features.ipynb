{
 "cells": [
  {
   "cell_type": "code",
   "execution_count": null,
   "metadata": {},
   "outputs": [],
   "source": [
    "%load_ext autoreload\n",
    "%autoreload 2"
   ]
  },
  {
   "cell_type": "code",
   "execution_count": null,
   "metadata": {},
   "outputs": [],
   "source": [
    "# Standard library imports.\n",
    "import os\n",
    "os.environ[\"DGLBACKEND\"] = \"pytorch\"\n",
    "import random\n",
    "import itertools\n",
    "import logging\n",
    "import datetime\n",
    "import collections\n",
    "\n",
    "# Related third party imports.\n",
    "import pandas as pd\n",
    "import numpy as np\n",
    "import networkx as nx\n",
    "import matplotlib.pyplot as plt\n",
    "import tqdm\n",
    "\n",
    "import dgl\n",
    "import torch\n",
    "import torch.nn as nn\n",
    "import torch.nn.functional as F\n",
    "import sklearn.metrics\n",
    "\n",
    "\n",
    "# Local application/library specific imports.\n",
    "from src.models.network_simulation import NetworkSimulation\n",
    "import src.logger as logger\n",
    "import src.models.gnn as gnn\n",
    "import src.models.hypervisor_placement as hypervisor_placement\n",
    "\n",
    "logging.basicConfig(\n",
    "    format=\"[%(funcName)30s()] %(message)s\",\n",
    "    level=logging.DEBUG,\n",
    "    force=True,\n",
    ")\n",
    "\n",
    "# os.environ[\"PATH\"] += os.pathsep + '/home/ubuntu/texlive/2022/bin/x86_64-linux'\n",
    "# plt.style.use(['../custom-ieee.mplstyle'])\n"
   ]
  },
  {
   "cell_type": "code",
   "execution_count": null,
   "metadata": {},
   "outputs": [],
   "source": [
    "\n",
    "networks = [('25_italy', 25), ('26_usa', 26), ('37_cost', 37),\n",
    "            ('50_germany', 50)]\n",
    "network_name, max_vSDN_size = networks[1]\n",
    "\n",
    "simulation_group_id = datetime.datetime.now().strftime('%Y-%m-%d-%H-%M-%S')\n",
    "simulation_group_folder = f\"../results/{network_name}/static/tmp/{simulation_group_id}/\"\n",
    "os.mkdir(simulation_group_folder)\n",
    "\n",
    "hp_possibilities = {\n",
    "    'heu': ('heuristics', 'hypervisor count'),\n",
    "    'heu_scs': ('heuristics', 'combined S CS'),\n",
    "    'mc': ('heuristics', 'main controller'),\n",
    "    'ilpk': ('ilp', 'hypervisor count'),\n",
    "    'ilpa': ('ilp', 'acceptance ratio'),\n",
    "    'ilpaf': ('ilp', 'acceptance and flexibility'),\n",
    "}\n",
    "static_type = 'ilpa'\n",
    "hp_type, hp_objective = hp_possibilities[static_type]\n",
    "\n",
    "hp_objective_list = (\n",
    "    'acceptance_ratio',\n",
    "    # 'hypervisor_load',\n",
    "    # 'controller_load_request',\n",
    "    # 'controller_load_switch',\n",
    ")\n",
    "\n",
    "hp_algo_settings = {\n",
    "    'hp_type': [hp_type],\n",
    "    'hp_objective': [hp_objective],\n",
    "    'hp_objectives': [\n",
    "        hp_objective_list\n",
    "        # hp_obj for hp_obj in itertools.permutations(hp_objective_list)\n",
    "        # if hp_obj[0] == 'acceptance_ratio'\n",
    "    ],\n",
    "    'candidate_selection': ['acceptance_ratio'],\n",
    "    'n_extra_hypervisors': [0],\n",
    "    'hypervisor_capacity': [None],\n",
    "    'controller_capacity': [None],\n",
    "    'n_diff_hypervisors': [0],\n",
    "    'flexibility_weight': [None],\n",
    "    'repeat': [50],\n",
    "    'heuristic_randomness': [0.1],\n",
    "}\n",
    "\n",
    "simulation_settings = {\n",
    "    'simulation_group_id': [simulation_group_id],\n",
    "    'simulation_group_folder': [simulation_group_folder],\n",
    "    'network_name': [network_name],\n",
    "    'latency_factor': [0.5],\n",
    "    'shortest_k': [16],\n",
    "    'static_type': [static_type],\n",
    "    'sim_repeat': [200],\n",
    "    'max_request_size': [max(2, int(max_vSDN_size * 0.75))],\n",
    "    'vSDN_count_ilp': [5, 10, 20, 50, 100, 200],\n",
    "    'vSDN_size_ilp': [max(2, int(max_vSDN_size * 0.75))],\n",
    "}\n",
    "\n",
    "possible_settings = {**hp_algo_settings, **simulation_settings}\n",
    "param_names_1 = list(possible_settings.keys())\n",
    "setting_generator = [\n",
    "    dict(zip(param_names_1, x))\n",
    "    for x in itertools.product(*possible_settings.values())\n",
    "]\n",
    "\n",
    "possible_request_settings = {\n",
    "    'request_size': np.arange(max_vSDN_size, 1, -1),\n",
    "    'count': [100],\n",
    "}\n",
    "\n",
    "logging.info(f\"\\n'{simulation_group_folder}simulation-group-results.json'\\n\")\n",
    "\n",
    "simulation_logs = []\n",
    "dgl_graphs = []\n",
    "for setting in tqdm.tqdm(setting_generator, total=len(setting_generator)):\n",
    "    print()\n",
    "    ns = NetworkSimulation(**setting)\n",
    "    ns.init_simulation(**setting)\n",
    "    ns.run_multiple_static_simulation(\n",
    "        possible_request_settings=possible_request_settings, generate_dgl=True, **setting)\n",
    "    simulation_logs.extend(ns.get_logs())\n",
    "\n",
    "    n_graphs = len(ns.dgl_graphs)\n",
    "    dgl_graphs.extend(ns.dgl_graphs)\n",
    "\n",
    "dgl_graph = dgl.batch(dgl_graphs)\n",
    "\n",
    "# logger.save2json(simulation_group_folder + \"simulation-group-results.json\",\n",
    "#                  simulation_logs)\n"
   ]
  },
  {
   "cell_type": "code",
   "execution_count": null,
   "metadata": {},
   "outputs": [],
   "source": [
    "dgl.save_graphs(\"../data/processed/dgl_graphs/25_italy_600.bin\", dgl_graph)"
   ]
  },
  {
   "cell_type": "code",
   "execution_count": null,
   "metadata": {},
   "outputs": [],
   "source": [
    "glist, label_dict = dgl.load_graphs(\"../data/processed/dgl_graphs/25_italy_0.6_600.bin\")\n",
    "dgl_graph = glist[0]"
   ]
  },
  {
   "cell_type": "code",
   "execution_count": null,
   "metadata": {},
   "outputs": [],
   "source": [
    "dgl_graph"
   ]
  },
  {
   "cell_type": "code",
   "execution_count": null,
   "metadata": {},
   "outputs": [],
   "source": [
    "node_counts = collections.Counter()\n",
    "for request in ns.vSDN_requests_ilp:\n",
    "    node_counts.update(request.switches)\n",
    "\n",
    "ordered_array = sorted(node_counts.items(), key=lambda x: x[0], reverse=False)\n",
    "ordered_array = np.array([x[1] for x in ordered_array])\n",
    "\n",
    "ordered_array = ordered_array / ordered_array.max()\n",
    "print(ordered_array)\n"
   ]
  },
  {
   "cell_type": "code",
   "execution_count": null,
   "metadata": {},
   "outputs": [],
   "source": [
    "\n",
    "hypervisor_vector = [1 if node in ns.network_operator.active_hypervisors else 0 for node in ns.network_operator.graph.nodes]\n",
    "\n",
    "print(hypervisor_vector)\n"
   ]
  },
  {
   "cell_type": "code",
   "execution_count": null,
   "metadata": {},
   "outputs": [],
   "source": [
    "dgl_graph.ndata['features'].shape"
   ]
  },
  {
   "cell_type": "code",
   "execution_count": null,
   "metadata": {},
   "outputs": [],
   "source": [
    "gnn.assign_masks_to_graph(dgl_graph, train_ratio=0.8, val_ratio=0.1, shuffle=True)\n",
    "features = dgl_graph.ndata['features']\n",
    "labels = dgl_graph.ndata['label']\n",
    "train_mask = dgl_graph.ndata['train_mask']\n",
    "val_mask = dgl_graph.ndata['val_mask']\n",
    "test_mask = dgl_graph.ndata['test_mask']\n",
    "\n",
    "gnn_model, training_logs = gnn.train_gnn(\n",
    "    dgl_graph,\n",
    "    n_layers=4, n_hidden=100,\n",
    "    lr=1e-2, weight_decay=5e-3,\n",
    "    n_epochs=1001, weight=3.0\n",
    ")"
   ]
  },
  {
   "cell_type": "code",
   "execution_count": null,
   "metadata": {},
   "outputs": [],
   "source": [
    "training_logs['val_loss'][:10]"
   ]
  },
  {
   "cell_type": "code",
   "execution_count": null,
   "metadata": {},
   "outputs": [],
   "source": [
    "# plot training loss\n",
    "\n",
    "fig, ax = plt.subplots()\n",
    "ax.plot(training_logs['loss'][:], label='Training loss')\n",
    "ax.plot(training_logs['val_loss'][:], label='Validation loss')\n",
    "ax.set_xlabel('Epoch')\n",
    "ax.set_ylabel('Loss')\n",
    "ax.set_ylim(0, 1)\n",
    "ax.legend();\n",
    "\n",
    "# plt.savefig('../reports/figures/2024-/gnn-training-usa-2000.pdf')"
   ]
  },
  {
   "cell_type": "code",
   "execution_count": null,
   "metadata": {},
   "outputs": [],
   "source": [
    "gnn.plot_roc(gnn_model, dgl_graph, features, labels, [train_mask, test_mask])"
   ]
  },
  {
   "cell_type": "code",
   "execution_count": null,
   "metadata": {},
   "outputs": [],
   "source": [
    "gnn.plot_score_distribution(gnn_model, dgl_graph, features, labels);"
   ]
  },
  {
   "cell_type": "code",
   "execution_count": null,
   "metadata": {},
   "outputs": [],
   "source": [
    "gnn.plot_precision_recall_curve(gnn_model, dgl_graph, features, labels)"
   ]
  },
  {
   "cell_type": "code",
   "execution_count": null,
   "metadata": {},
   "outputs": [],
   "source": [
    "gnn.save_model(gnn_model, \"../models/\", 'gnn_model_italy_0.6_1000')"
   ]
  },
  {
   "cell_type": "code",
   "execution_count": null,
   "metadata": {},
   "outputs": [],
   "source": [
    "gnn_model.parameter_dict"
   ]
  },
  {
   "cell_type": "code",
   "execution_count": null,
   "metadata": {},
   "outputs": [],
   "source": [
    "gnn_model_2 = gnn.GCN(in_feats=8,\n",
    "                    hid_feats=100,\n",
    "                    out_feats=1,\n",
    "                    n_layers=4)\n",
    "\n",
    "\n",
    "gnn_model_2.load_state_dict(torch.load('../models/gnn_model_1.pt'))\n",
    "gnn_model_2.eval()"
   ]
  },
  {
   "cell_type": "code",
   "execution_count": null,
   "metadata": {},
   "outputs": [],
   "source": [
    "plot_score_distribution(gnn_model_2, dgl_graph, features, labels)"
   ]
  },
  {
   "cell_type": "markdown",
   "metadata": {},
   "source": [
    "# Test on 1 graph"
   ]
  },
  {
   "cell_type": "code",
   "execution_count": null,
   "metadata": {},
   "outputs": [],
   "source": [
    "import numpy as np\n",
    "hypervisor_scores = hypervisor_placement.gnn_hypervisor_scoring(\n",
    "    ns, **{\n",
    "        'path': '../models/',\n",
    "        'filename': 'gnn_model_1',\n",
    "    }\n",
    ")\n",
    "\n",
    "# Assuming you have an array called 'array'\n",
    "k = 5  # Number of largest items to select\n",
    "largest_indices = np.argsort(hypervisor_scores)[-k:]\n",
    "largest_items = hypervisor_scores[largest_indices]\n",
    "\n",
    "print(largest_indices)\n",
    "print(largest_items)\n"
   ]
  },
  {
   "cell_type": "code",
   "execution_count": null,
   "metadata": {},
   "outputs": [],
   "source": [
    "\n",
    "test_graph = dgl_graphs[0]\n",
    "test_features = test_graph.ndata['features']\n",
    "test_labels = test_graph.ndata['label']\n",
    "\n",
    "gnn_model.eval()\n",
    "with torch.no_grad():\n",
    "    logits = gnn_model(test_graph, test_features)\n",
    "    print((logits>0.55).sum())"
   ]
  },
  {
   "cell_type": "code",
   "execution_count": null,
   "metadata": {},
   "outputs": [],
   "source": [
    "plot_score_distribution(gnn_model, test_graph, test_features, test_labels)"
   ]
  },
  {
   "cell_type": "code",
   "execution_count": null,
   "metadata": {},
   "outputs": [],
   "source": [
    "for test_graph in dgl_graphs:\n",
    "    test_features = test_graph.ndata['features']\n",
    "    test_labels = test_graph.ndata['label']\n",
    "\n",
    "    gnn_model.eval()\n",
    "    with torch.no_grad():\n",
    "        logits = gnn_model(test_graph, test_features)\n",
    "        print((logits>0.5).sum())\n",
    "\n",
    "    # plor_score_distribution(gnn_model, test_graph, test_features, test_labels)"
   ]
  },
  {
   "cell_type": "markdown",
   "metadata": {},
   "source": [
    "# Test"
   ]
  },
  {
   "cell_type": "code",
   "execution_count": null,
   "metadata": {},
   "outputs": [],
   "source": [
    "\n",
    "networks = [('25_italy', 25), ('26_usa', 26), ('37_cost', 37),\n",
    "            ('50_germany', 50)]\n",
    "network_name, max_vSDN_size = networks[1]\n",
    "\n",
    "simulation_group_id = datetime.datetime.now().strftime('%Y-%m-%d-%H-%M-%S')\n",
    "simulation_group_folder = f\"../results/{network_name}/static/tmp/{simulation_group_id}/\"\n",
    "os.mkdir(simulation_group_folder)\n",
    "\n",
    "hp_possibilities = {\n",
    "    'heu': ('heuristics', 'hypervisor count'),\n",
    "    'heu_scs': ('heuristics', 'combined S CS'),\n",
    "    'mc': ('heuristics', 'main controller'),\n",
    "    'ilpk': ('ilp', 'hypervisor count'),\n",
    "    'ilpa': ('ilp', 'acceptance ratio'),\n",
    "    'ilpaf': ('ilp', 'acceptance and flexibility'),\n",
    "    'gnn': ('gnn', 'acceptance ratio'),\n",
    "}\n",
    "static_type = 'gnn'\n",
    "hp_type, hp_objective = hp_possibilities[static_type]\n",
    "\n",
    "hp_objective_list = (\n",
    "    'acceptance_ratio',\n",
    "    # 'hypervisor_load',\n",
    "    # 'controller_load_request',\n",
    "    # 'controller_load_switch',\n",
    ")\n",
    "\n",
    "hp_algo_settings = {\n",
    "    'hp_type': [hp_type],\n",
    "    'hp_objective': [hp_objective],\n",
    "    'hp_objectives': [\n",
    "        hp_objective_list\n",
    "        # hp_obj for hp_obj in itertools.permutations(hp_objective_list)\n",
    "        # if hp_obj[0] == 'acceptance_ratio'\n",
    "    ],\n",
    "    'candidate_selection': ['acceptance_ratio'],\n",
    "    'n_extra_hypervisors': [0],\n",
    "    'hypervisor_capacity': [None],\n",
    "    'controller_capacity': [None],\n",
    "    'n_diff_hypervisors': [0],\n",
    "    'flexibility_weight': [None],\n",
    "    'repeat': [50],\n",
    "    'heuristic_randomness': [0.1],\n",
    "    'path2model': ['../models/'],\n",
    "    'model_name': ['gnn_model_1'],\n",
    "}\n",
    "\n",
    "simulation_settings = {\n",
    "    'simulation_group_id': [simulation_group_id],\n",
    "    'simulation_group_folder': [simulation_group_folder],\n",
    "    'network_name': [network_name],\n",
    "    'latency_factor': [0.5],\n",
    "    'shortest_k': [16],\n",
    "    'static_type': [static_type],\n",
    "    'sim_repeat': [10],\n",
    "    'max_request_size': [max(2, int(max_vSDN_size * 0.75))],\n",
    "    'vSDN_count_ilp': [100],\n",
    "    'vSDN_size_ilp': [max(2, int(max_vSDN_size * 0.75))],\n",
    "}\n",
    "\n",
    "possible_settings = {**hp_algo_settings, **simulation_settings}\n",
    "param_names_1 = list(possible_settings.keys())\n",
    "setting_generator = [\n",
    "    dict(zip(param_names_1, x))\n",
    "    for x in itertools.product(*possible_settings.values())\n",
    "]\n",
    "\n",
    "possible_request_settings = {\n",
    "    'request_size': np.arange(max_vSDN_size, 1, -1),\n",
    "    'count': [400],\n",
    "}\n",
    "\n",
    "logging.info(f\"\\n'{simulation_group_folder}simulation-group-results.json'\\n\")\n",
    "\n",
    "simulation_logs = []\n",
    "for setting in tqdm.tqdm(setting_generator, total=len(setting_generator)):\n",
    "    print()\n",
    "    ns = NetworkSimulation(**setting)\n",
    "    ns.init_simulation(**setting)\n",
    "    ns.run_multiple_static_simulation(\n",
    "        possible_request_settings=possible_request_settings, generate_dgl=False, **setting)\n",
    "    simulation_logs.extend(ns.get_logs())\n",
    "\n",
    "logger.save2json(simulation_group_folder + \"simulation-group-results.json\",\n",
    "                 simulation_logs)\n"
   ]
  }
 ],
 "metadata": {
  "kernelspec": {
   "display_name": "hp",
   "language": "python",
   "name": "python3"
  },
  "language_info": {
   "codemirror_mode": {
    "name": "ipython",
    "version": 3
   },
   "file_extension": ".py",
   "mimetype": "text/x-python",
   "name": "python",
   "nbconvert_exporter": "python",
   "pygments_lexer": "ipython3",
   "version": "3.11.7"
  }
 },
 "nbformat": 4,
 "nbformat_minor": 2
}
