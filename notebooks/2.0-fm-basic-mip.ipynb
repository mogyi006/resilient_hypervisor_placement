{
 "cells": [
  {
   "cell_type": "code",
   "execution_count": 1,
   "metadata": {},
   "outputs": [],
   "source": [
    "%load_ext autoreload\n",
    "%autoreload 2"
   ]
  },
  {
   "cell_type": "code",
   "execution_count": 2,
   "metadata": {},
   "outputs": [],
   "source": [
    "# Standard library imports.\n",
    "import itertools\n",
    "\n",
    "# Related third party imports.\n",
    "import numpy as np\n",
    "import networkx as nx\n",
    "import matplotlib.pyplot as plt\n",
    "import seaborn as sns\n",
    "import gurobipy as gp\n",
    "from gurobipy import GRB\n",
    "\n",
    "# Local application/library specific imports.\n",
    "from src.models.network_simulation import NetworkSimulation\n",
    "import src.data.graph_utilities as gu"
   ]
  },
  {
   "cell_type": "code",
   "execution_count": 15,
   "metadata": {},
   "outputs": [],
   "source": [
    "network_folder = '../data/processed/networks'\n",
    "network_name = '26_usa'\n",
    "factor = 0.5\n",
    "\n",
    "# Load data\n",
    "g = nx.read_gml(f'{network_folder}/{network_name}.gml', label=\"id\")\n",
    "diameter = gu.get_graph_diameter(g)\n",
    "ml = diameter * factor\n",
    "\n",
    "ns = NetworkSimulation(network_name, **{'max_length':ml, 'shortest_k':16})\n",
    "S, H, C = list(g.nodes), list(g.nodes), list(g.nodes)\n",
    "H_pairs = list(itertools.combinations(H, 2))\n",
    "switch_H_pairs = gu.get_allowed_switch_hypervisor_pairs(ns.network_operator.triplets_by_switches)\n",
    "# switch_H_pairs = {s:[(i,j) for _,i,j in ns.network_operator.triplets_by_switches[s] if (i!=s and j!=s)] for s in S}\n"
   ]
  },
  {
   "cell_type": "code",
   "execution_count": 16,
   "metadata": {},
   "outputs": [
    {
     "name": "stdout",
     "output_type": "stream",
     "text": [
      "Gurobi Optimizer version 9.1.2 build v9.1.2rc0 (linux64)\n",
      "Thread count: 4 physical cores, 8 logical processors, using up to 8 threads\n",
      "Optimize a model with 26 rows, 351 columns and 2099 nonzeros\n",
      "Model fingerprint: 0x6f02ece9\n",
      "Model has 325 general constraints\n",
      "Variable types: 0 continuous, 351 integer (351 binary)\n",
      "Coefficient statistics:\n",
      "  Matrix range     [1e+00, 1e+00]\n",
      "  Objective range  [1e+00, 1e+00]\n",
      "  Bounds range     [1e+00, 1e+00]\n",
      "  RHS range        [1e+00, 1e+00]\n",
      "Found heuristic solution: objective 26.0000000\n",
      "Presolve added 418 rows and 0 columns\n",
      "Presolve removed 0 rows and 116 columns\n",
      "Presolve time: 0.01s\n",
      "Presolved: 444 rows, 235 columns, 2935 nonzeros\n",
      "Variable types: 0 continuous, 235 integer (235 binary)\n",
      "\n",
      "Root relaxation: objective 1.166508e+00, 250 iterations, 0.01 seconds\n",
      "\n",
      "    Nodes    |    Current Node    |     Objective Bounds      |     Work\n",
      " Expl Unexpl |  Obj  Depth IntInf | Incumbent    BestBd   Gap | It/Node Time\n",
      "\n",
      "     0     0    1.16651    0   92   26.00000    1.16651  95.5%     -    0s\n",
      "H    0     0                       5.0000000    1.16651  76.7%     -    0s\n",
      "H    0     0                       4.0000000    1.16651  70.8%     -    0s\n",
      "     0     0    2.24493    0   73    4.00000    2.24493  43.9%     -    0s\n",
      "     0     0    2.27465    0   70    4.00000    2.27465  43.1%     -    0s\n",
      "     0     0    2.27582    0   74    4.00000    2.27582  43.1%     -    0s\n",
      "     0     0    2.52910    0   87    4.00000    2.52910  36.8%     -    0s\n",
      "     0     0    2.54185    0   90    4.00000    2.54185  36.5%     -    0s\n",
      "     0     0    2.56257    0   95    4.00000    2.56257  35.9%     -    0s\n",
      "     0     0    2.78807    0   78    4.00000    2.78807  30.3%     -    0s\n",
      "     0     0    2.79719    0   83    4.00000    2.79719  30.1%     -    0s\n",
      "     0     0    2.79754    0   82    4.00000    2.79754  30.1%     -    0s\n",
      "\n",
      "Cutting planes:\n",
      "  Gomory: 4\n",
      "  MIR: 4\n",
      "  GUB cover: 1\n",
      "  Zero half: 6\n",
      "  Mod-K: 3\n",
      "  RLT: 16\n",
      "\n",
      "Explored 1 nodes (658 simplex iterations) in 0.26 seconds\n",
      "Thread count was 8 (of 8 available processors)\n",
      "\n",
      "Solution count 3: 4 5 26 \n",
      "\n",
      "Optimal solution found (tolerance 1.00e-04)\n",
      "Best objective 4.000000000000e+00, best bound 4.000000000000e+00, gap 0.0000%\n"
     ]
    }
   ],
   "source": [
    "model = gp.Model(\"mip1\")\n",
    "\n",
    "active_hypervisors = model.addVars(H, vtype=GRB.BINARY)\n",
    "active_hypervisor_pairs = model.addVars(H_pairs, vtype=GRB.BINARY)\n",
    "\n",
    "c_1 = model.addConstrs(active_hypervisor_pairs[(i,j)] == gp.min_(active_hypervisors[i], active_hypervisors[j]) for i,j in H_pairs)\n",
    "c_2 = model.addConstrs(active_hypervisors[s] + gp.LinExpr([(1.0, active_hypervisor_pairs[(i,j)]) for i,j in switch_H_pairs[s]]) >= 1 for s in S)\n",
    "\n",
    "model.setObjective(gp.quicksum(active_hypervisors), GRB.MINIMIZE)\n",
    "model.optimize()"
   ]
  },
  {
   "cell_type": "code",
   "execution_count": 17,
   "metadata": {},
   "outputs": [
    {
     "name": "stdout",
     "output_type": "stream",
     "text": [
      "1\n",
      "2\n",
      "4\n",
      "6\n",
      "Obj: 4\n"
     ]
    }
   ],
   "source": [
    "for h,v in active_hypervisors.items():\n",
    "    if v.x > 0.9:\n",
    "        print('%s' % (h))\n",
    "print('Obj: %g' % model.objVal)"
   ]
  }
 ],
 "metadata": {
  "kernelspec": {
   "display_name": "Python 3",
   "language": "python",
   "name": "python3"
  },
  "language_info": {
   "codemirror_mode": {
    "name": "ipython",
    "version": 3
   },
   "file_extension": ".py",
   "mimetype": "text/x-python",
   "name": "python",
   "nbconvert_exporter": "python",
   "pygments_lexer": "ipython3",
   "version": "3.8.2"
  }
 },
 "nbformat": 4,
 "nbformat_minor": 4
}
