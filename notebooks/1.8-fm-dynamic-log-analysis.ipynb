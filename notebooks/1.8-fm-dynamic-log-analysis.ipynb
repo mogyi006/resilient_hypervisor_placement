{
 "cells": [
  {
   "cell_type": "code",
   "execution_count": null,
   "metadata": {},
   "outputs": [],
   "source": [
    "%load_ext autoreload\n",
    "%autoreload 2"
   ]
  },
  {
   "cell_type": "code",
   "execution_count": null,
   "metadata": {},
   "outputs": [],
   "source": [
    "# Standard library imports.\n",
    "import itertools\n",
    "import json\n",
    "import glob\n",
    "\n",
    "# Related third party imports.\n",
    "import pandas as pd\n",
    "import numpy as np\n",
    "import matplotlib.pyplot as plt\n",
    "import seaborn as sns\n",
    "\n",
    "plt.style.use(['science','notebook'])\n",
    "\n",
    "# Local application/library specific imports.\n",
    "\n",
    "\n",
    "def add_cumulative(df):\n",
    "    for sim_id in df['simulation_id'].unique():\n",
    "        for sim_round in df['simulation_round'].unique():\n",
    "            mask = (df['simulation_id'] == sim_id) & (df['simulation_round'] == sim_round)\n",
    "            df.loc[mask,'acceptable_count_cum'] = df.loc[mask,'acceptable_count'].cumsum()\n",
    "            df.loc[mask,'active_vSDN_count_cum'] = df.loc[mask,'active_vSDN_count'].cumsum()\n",
    "            df.loc[mask,'vSDN_count_cum'] = df.loc[mask,'vSDN_count'].cumsum()\n",
    "            df.loc[mask,'hp_changed_cum'] = df.loc[mask,'hp_changed'].cumsum()\n",
    "            df.loc[mask,'acceptance_ratio_cum'] = df.loc[mask,'acceptable_count_cum'] / df.loc[mask,'vSDN_count_cum']\n",
    "    return df\n",
    "\n",
    "def get_mean(df, sim_timesteps: int = 50):\n",
    "    df_ = df.drop(labels=['h_list', 'switch_hpair_count'], axis=1)\n",
    "    return df_.groupby(by=['dynamic_simulation_name', 'timestep'], as_index=False).mean()\n",
    "\n",
    "def to_1D(series):\n",
    "    return pd.Series([x for _list in series for x in _list])\n",
    "\n",
    "# def get_mean(df, sim_timesteps: int = 50):\n",
    "#     print(df.shape)\n",
    "#     df_ = df.drop(labels=['h_list', 'switch_hpair_count'], axis=1)\n",
    "#     print(df_.shape)\n",
    "#     simulation_size = sim_timesteps * len(df_['simulation_id'].unique())\n",
    "#     n_simulation = int(len(df_) / simulation_size)\n",
    "#     df_mean = pd.DataFrame()\n",
    "#     for i in range(n_simulation):\n",
    "#         print(df_mean.shape)\n",
    "#         mask = list(range(i*simulation_size, (i+1)*simulation_size))\n",
    "#         df_mean = pd.concat([df_mean,df_.loc[mask,:].groupby(by='timestep', as_index=False).mean()], ignore_index=True)\n",
    "#     return df_mean"
   ]
  },
  {
   "cell_type": "markdown",
   "metadata": {},
   "source": [
    "## Save json to csv"
   ]
  },
  {
   "cell_type": "code",
   "execution_count": null,
   "metadata": {},
   "outputs": [],
   "source": [
    "network = '25_italy'\n",
    "simulation_date = '2022-09-02-19-35'\n",
    "placement_type = 'ilp-hco'\n",
    "\n",
    "df = pd.read_json(f\"../results/{network}/dynamic/{simulation_date}-{network}-{placement_type}.json\")\n",
    "df.latency_factor = df.latency_factor.round(1)"
   ]
  },
  {
   "cell_type": "code",
   "execution_count": null,
   "metadata": {},
   "outputs": [],
   "source": [
    "df.to_csv(f\"../results/{network}/2021-11-04-{network}-ilp-hco.csv\", index=False)"
   ]
  },
  {
   "cell_type": "code",
   "execution_count": null,
   "metadata": {},
   "outputs": [],
   "source": [
    "df.query(\" vSDN_size == 2 \")"
   ]
  },
  {
   "cell_type": "markdown",
   "metadata": {},
   "source": [
    "## Analyse Data"
   ]
  },
  {
   "cell_type": "code",
   "execution_count": null,
   "metadata": {},
   "outputs": [],
   "source": [
    "df = pd.read_json('../results/37_cost/dynamic/2022-12-04-21-32-26/simulation-group-results.json')\n",
    "df = add_cumulative(df)"
   ]
  },
  {
   "cell_type": "code",
   "execution_count": null,
   "metadata": {},
   "outputs": [],
   "source": [
    "df.head()"
   ]
  },
  {
   "cell_type": "code",
   "execution_count": null,
   "metadata": {},
   "outputs": [],
   "source": [
    "df.iloc[0]"
   ]
  },
  {
   "cell_type": "code",
   "execution_count": null,
   "metadata": {},
   "outputs": [],
   "source": [
    "df.query(\"sim_dynamic_type == 'conservative'\")['hp_changed']"
   ]
  },
  {
   "cell_type": "code",
   "execution_count": null,
   "metadata": {},
   "outputs": [],
   "source": [
    "sns.relplot(\n",
    "    data=df, x='timestep', y='active_vSDN_count_cum', hue='sim_dynamic_type', row='simulation_round',\n",
    "    kind=\"line\", ci=None, height=4, aspect=3\n",
    ")"
   ]
  },
  {
   "cell_type": "code",
   "execution_count": null,
   "metadata": {},
   "outputs": [],
   "source": [
    "avb = df.query(\"sim_dynamic_type == 'basic'\")['active_vSDN_count_cum'].to_list()\n",
    "df['active_vSDN_count_cum_baseline'] = avb * 3\n",
    "df['active_vSDN_count_cum_difference'] = df['active_vSDN_count_cum'] - df['active_vSDN_count_cum_baseline']"
   ]
  },
  {
   "cell_type": "code",
   "execution_count": null,
   "metadata": {},
   "outputs": [],
   "source": [
    "sns.relplot(\n",
    "    data=df, x='timestep', y='active_vSDN_count_cum_difference', hue='sim_dynamic_type', row='simulation_round',\n",
    "    kind=\"line\", ci=None, height=4, aspect=3\n",
    ")"
   ]
  },
  {
   "cell_type": "code",
   "execution_count": null,
   "metadata": {},
   "outputs": [],
   "source": [
    "sns.relplot(data=df, x='timestep', y='active_vSDN_count', hue='sim_dynamic_type', col='simulation_round', kind=\"line\")"
   ]
  },
  {
   "cell_type": "code",
   "execution_count": null,
   "metadata": {},
   "outputs": [],
   "source": [
    "sns.lineplot(data=df, x='timestep', y='hp_changed_cum', hue='sim_dynamic_type')"
   ]
  },
  {
   "cell_type": "code",
   "execution_count": null,
   "metadata": {},
   "outputs": [],
   "source": [
    "sns.relplot(data=df, x='timestep', y='hp_changed_cum', hue='sim_dynamic_type', row='simulation_round', kind=\"line\")"
   ]
  },
  {
   "cell_type": "code",
   "execution_count": null,
   "metadata": {},
   "outputs": [],
   "source": [
    "h_freq = {}\n",
    "\n",
    "for (sim_round, dynamic_type), sub_df in df.groupby(by=['simulation_round', 'sim_dynamic_type']):\n",
    "    # print(sim_round, dynamic_type, len(sub_df))\n",
    "    h_vc = to_1D(sub_df[\"h_list\"]).value_counts()\n",
    "    h_freq[(sim_round, dynamic_type)] = h_vc.to_dict()\n",
    "\n",
    "h_freq = pd.DataFrame.from_dict(h_freq, orient='index').fillna(0)\n",
    "h_freq = h_freq[sorted(h_freq.columns)]\n",
    "h_freq = h_freq.reset_index()\n",
    "h_freq = h_freq.rename(columns={'level_0':'simulation_round', 'level_1':'sim_dynamic_type'})\n",
    "\n",
    "h_freq = pd.melt(h_freq, id_vars=['simulation_round', 'sim_dynamic_type'])\n",
    "\n",
    "h_freq.head()"
   ]
  },
  {
   "cell_type": "code",
   "execution_count": null,
   "metadata": {},
   "outputs": [],
   "source": [
    "fig, ax = plt.subplots(figsize=(15,5))\n",
    "sns.barplot(data=h_freq, y='value', x='variable', hue='sim_dynamic_type', ax=ax)"
   ]
  },
  {
   "cell_type": "code",
   "execution_count": null,
   "metadata": {},
   "outputs": [],
   "source": [
    "network = '25_italy'\n",
    "simulation_date = '2021-11-14'\n",
    "\n",
    "# placement_type = 'ilp-acc'\n",
    "# dfa = pd.read_json(f\"../results/{network}/dynamic/{simulation_date}-{network}-{placement_type}.json\")\n",
    "# dfa.latency_factor = dfa.latency_factor.round(1)\n",
    "dfh = pd.read_json(\"../results/25_italy/dynamic/2022-09-02-22-12-25_italy-heu-hco.json\")\n",
    "add_cumulative(dfh)\n",
    "dfh = get_mean(dfh)\n",
    "dfh['latency_factor'] = dfh['latency_factor'].round(1)\n",
    "\n",
    "dfi = pd.read_json(\"../results/25_italy/dynamic/2022-09-02-22-08-25_italy-ilp-hco.json\")\n",
    "add_cumulative(dfi)\n",
    "dfi = get_mean(dfi)\n",
    "dfi['latency_factor'] = dfi['latency_factor'].round(1)\n",
    "\n",
    "dfa = pd.read_json(\"../results/25_italy/dynamic/2022-09-02-22-31-25_italy-ilp-acc.json\")\n",
    "add_cumulative(dfa)\n",
    "dfa = get_mean(dfa)\n",
    "dfa['latency_factor'] = dfa['latency_factor'].round(1)\n",
    "\n",
    "# placement_type = 'ilp-opt'\n",
    "# # dfo = pd.read_json(f\"../results/{network}/dynamic/{simulation_date}-{network}-{placement_type}.json\")\n",
    "# # dfo.latency_factor = dfo.latency_factor.round(1)\n",
    "dfo = pd.read_json(\"../results/25_italy/dynamic/2022-09-02-22-38-25_italy-ilp-opt.json\")\n",
    "add_cumulative(dfo)\n",
    "dfo = get_mean(dfo)\n",
    "dfo['latency_factor'] = dfo['latency_factor'].round(1)\n"
   ]
  },
  {
   "cell_type": "code",
   "execution_count": null,
   "metadata": {},
   "outputs": [],
   "source": [
    "print(dfa.groupby('latency_factor').mean()[['acceptable_count', 'acceptance_ratio_cum', 'mean_switch_hpair_count']])"
   ]
  },
  {
   "cell_type": "code",
   "execution_count": null,
   "metadata": {},
   "outputs": [],
   "source": [
    "dfa.query(\"latency_factor == 0.5\")[['hp_runtime', 'acceptance_ratio', 'acceptance_ratio_cum', 'active_vSDN_count', 'mean_switch_hpair_count', 'timestep']]"
   ]
  },
  {
   "cell_type": "code",
   "execution_count": null,
   "metadata": {},
   "outputs": [],
   "source": [
    "# Plot cumulative acceptance ratio\n",
    "fig, ax = plt.subplots()\n",
    "\n",
    "for color,data in zip(['b', 'y', 'r', 'g'], [[], [], dfa, dfo]):\n",
    "    if not len(data):\n",
    "        continue\n",
    "    \n",
    "    for L in data['latency_factor'].unique():\n",
    "        sns.lineplot(x='timestep', y='acceptance_ratio_cum', data=data.query(f\"latency_factor == @L\"), color=color, alpha=0.7)\n",
    "\n",
    "ax.legend(handles=[heu, ilpk, ilpa, opt])\n",
    "ax.grid()"
   ]
  },
  {
   "cell_type": "code",
   "execution_count": null,
   "metadata": {},
   "outputs": [],
   "source": [
    "# Plot active vSDN count\n",
    "fig, ax = plt.subplots()\n",
    "\n",
    "for color,data in zip(['b', 'y', 'r', 'g'], [dfh, dfi, dfa, dfo]):\n",
    "    if not len(data):\n",
    "        continue\n",
    "    \n",
    "    for L in data['latency_factor'].unique():\n",
    "        sns.lineplot(x='timestep', y='active_vSDN_count', data=data.query(f\"latency_factor == @L\"),color=color)\n",
    "\n",
    "ax.legend(handles=[heu, ilpk, ilpa, opt])\n",
    "ax.grid()"
   ]
  },
  {
   "cell_type": "code",
   "execution_count": null,
   "metadata": {},
   "outputs": [],
   "source": [
    "# Plot active vSDN count and changed H count\n",
    "fig, ax = plt.subplots()\n",
    "ax2 = ax.twinx()\n",
    "\n",
    "for color,data in zip(['r', 'g'], [dfa, dfo]):\n",
    "    if not len(data):\n",
    "        continue\n",
    "    \n",
    "    for L in data['latency_factor'].unique():\n",
    "        sns.lineplot(x='timestep', y='active_vSDN_count', data=data.query(f\"latency_factor == @L\"), color=color, ax=ax)\n",
    "        sns.lineplot(x='timestep', y='hp_changed', data=data.query(\"latency_factor == @L\"), color=color, ax=ax2, style=True, dashes=[(2,2)])\n",
    "\n",
    "ax.legend(handles=[ilpa, opt])\n",
    "ax2.legend([])\n",
    "ax.grid()"
   ]
  },
  {
   "cell_type": "code",
   "execution_count": null,
   "metadata": {},
   "outputs": [],
   "source": [
    "# Plot mean switch hpair count\n",
    "fig, ax = plt.subplots()\n",
    "\n",
    "for color,data in zip(['r', 'g'], [dfa, dfo]):\n",
    "    if not len(data):\n",
    "        continue\n",
    "    \n",
    "    for L in data['latency_factor'].unique():\n",
    "        sns.lineplot(x='timestep', y='mean_switch_hpair_count', data=data.query(f\"latency_factor == @L\"), color=color, ax=ax)\n",
    "\n",
    "ax.legend(handles=[ilpa, opt])\n",
    "ax.grid()"
   ]
  },
  {
   "cell_type": "markdown",
   "metadata": {},
   "source": [
    "## Save data for latex/pgfplots"
   ]
  },
  {
   "cell_type": "code",
   "execution_count": null,
   "metadata": {},
   "outputs": [],
   "source": [
    "filename = \"../results/25_italy/dynamic/2021-11-16-09-07-25_italy-ilp-opt.json\"\n",
    "df = pd.read_json(filename)\n",
    "add_cumulative(df)\n",
    "df = get_mean(df)\n",
    "df['latency_factor'] = df['latency_factor'].round(2)"
   ]
  },
  {
   "cell_type": "code",
   "execution_count": null,
   "metadata": {},
   "outputs": [],
   "source": [
    "for simulation_name in df['simulation_name'].unique():\n",
    "    df.query(\"`simulation_name` == @simulation_name\").to_csv(f\"{filename.rstrip('.json')}-{simulation_name}-mean.csv\")"
   ]
  },
  {
   "cell_type": "code",
   "execution_count": null,
   "metadata": {},
   "outputs": [],
   "source": [
    "network_name = '37_cost'\n",
    "\n",
    "for json_file in glob.glob(f'../results/{network_name}/dynamic/*.json'):\n",
    "    hp_type = json_file[-12:-5]\n",
    "    df = pd.read_json(json_file)\n",
    "    add_cumulative(df)\n",
    "    df = get_mean(df)\n",
    "    df['latency_factor'] = df['latency_factor'].round(2)\n",
    "\n",
    "    for simulation_name in df['simulation_name'].unique():\n",
    "        df.query(\"`simulation_name` == @simulation_name\").to_csv(f\"../results/{network_name}/dynamic/{network_name}-{hp_type}-{simulation_name}-mean.csv\", index=False)"
   ]
  }
 ],
 "metadata": {
  "kernelspec": {
   "display_name": "Python 3",
   "language": "python",
   "name": "python3"
  },
  "language_info": {
   "codemirror_mode": {
    "name": "ipython",
    "version": 3
   },
   "file_extension": ".py",
   "mimetype": "text/x-python",
   "name": "python",
   "nbconvert_exporter": "python",
   "pygments_lexer": "ipython3",
   "version": "3.8.2"
  },
  "vscode": {
   "interpreter": {
    "hash": "dcfd4f773bf5e226e1489114b6468ab89926ab25e4ffaffcce46052f5d998310"
   }
  }
 },
 "nbformat": 4,
 "nbformat_minor": 4
}
