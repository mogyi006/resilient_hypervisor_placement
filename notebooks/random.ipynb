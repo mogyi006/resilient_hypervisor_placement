{
 "cells": [
  {
   "cell_type": "code",
   "execution_count": null,
   "metadata": {},
   "outputs": [],
   "source": [
    "%load_ext autoreload\n",
    "%autoreload 2"
   ]
  },
  {
   "cell_type": "code",
   "execution_count": null,
   "metadata": {},
   "outputs": [],
   "source": [
    "from src.logger import measure\n",
    "import time\n",
    "import glob\n",
    "import re\n",
    "import numpy as np\n",
    "import pandas as pd"
   ]
  },
  {
   "cell_type": "code",
   "execution_count": null,
   "metadata": {},
   "outputs": [],
   "source": [
    "rng = np.random.default_rng()\n",
    "rng.choice(np.arange(1,2), size=1, replace=False)"
   ]
  },
  {
   "cell_type": "code",
   "execution_count": null,
   "metadata": {},
   "outputs": [],
   "source": [
    "np.arange(1,2)"
   ]
  },
  {
   "cell_type": "code",
   "execution_count": null,
   "metadata": {},
   "outputs": [],
   "source": [
    "a = [{'a':np.arange(i%3), 'b':'jjj'} for i in range(10)]\n",
    "\n",
    "min_a = len(max(a, key=lambda x: len(x['a'])).get('a'))\n",
    "list({frozenset(i['a']): i for i in a if len(i['a']) == min_a}.values())"
   ]
  },
  {
   "cell_type": "code",
   "execution_count": null,
   "metadata": {},
   "outputs": [],
   "source": [
    "@measure\n",
    "def f():\n",
    "    time.sleep(1)\n",
    "    return g()\n",
    "\n",
    "def g():\n",
    "    return 5\n",
    "\n",
    "a,b = f()\n",
    "print(f'{a}, {b}')"
   ]
  },
  {
   "cell_type": "code",
   "execution_count": null,
   "metadata": {},
   "outputs": [],
   "source": []
  },
  {
   "cell_type": "code",
   "execution_count": null,
   "metadata": {},
   "outputs": [],
   "source": [
    "request_file_dict = {}\n",
    "for request_file_path in sorted(glob.glob('../data/processed/requests/25_italy/*.subgraphs')):\n",
    "    m = re.search('(\\d+)\\.subgraphs', request_file_path)\n",
    "    size_of_request = int(m.group(1))\n",
    "    request_file_dict[size_of_request] = {\n",
    "        'file_path': request_file_path,\n",
    "        'file_size': sum(1 for _ in open(request_file_path, 'r'))\n",
    "    }\n",
    "request_file_dict"
   ]
  },
  {
   "cell_type": "code",
   "execution_count": null,
   "metadata": {},
   "outputs": [],
   "source": [
    "import linecache\n",
    "linecache.getline('../data/processed/requests/25_italy/25_italy.2.subgraphs',34)"
   ]
  },
  {
   "cell_type": "code",
   "execution_count": null,
   "metadata": {},
   "outputs": [],
   "source": [
    "import src.models.vSDN_request as vSDN_request\n",
    "\n",
    "rg = vSDN_request.vSDN_request_generator('25_italy', '../data/processed/requests/25_italy/')"
   ]
  },
  {
   "cell_type": "code",
   "execution_count": null,
   "metadata": {},
   "outputs": [],
   "source": [
    "rg.request_file_dict[2]"
   ]
  },
  {
   "cell_type": "code",
   "execution_count": null,
   "metadata": {},
   "outputs": [],
   "source": [
    "z = [1,2,4,8,16]\n",
    "print(z)\n",
    "y = [sum(z[:i]) for i in range(len(z))]\n",
    "print(y)\n",
    "diff = 16 - np.array(y)\n",
    "print(diff)\n",
    "i = np.where(diff >= 0, diff, np.inf).argmin()\n",
    "print(diff[i], i)"
   ]
  }
 ],
 "metadata": {
  "interpreter": {
   "hash": "dcfd4f773bf5e226e1489114b6468ab89926ab25e4ffaffcce46052f5d998310"
  },
  "kernelspec": {
   "display_name": "Python 3.8.2 64-bit ('hp': conda)",
   "name": "python3"
  },
  "language_info": {
   "codemirror_mode": {
    "name": "ipython",
    "version": 3
   },
   "file_extension": ".py",
   "mimetype": "text/x-python",
   "name": "python",
   "nbconvert_exporter": "python",
   "pygments_lexer": "ipython3",
   "version": "3.8.2"
  }
 },
 "nbformat": 4,
 "nbformat_minor": 4
}
