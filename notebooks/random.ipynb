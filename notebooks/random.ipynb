{
 "cells": [
  {
   "cell_type": "code",
   "execution_count": 1,
   "metadata": {},
   "outputs": [],
   "source": [
    "%load_ext autoreload\n",
    "%autoreload 2"
   ]
  },
  {
   "cell_type": "code",
   "execution_count": 2,
   "metadata": {},
   "outputs": [],
   "source": [
    "from src.logger import measure\n",
    "import time\n",
    "import glob\n",
    "import re\n",
    "import numpy as np"
   ]
  },
  {
   "cell_type": "code",
   "execution_count": null,
   "metadata": {},
   "outputs": [],
   "source": [
    "@measure\n",
    "def f():\n",
    "    time.sleep(1)\n",
    "    return g()\n",
    "\n",
    "def g():\n",
    "    return 5\n",
    "\n",
    "a,b = f()\n",
    "print(f'{a}, {b}')"
   ]
  },
  {
   "cell_type": "code",
   "execution_count": null,
   "metadata": {},
   "outputs": [],
   "source": []
  },
  {
   "cell_type": "code",
   "execution_count": 27,
   "metadata": {},
   "outputs": [
    {
     "data": {
      "text/plain": [
       "{10: {'file_path': '../data/processed/requests/25_italy/25_italy.10.subgraphs',\n",
       "  'file_size': 7490},\n",
       " 11: {'file_path': '../data/processed/requests/25_italy/25_italy.11.subgraphs',\n",
       "  'file_size': 12687},\n",
       " 12: {'file_path': '../data/processed/requests/25_italy/25_italy.12.subgraphs',\n",
       "  'file_size': 20224},\n",
       " 13: {'file_path': '../data/processed/requests/25_italy/25_italy.13.subgraphs',\n",
       "  'file_size': 29996},\n",
       " 2: {'file_path': '../data/processed/requests/25_italy/25_italy.2.subgraphs',\n",
       "  'file_size': 34},\n",
       " 3: {'file_path': '../data/processed/requests/25_italy/25_italy.3.subgraphs',\n",
       "  'file_size': 62},\n",
       " 4: {'file_path': '../data/processed/requests/25_italy/25_italy.4.subgraphs',\n",
       "  'file_size': 121},\n",
       " 5: {'file_path': '../data/processed/requests/25_italy/25_italy.5.subgraphs',\n",
       "  'file_size': 252},\n",
       " 6: {'file_path': '../data/processed/requests/25_italy/25_italy.6.subgraphs',\n",
       "  'file_size': 533},\n",
       " 7: {'file_path': '../data/processed/requests/25_italy/25_italy.7.subgraphs',\n",
       "  'file_size': 1109},\n",
       " 8: {'file_path': '../data/processed/requests/25_italy/25_italy.8.subgraphs',\n",
       "  'file_size': 2220},\n",
       " 9: {'file_path': '../data/processed/requests/25_italy/25_italy.9.subgraphs',\n",
       "  'file_size': 4191}}"
      ]
     },
     "execution_count": 27,
     "metadata": {},
     "output_type": "execute_result"
    }
   ],
   "source": [
    "request_file_dict = {}\n",
    "for request_file_path in sorted(glob.glob('../data/processed/requests/25_italy/*.subgraphs')):\n",
    "    m = re.search('(\\d+)\\.subgraphs', request_file_path)\n",
    "    size_of_request = int(m.group(1))\n",
    "    request_file_dict[size_of_request] = {\n",
    "        'file_path': request_file_path,\n",
    "        'file_size': sum(1 for _ in open(request_file_path, 'r'))\n",
    "    }\n",
    "request_file_dict"
   ]
  },
  {
   "cell_type": "code",
   "execution_count": 17,
   "metadata": {},
   "outputs": [
    {
     "data": {
      "text/plain": [
       "'0 1 \\n'"
      ]
     },
     "execution_count": 17,
     "metadata": {},
     "output_type": "execute_result"
    }
   ],
   "source": [
    "import linecache\n",
    "linecache.getline('../data/processed/requests/25_italy/25_italy.2.subgraphs',34)"
   ]
  },
  {
   "cell_type": "code",
   "execution_count": 3,
   "metadata": {},
   "outputs": [],
   "source": [
    "import src.models.vSDN_request as vSDN_request\n",
    "\n",
    "rg = vSDN_request.vSDN_request_generator('25_italy', '../data/processed/requests/25_italy/')"
   ]
  },
  {
   "cell_type": "code",
   "execution_count": 26,
   "metadata": {},
   "outputs": [
    {
     "data": {
      "text/plain": [
       "{'file_path': '../data/processed/requests/25_italy/25_italy.2.subgraphs',\n",
       " 'file_size': 34}"
      ]
     },
     "execution_count": 26,
     "metadata": {},
     "output_type": "execute_result"
    }
   ],
   "source": [
    "rg.request_file_dict[2]"
   ]
  },
  {
   "cell_type": "code",
   "execution_count": 24,
   "metadata": {},
   "outputs": [
    {
     "name": "stdout",
     "output_type": "stream",
     "text": [
      "[1, 2, 4, 8, 16]\n",
      "[0, 1, 3, 7, 15]\n",
      "[16 15 13  9  1]\n",
      "1 4\n"
     ]
    }
   ],
   "source": [
    "z = [1,2,4,8,16]\n",
    "print(z)\n",
    "y = [sum(z[:i]) for i in range(len(z))]\n",
    "print(y)\n",
    "diff = 16 - np.array(y)\n",
    "print(diff)\n",
    "i = np.where(diff >= 0, diff, np.inf).argmin()\n",
    "print(diff[i], i)"
   ]
  }
 ],
 "metadata": {
  "interpreter": {
   "hash": "dcfd4f773bf5e226e1489114b6468ab89926ab25e4ffaffcce46052f5d998310"
  },
  "kernelspec": {
   "display_name": "Python 3.8.2 64-bit ('hp': conda)",
   "name": "python3"
  },
  "language_info": {
   "codemirror_mode": {
    "name": "ipython",
    "version": 3
   },
   "file_extension": ".py",
   "mimetype": "text/x-python",
   "name": "python",
   "nbconvert_exporter": "python",
   "pygments_lexer": "ipython3",
   "version": "3.8.2"
  }
 },
 "nbformat": 4,
 "nbformat_minor": 4
}
