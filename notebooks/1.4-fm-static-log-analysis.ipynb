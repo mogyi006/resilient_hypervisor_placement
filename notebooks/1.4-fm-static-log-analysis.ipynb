{
 "cells": [
  {
   "cell_type": "code",
   "execution_count": null,
   "metadata": {},
   "outputs": [],
   "source": [
    "%load_ext autoreload\n",
    "%autoreload 2"
   ]
  },
  {
   "cell_type": "code",
   "execution_count": null,
   "metadata": {},
   "outputs": [],
   "source": [
    "# Standard library imports.\n",
    "import itertools\n",
    "import json\n",
    "\n",
    "# Related third party imports.\n",
    "import pandas as pd\n",
    "import numpy as np\n",
    "\n",
    "# Local application/library specific imports.\n",
    "import matplotlib.pyplot as plt\n",
    "import seaborn as sns\n",
    "\n",
    "plt.style.use(['science', 'notebook'])"
   ]
  },
  {
   "cell_type": "markdown",
   "metadata": {},
   "source": [
    "## Save json to csv"
   ]
  },
  {
   "cell_type": "code",
   "execution_count": null,
   "metadata": {},
   "outputs": [],
   "source": [
    "network = '25_italy'\n",
    "simulation_date = '2021-11-08'\n",
    "placement_type = 'heu-hco'\n",
    "\n",
    "df = pd.read_json(f\"../results/{network}/{simulation_date}-{network}-{placement_type}.json\")\n",
    "df.latency_factor = df.latency_factor.round(1)"
   ]
  },
  {
   "cell_type": "code",
   "execution_count": null,
   "metadata": {},
   "outputs": [],
   "source": [
    "df.to_csv(f\"../results/{network}/2021-11-04-{network}-ilp-hco.csv\", index=False)"
   ]
  },
  {
   "cell_type": "code",
   "execution_count": null,
   "metadata": {},
   "outputs": [],
   "source": [
    "df.query(\" vSDN_size == 2 \")"
   ]
  },
  {
   "cell_type": "markdown",
   "metadata": {},
   "source": [
    "## Analyse Data"
   ]
  },
  {
   "cell_type": "code",
   "execution_count": null,
   "metadata": {},
   "outputs": [],
   "source": [
    "network = '37_cost'\n",
    "simulation_date = '2021-11-12'\n",
    "\n",
    "placement_type = 'heu-hco'\n",
    "dfh = pd.read_json(f\"../results/{network}/static/{simulation_date}-{network}-{placement_type}.json\")\n",
    "dfh.latency_factor = dfh.latency_factor.round(1)\n",
    "\n",
    "placement_type = 'ilp-hco'\n",
    "dfi = pd.read_json(f\"../results/{network}/static/{simulation_date}-{network}-{placement_type}.json\")\n",
    "dfi.latency_factor = dfi.latency_factor.round(1)\n",
    "\n",
    "placement_type = 'ilp-acc'\n",
    "dfa = pd.read_json(f\"../results/{network}/static/{simulation_date}-{network}-{placement_type}.json\")\n",
    "dfa.latency_factor = dfa.latency_factor.round(1)\n",
    "\n",
    "# placement_type = 'ilp-opt'\n",
    "# dfo = pd.read_json(f\"../results/{network}/static/{simulation_date}-{network}-{placement_type}.json\")\n",
    "# dfo.latency_factor = dfo.latency_factor.round(1)"
   ]
  },
  {
   "cell_type": "code",
   "execution_count": null,
   "metadata": {},
   "outputs": [],
   "source": [
    "for df in [dfh, dfi, dfa]:\n",
    "    print(df.query(\"latency_factor == 0.4 & vSDN_size == 8\")[['acceptance_ratio','hp_runtime']].mean())"
   ]
  },
  {
   "cell_type": "code",
   "execution_count": null,
   "metadata": {},
   "outputs": [],
   "source": [
    "dfh.query(\"latency_factor == 0.5 & vSDN_size == 6\")[['acceptance_ratio','hp_runtime','h_list']]"
   ]
  },
  {
   "cell_type": "code",
   "execution_count": null,
   "metadata": {},
   "outputs": [],
   "source": [
    "dfi.query(\"latency_factor == 0.5 & vSDN_size == 6\")[['acceptance_ratio','hp_runtime','h_list']]"
   ]
  },
  {
   "cell_type": "code",
   "execution_count": null,
   "metadata": {},
   "outputs": [],
   "source": [
    "dfa.query(\"latency_factor == 0.5 & vSDN_size == 6\")[['acceptance_ratio','hp_runtime','h_list']]"
   ]
  },
  {
   "cell_type": "code",
   "execution_count": null,
   "metadata": {},
   "outputs": [],
   "source": [
    "dfo.query(\"latency_factor == 0.5 & vSDN_size == 6\")[['acceptance_ratio','hp_runtime','h_list']]"
   ]
  },
  {
   "cell_type": "markdown",
   "metadata": {},
   "source": [
    "## Save data for latex/pgfplots"
   ]
  },
  {
   "cell_type": "code",
   "execution_count": null,
   "metadata": {},
   "outputs": [],
   "source": [
    "network = '37_cost'\n",
    "simulation_date = '2021-11-12'\n",
    "placement_type = 'heu-hco'\n",
    "\n",
    "df = pd.read_json(f\"../results/{network}/static/{simulation_date}-{network}-{placement_type}.json\")\n",
    "df.latency_factor = df.latency_factor.round(1)\n",
    "df.drop(labels=['h_list'], axis=1, inplace=True)\n",
    "df = df.groupby(by=['latency_factor','vSDN_size']).mean()"
   ]
  },
  {
   "cell_type": "code",
   "execution_count": null,
   "metadata": {},
   "outputs": [],
   "source": [
    "df.to_csv(f\"../results/{network}/static/{simulation_date}-{network}-{placement_type}-mean-pgf.csv\")"
   ]
  },
  {
   "cell_type": "markdown",
   "metadata": {},
   "source": [
    "# Hypervisor Count Effect"
   ]
  },
  {
   "cell_type": "code",
   "execution_count": null,
   "metadata": {},
   "outputs": [],
   "source": [
    "df = pd.concat([\n",
    "    pd.read_json(f\"../results/25_italy/2022-11-14-25_italy-ilp-acc-ph-0.json\"),\n",
    "    pd.read_json(f\"../results/25_italy/2022-11-14-25_italy-ilp-acc-ph-1.json\"),\n",
    "    pd.read_json(f\"../results/25_italy/2022-11-14-25_italy-ilp-acc-ph-2.json\"),\n",
    "    pd.read_json(f\"../results/25_italy/2022-11-14-25_italy-ilp-acc-ph-3.json\"),\n",
    "])"
   ]
  },
  {
   "cell_type": "code",
   "execution_count": null,
   "metadata": {},
   "outputs": [],
   "source": [
    "sns.boxplot(data=df, x='vSDN_size', y='acceptance_ratio', hue='h_count')"
   ]
  },
  {
   "cell_type": "code",
   "execution_count": null,
   "metadata": {},
   "outputs": [],
   "source": [
    "sns.lineplot(data=df, x='vSDN_size', y='acceptance_ratio', hue='h_count', palette=sns.color_palette(\"hls\", 4))"
   ]
  },
  {
   "cell_type": "code",
   "execution_count": null,
   "metadata": {},
   "outputs": [],
   "source": [
    "df = pd.read_json('../results/25_italy/2022-11-14-25_italy-ilpa-ph-0.json')\n",
    "df.columns"
   ]
  },
  {
   "cell_type": "code",
   "execution_count": null,
   "metadata": {},
   "outputs": [],
   "source": [
    "df[['sim_dynamic_type',\n",
    "       'sim_static_type', 'simulation_id', 'simulation_type',\n",
    "       'static_simulation_name']]"
   ]
  }
 ],
 "metadata": {
  "interpreter": {
   "hash": "dcfd4f773bf5e226e1489114b6468ab89926ab25e4ffaffcce46052f5d998310"
  },
  "kernelspec": {
   "display_name": "Python 3.8.2 64-bit ('hp': conda)",
   "name": "python3"
  },
  "language_info": {
   "codemirror_mode": {
    "name": "ipython",
    "version": 3
   },
   "file_extension": ".py",
   "mimetype": "text/x-python",
   "name": "python",
   "nbconvert_exporter": "python",
   "pygments_lexer": "ipython3",
   "version": "3.8.2"
  },
  "orig_nbformat": 4
 },
 "nbformat": 4,
 "nbformat_minor": 2
}
