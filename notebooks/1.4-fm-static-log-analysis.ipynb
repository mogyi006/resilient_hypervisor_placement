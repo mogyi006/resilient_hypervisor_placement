{
 "cells": [
  {
   "cell_type": "code",
   "execution_count": null,
   "metadata": {},
   "outputs": [],
   "source": [
    "%load_ext autoreload\n",
    "%autoreload 2"
   ]
  },
  {
   "cell_type": "code",
   "execution_count": null,
   "metadata": {},
   "outputs": [],
   "source": [
    "# Standard library imports.\n",
    "import itertools\n",
    "import json\n",
    "\n",
    "# Related third party imports.\n",
    "import pandas as pd\n",
    "import numpy as np\n",
    "\n",
    "import matplotlib.pyplot as plt\n",
    "import seaborn as sns\n",
    "import scienceplots\n",
    "\n",
    "# Local application/library specific imports.\n",
    "import src.visualization.visualize as visualize\n",
    "\n",
    "\n",
    "plt.style.use(['science', 'ieee', 'no-latex'])\n",
    "plt.rcParams['figure.dpi'] = 300"
   ]
  },
  {
   "cell_type": "markdown",
   "metadata": {},
   "source": [
    "## Save json to csv"
   ]
  },
  {
   "cell_type": "code",
   "execution_count": null,
   "metadata": {},
   "outputs": [],
   "source": [
    "network = '25_italy'\n",
    "simulation_date = '2021-11-08'\n",
    "placement_type = 'heu-hco'\n",
    "\n",
    "df = pd.read_json(f\"../results/{network}/{simulation_date}-{network}-{placement_type}.json\")\n",
    "df.latency_factor = df.latency_factor.round(1)"
   ]
  },
  {
   "cell_type": "code",
   "execution_count": null,
   "metadata": {},
   "outputs": [],
   "source": [
    "df.to_csv(f\"../results/{network}/2021-11-04-{network}-ilp-hco.csv\", index=False)"
   ]
  },
  {
   "cell_type": "code",
   "execution_count": null,
   "metadata": {},
   "outputs": [],
   "source": [
    "df.query(\" vSDN_size == 2 \")"
   ]
  },
  {
   "cell_type": "markdown",
   "metadata": {},
   "source": [
    "## Analyse Data"
   ]
  },
  {
   "cell_type": "code",
   "execution_count": null,
   "metadata": {},
   "outputs": [],
   "source": [
    "network = '37_cost'\n",
    "simulation_date = '2021-11-12'\n",
    "\n",
    "placement_type = 'heu-hco'\n",
    "dfh = pd.read_json(f\"../results/{network}/static/{simulation_date}-{network}-{placement_type}.json\")\n",
    "dfh.latency_factor = dfh.latency_factor.round(1)\n",
    "\n",
    "placement_type = 'ilp-hco'\n",
    "dfi = pd.read_json(f\"../results/{network}/static/{simulation_date}-{network}-{placement_type}.json\")\n",
    "dfi.latency_factor = dfi.latency_factor.round(1)\n",
    "\n",
    "placement_type = 'ilp-acc'\n",
    "dfa = pd.read_json(f\"../results/{network}/static/{simulation_date}-{network}-{placement_type}.json\")\n",
    "dfa.latency_factor = dfa.latency_factor.round(1)\n",
    "\n",
    "# placement_type = 'ilp-opt'\n",
    "# dfo = pd.read_json(f\"../results/{network}/static/{simulation_date}-{network}-{placement_type}.json\")\n",
    "# dfo.latency_factor = dfo.latency_factor.round(1)"
   ]
  },
  {
   "cell_type": "code",
   "execution_count": null,
   "metadata": {},
   "outputs": [],
   "source": [
    "for df in [dfh, dfi, dfa]:\n",
    "    print(df.query(\"latency_factor == 0.4 & vSDN_size == 8\")[['acceptance_ratio','hp_runtime']].mean())"
   ]
  },
  {
   "cell_type": "code",
   "execution_count": null,
   "metadata": {},
   "outputs": [],
   "source": [
    "dfh.query(\"latency_factor == 0.5 & vSDN_size == 6\")[['acceptance_ratio','hp_runtime','h_list']]"
   ]
  },
  {
   "cell_type": "code",
   "execution_count": null,
   "metadata": {},
   "outputs": [],
   "source": [
    "dfi.query(\"latency_factor == 0.5 & vSDN_size == 6\")[['acceptance_ratio','hp_runtime','h_list']]"
   ]
  },
  {
   "cell_type": "code",
   "execution_count": null,
   "metadata": {},
   "outputs": [],
   "source": [
    "dfa.query(\"latency_factor == 0.5 & vSDN_size == 6\")[['acceptance_ratio','hp_runtime','h_list']]"
   ]
  },
  {
   "cell_type": "code",
   "execution_count": null,
   "metadata": {},
   "outputs": [],
   "source": [
    "dfo.query(\"latency_factor == 0.5 & vSDN_size == 6\")[['acceptance_ratio','hp_runtime','h_list']]"
   ]
  },
  {
   "cell_type": "markdown",
   "metadata": {},
   "source": [
    "## Save data for latex/pgfplots"
   ]
  },
  {
   "cell_type": "code",
   "execution_count": null,
   "metadata": {},
   "outputs": [],
   "source": [
    "network = '37_cost'\n",
    "simulation_date = '2021-11-12'\n",
    "placement_type = 'heu-hco'\n",
    "\n",
    "df = pd.read_json(f\"../results/{network}/static/{simulation_date}-{network}-{placement_type}.json\")\n",
    "df.latency_factor = df.latency_factor.round(1)\n",
    "df.drop(labels=['h_list'], axis=1, inplace=True)\n",
    "df = df.groupby(by=['latency_factor','vSDN_size']).mean()"
   ]
  },
  {
   "cell_type": "code",
   "execution_count": null,
   "metadata": {},
   "outputs": [],
   "source": [
    "df.to_csv(f\"../results/{network}/static/{simulation_date}-{network}-{placement_type}-mean-pgf.csv\")"
   ]
  },
  {
   "cell_type": "markdown",
   "metadata": {},
   "source": [
    "# Hypervisor Count Effect"
   ]
  },
  {
   "cell_type": "code",
   "execution_count": null,
   "metadata": {},
   "outputs": [],
   "source": [
    "df = pd.read_json('../results/26_usa/static/tmp/2023-04-03-21-44-07/simulation-group-results.json')"
   ]
  },
  {
   "cell_type": "code",
   "execution_count": null,
   "metadata": {},
   "outputs": [],
   "source": [
    "df.n_hypervisors.value_counts()"
   ]
  },
  {
   "cell_type": "code",
   "execution_count": null,
   "metadata": {},
   "outputs": [],
   "source": [
    "fig, ax = plt.subplots()\n",
    "\n",
    "for n_hypervisors, group in df.groupby('n_hypervisors'):\n",
    "    tmp = group.groupby('vSDN_size').mean()\n",
    "    ax.plot(tmp.index, tmp.vSDN_acceptance_ratio, label=n_hypervisors)\n",
    "    if n_hypervisors == 5:\n",
    "        break\n",
    "\n",
    "ax.grid(True)\n",
    "ax.legend(title='No. hypervisors', framealpha=1, frameon=True)\n",
    "ax.set_xlabel('vSDN size')\n",
    "ax.set_ylabel('Acceptance ratio')\n",
    "\n",
    "plt.savefig('../reports/figures/usa_26_hypervisor_count_effect.pdf')"
   ]
  },
  {
   "cell_type": "markdown",
   "metadata": {},
   "source": [
    "# Heuristic evaluation"
   ]
  },
  {
   "cell_type": "code",
   "execution_count": null,
   "metadata": {},
   "outputs": [],
   "source": [
    "dfh = pd.read_json('../results/26_usa/static/tmp/2023-03-29-20-23-51/simulation-group-results.json')\n",
    "dfh['repeat'] = dfh['repeat'].astype('category')\n",
    "dfh['heuristic_randomness'] = dfh['heuristic_randomness'].astype('category')"
   ]
  },
  {
   "cell_type": "code",
   "execution_count": null,
   "metadata": {},
   "outputs": [],
   "source": [
    "plt.figure(figsize=visualize.set_size(600, subplots=(1, 3)))\n",
    "plt.subplots_adjust(wspace=0.25)\n",
    "\n",
    "# plt.suptitle(\"USA 26 - Static vSDN placement - Heuristic\", fontsize=20)\n",
    "\n",
    "for i, (repeat, group1) in enumerate(dfh.groupby(by=['repeat'])):\n",
    "    ax = plt.subplot(1, 3, i+1)\n",
    "    ax.set_title(f\"No. repeat: {repeat}\")\n",
    "    for heuristic_randomness, group2 in group1.groupby('heuristic_randomness'):\n",
    "        tmp = group2.groupby('vSDN_size').mean()\n",
    "        ax.plot(tmp.index, tmp.vSDN_acceptance_ratio, label=heuristic_randomness)\n",
    "    ax.grid()\n",
    "    ax.set_xlabel('vSDN size')\n",
    "    if i == 0:\n",
    "        ax.set_ylabel('Acceptance ratio')\n",
    "    else:\n",
    "        ax.set_ylabel('')\n",
    "    if i == 0:\n",
    "        ax.legend(title='Randomness', framealpha=1, frameon=True)\n",
    "    else:\n",
    "        ax.legend([])\n",
    "\n",
    "\n",
    "plt.savefig('../reports/figures/2023-RNDM/usa_26_heuristic_randomness.pdf')"
   ]
  },
  {
   "cell_type": "code",
   "execution_count": null,
   "metadata": {},
   "outputs": [],
   "source": [
    "dfh['n_hypervisors']"
   ]
  },
  {
   "cell_type": "code",
   "execution_count": null,
   "metadata": {},
   "outputs": [],
   "source": [
    "fig, ax = plt.subplots(figsize=(10,5))\n",
    "sns.lineplot(data=dfh, x='vSDN_size', y='vSDN_acceptance_ratio', hue='simulation_round', ax=ax)\n",
    "sns.lineplot(data=dfh, x='vSDN_size', y='vSDN_acceptance_ratio', ax=ax)\n",
    "ax.grid()"
   ]
  },
  {
   "cell_type": "code",
   "execution_count": null,
   "metadata": {},
   "outputs": [],
   "source": [
    "fig, ax = plt.subplots(figsize=(10,5))\n",
    "dfh.groupby(by=['vSDN_size']).mean().plot(y='vSDN_acceptance_ratio', ax=ax, label='heu_improved')\n",
    "ax.grid()"
   ]
  },
  {
   "cell_type": "code",
   "execution_count": null,
   "metadata": {},
   "outputs": [],
   "source": [
    "dfh.active_hypervisors.apply(tuple).value_counts()"
   ]
  },
  {
   "cell_type": "code",
   "execution_count": null,
   "metadata": {},
   "outputs": [],
   "source": [
    "dfi = pd.read_json('../results/25_italy/static/tmp/2023-03-27-13-00-06/simulation-group-results.json')"
   ]
  },
  {
   "cell_type": "code",
   "execution_count": null,
   "metadata": {},
   "outputs": [],
   "source": [
    "dfi.active_hypervisors.apply(tuple).value_counts()"
   ]
  },
  {
   "cell_type": "code",
   "execution_count": null,
   "metadata": {},
   "outputs": [],
   "source": [
    "fig, ax = plt.subplots(figsize=(10,5))\n",
    "dfh.groupby(by=['vSDN_size']).mean().plot(y='vSDN_acceptance_ratio', ax=ax, label='heu_improved')\n",
    "dfi.groupby(by=['vSDN_size']).mean().plot(y='vSDN_acceptance_ratio', ax=ax, label='ilp_acc')\n",
    "ax.grid()"
   ]
  },
  {
   "cell_type": "markdown",
   "metadata": {},
   "source": [
    "# Hypervisor capacity"
   ]
  },
  {
   "cell_type": "code",
   "execution_count": null,
   "metadata": {},
   "outputs": [],
   "source": [
    "json_path = '../results/26_usa/static/tmp/2023-04-07-12-13-59/simulation-group-results.json'\n",
    "df = pd.read_json(json_path)\n",
    "df = df.astype({'hypervisor_capacity': 'category'})"
   ]
  },
  {
   "cell_type": "code",
   "execution_count": null,
   "metadata": {},
   "outputs": [],
   "source": [
    "df.n_hypervisors.value_counts()"
   ]
  },
  {
   "cell_type": "code",
   "execution_count": null,
   "metadata": {},
   "outputs": [],
   "source": [
    "fig, ax = plt.subplots()\n",
    "\n",
    "for hypervisor_capacity, hc_group in df.groupby('hypervisor_capacity'):\n",
    "    for n_hypervisors, nh_group in hc_group.groupby('n_hypervisors'):\n",
    "        if hypervisor_capacity not in [12,14,15,16,22] or n_hypervisors != 4:\n",
    "            continue\n",
    "        tmp = nh_group.groupby('vSDN_size').mean()\n",
    "        ax.plot(tmp.index, tmp.vSDN_acceptance_ratio, label=f\"{hypervisor_capacity} / {tmp.n_hypervisors.max():.0f}\", alpha=1)\n",
    "\n",
    "ax.grid(True)\n",
    "ax.legend(title='Hypervisor\\ncapacity/count', framealpha=1, frameon=True)\n",
    "ax.set_xlabel('vSDN size')\n",
    "ax.set_ylabel('Acceptance ratio')\n",
    "\n",
    "# plt.savefig('../reports/figures/usa_26_hypervisor_capacity_effect.pdf')"
   ]
  },
  {
   "cell_type": "code",
   "execution_count": null,
   "metadata": {},
   "outputs": [],
   "source": [
    "sns.lineplot(\n",
    "    data=dfh,\n",
    "    x='vSDN_size', y='vSDN_acceptance_ratio', hue='hypervisor_capacity'\n",
    ")"
   ]
  },
  {
   "cell_type": "markdown",
   "metadata": {},
   "source": [
    "# Controller capacity"
   ]
  },
  {
   "cell_type": "code",
   "execution_count": null,
   "metadata": {},
   "outputs": [],
   "source": [
    "dfh = pd.read_json('../results/25_italy/static/2023-02-10-12-44-28/simulation-group-results.json')\n",
    "dfh = dfh.astype({'controller_capacity': 'category'})"
   ]
  },
  {
   "cell_type": "code",
   "execution_count": null,
   "metadata": {},
   "outputs": [],
   "source": [
    "dfh.controller_capacity.value_counts()"
   ]
  },
  {
   "cell_type": "code",
   "execution_count": null,
   "metadata": {},
   "outputs": [],
   "source": [
    "for cc, group in dfh.groupby(by='controller_capacity'):\n",
    "    print(cc, group.h_list.iloc[0])"
   ]
  },
  {
   "cell_type": "code",
   "execution_count": null,
   "metadata": {},
   "outputs": [],
   "source": [
    "sns.lineplot(\n",
    "    data=dfh,\n",
    "    x='vSDN_size', y='acceptance_ratio', hue='controller_capacity'\n",
    ")"
   ]
  },
  {
   "cell_type": "markdown",
   "metadata": {},
   "source": [
    "# Flexibility"
   ]
  },
  {
   "cell_type": "code",
   "execution_count": null,
   "metadata": {},
   "outputs": [],
   "source": [
    "dfh = pd.read_json('../results/25_italy/static/tmp/2023-02-20-13-11-01/simulation-group-results.json')\n",
    "# dfh = dfh.astype({'acceptance_ratio_ilp':int})"
   ]
  },
  {
   "cell_type": "code",
   "execution_count": null,
   "metadata": {},
   "outputs": [],
   "source": [
    "sns.lineplot(\n",
    "    data=dfh,\n",
    "    x='vSDN_size', y='vSDN_acceptance_ratio', hue='simulation_round'\n",
    ")"
   ]
  },
  {
   "cell_type": "code",
   "execution_count": null,
   "metadata": {},
   "outputs": [],
   "source": [
    "fig, ax = plt.subplots(figsize=(16,9))\n",
    "\n",
    "for hd in [0,1,2,3]:\n",
    "    for fw in [2]:\n",
    "        dfh[(3*hd+fw)*115:(3*hd+fw+1)*115].groupby(by='vSDN_size').mean()\\\n",
    "            .plot(y='acceptance_ratio', ax=ax, label=f\"{hd}-{fw}\")"
   ]
  }
 ],
 "metadata": {
  "kernelspec": {
   "display_name": "hp",
   "language": "python",
   "name": "python3"
  },
  "language_info": {
   "codemirror_mode": {
    "name": "ipython",
    "version": 3
   },
   "file_extension": ".py",
   "mimetype": "text/x-python",
   "name": "python",
   "nbconvert_exporter": "python",
   "pygments_lexer": "ipython3",
   "version": "3.8.2"
  },
  "vscode": {
   "interpreter": {
    "hash": "dcfd4f773bf5e226e1489114b6468ab89926ab25e4ffaffcce46052f5d998310"
   }
  }
 },
 "nbformat": 4,
 "nbformat_minor": 4
}
