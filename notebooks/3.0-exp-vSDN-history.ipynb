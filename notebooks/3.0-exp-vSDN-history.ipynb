{
 "cells": [
  {
   "cell_type": "code",
   "execution_count": null,
   "metadata": {},
   "outputs": [],
   "source": [
    "%load_ext autoreload\n",
    "%autoreload 2"
   ]
  },
  {
   "cell_type": "code",
   "execution_count": null,
   "metadata": {},
   "outputs": [],
   "source": [
    "# Standard library imports.\n",
    "import os\n",
    "from pathlib import Path\n",
    "import itertools\n",
    "import json\n",
    "import pickle\n",
    "\n",
    "# Related third party imports.\n",
    "import pandas as pd\n",
    "import numpy as np\n",
    "import matplotlib.pyplot as plt\n",
    "import seaborn as sns\n",
    "\n",
    "plt.style.use(['science','notebook'])\n",
    "plt.rcParams['figure.figsize'] = (12,6)\n",
    "\n",
    "# Local application/library specific imports.\n",
    "import src.models.vSDN_request"
   ]
  },
  {
   "cell_type": "markdown",
   "metadata": {},
   "source": [
    "### Load vSDN history"
   ]
  },
  {
   "cell_type": "code",
   "execution_count": null,
   "metadata": {},
   "outputs": [],
   "source": [
    "simulation_group_folder = '../results/25_italy/dynamic/2022-11-15-21-54-18'\n",
    "simulation_group_id = os.path.basename(simulation_group_folder)\n",
    "\n",
    "history = []\n",
    "\n",
    "for filename in list(Path(simulation_group_folder).glob('*/history.p')):\n",
    "    settings = json.load(open(filename.parent / 'settings.json', 'rb'))\n",
    "    h = pickle.load(open(filename, 'rb'))\n",
    "\n",
    "    for sim_round, h_ in h.items():\n",
    "        df = pd.DataFrame([vSDN.__dict__ for vSDN in h_.values()])\n",
    "        df.insert(0, 'simulation_round', sim_round)\n",
    "        df.insert(0, 'simulation_id', settings['simulation_id'])\n",
    "        df.insert(0, 'dynamic_type', settings['dynamic_type'])\n",
    "        history.append(df)\n",
    "\n",
    "dfh = pd.concat(history, axis=0).reset_index(drop=True)"
   ]
  },
  {
   "cell_type": "code",
   "execution_count": null,
   "metadata": {},
   "outputs": [],
   "source": [
    "dfh"
   ]
  },
  {
   "cell_type": "markdown",
   "metadata": {},
   "source": [
    "### Deployed vSDNs"
   ]
  },
  {
   "cell_type": "code",
   "execution_count": null,
   "metadata": {},
   "outputs": [],
   "source": [
    "dfh.query(\"dynamic_type == 'liberal' & accepted == True\")"
   ]
  },
  {
   "cell_type": "markdown",
   "metadata": {},
   "source": [
    "### Conservative - Liberal differences"
   ]
  },
  {
   "cell_type": "code",
   "execution_count": null,
   "metadata": {},
   "outputs": [],
   "source": [
    "idc = dfh.query(\"dynamic_type == 'conservative'\").accepted.to_numpy()\n",
    "idl = dfh.query(\"dynamic_type == 'liberal'\").accepted.to_numpy()\n",
    "print(f\"Conservative: {sum(idc)}\\nLiberal: {sum(idl)}\")"
   ]
  },
  {
   "cell_type": "code",
   "execution_count": null,
   "metadata": {},
   "outputs": [],
   "source": [
    "dfh.query(\"dynamic_type == 'conservative'\")[np.]"
   ]
  },
  {
   "cell_type": "code",
   "execution_count": null,
   "metadata": {},
   "outputs": [],
   "source": [
    "dfl.iloc[idl.difference(idc)]"
   ]
  },
  {
   "cell_type": "code",
   "execution_count": null,
   "metadata": {},
   "outputs": [],
   "source": [
    "# Discarded requests before TTL\n",
    "dfh.query('end_time - start_time != TTL')"
   ]
  }
 ],
 "metadata": {
  "kernelspec": {
   "display_name": "Python 3",
   "language": "python",
   "name": "python3"
  },
  "language_info": {
   "codemirror_mode": {
    "name": "ipython",
    "version": 3
   },
   "file_extension": ".py",
   "mimetype": "text/x-python",
   "name": "python",
   "nbconvert_exporter": "python",
   "pygments_lexer": "ipython3",
   "version": "3.8.2"
  },
  "vscode": {
   "interpreter": {
    "hash": "dcfd4f773bf5e226e1489114b6468ab89926ab25e4ffaffcce46052f5d998310"
   }
  }
 },
 "nbformat": 4,
 "nbformat_minor": 4
}
