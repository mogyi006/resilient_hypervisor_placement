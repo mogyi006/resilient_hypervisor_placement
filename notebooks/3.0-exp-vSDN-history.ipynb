{
 "cells": [
  {
   "cell_type": "code",
   "execution_count": null,
   "metadata": {},
   "outputs": [],
   "source": [
    "%load_ext autoreload\n",
    "%autoreload 2"
   ]
  },
  {
   "cell_type": "code",
   "execution_count": null,
   "metadata": {},
   "outputs": [],
   "source": [
    "# Standard library imports.\n",
    "import os\n",
    "from pathlib import Path\n",
    "import itertools\n",
    "import json\n",
    "import pickle\n",
    "\n",
    "# Related third party imports.\n",
    "import pandas as pd\n",
    "import numpy as np\n",
    "import matplotlib.pyplot as plt\n",
    "import seaborn as sns\n",
    "\n",
    "plt.style.use(['science','notebook'])\n",
    "plt.rcParams['figure.figsize'] = (12,6)\n",
    "\n",
    "# Local application/library specific imports.\n",
    "import src.models.vSDN_request\n",
    "import src.models.metrics as metrics"
   ]
  },
  {
   "cell_type": "code",
   "execution_count": null,
   "metadata": {},
   "outputs": [],
   "source": [
    "def preprocess_vSDN(vSDN):\n",
    "    base_dict = vSDN.__dict__\n",
    "    base_dict['size'] = vSDN.get_size()\n",
    "    base_dict['revenue'] = metrics.get_revenue(vSDN)\n",
    "    base_dict['util'] = metrics.get_utilization(vSDN)\n",
    "    return base_dict\n",
    "\n",
    "def calc_objective(df, metric: str = None):\n",
    "    objectives = {}\n",
    "    for t, dfg in df.groupby(by=['sim_dynamic_type', 'simulation_id', 'simulation_round']):\n",
    "        objectives[t] = np.zeros(max(df['end_time']))\n",
    "        # print(t, len(dfg))\n",
    "        for _, vSDN in dfg.iterrows():\n",
    "            if vSDN['accepted'] and vSDN['active_time'] == vSDN['TTL']:\n",
    "                objectives[t][vSDN['end_time']-1] += vSDN[metric]\n",
    "    return objectives"
   ]
  },
  {
   "cell_type": "code",
   "execution_count": null,
   "metadata": {},
   "outputs": [],
   "source": [
    "obj = calc_objective(dfh, 'util')\n",
    "\n",
    "fig, ax = plt.subplots(nrows=int(len(obj)/3), figsize=(8, 12))\n",
    "\n",
    "for key, values in obj.items():\n",
    "    ax[key[2]].plot(np.cumsum(values), label=f\"{key[0]}-{key[2]}\")\n",
    "    ax[key[2]].legend()\n",
    "    ax[key[2]].grid()"
   ]
  },
  {
   "cell_type": "markdown",
   "metadata": {},
   "source": [
    "### Load vSDN history"
   ]
  },
  {
   "cell_type": "code",
   "execution_count": null,
   "metadata": {},
   "outputs": [],
   "source": [
    "simulation_group_folder = '../results/25_italy/dynamic/2022-11-17-22-19-42'\n",
    "simulation_group_id = os.path.basename(simulation_group_folder)\n",
    "\n",
    "history = []\n",
    "vSDN_history = {}\n",
    "\n",
    "for filename in list(Path(simulation_group_folder).glob('*/history.p')):\n",
    "    settings = json.load(open(filename.parent / 'settings.json', 'rb'))\n",
    "    sim_history = pickle.load(open(filename, 'rb'))\n",
    "\n",
    "    for sim_round, round_history in sim_history.items():\n",
    "        vSDN_history[(settings['dynamic_type'], sim_round, settings['simulation_id'])] = round_history\n",
    "\n",
    "        df = pd.DataFrame([preprocess_vSDN(vSDN) for vSDN in round_history.values()])\n",
    "        df.insert(0, 'simulation_round', sim_round)\n",
    "        df.insert(0, 'simulation_id', settings['simulation_id'])\n",
    "        df.insert(0, 'sim_dynamic_type', settings['dynamic_type'])\n",
    "        history.append(df)\n",
    "\n",
    "dfh = pd.concat(history, axis=0).reset_index(drop=True)"
   ]
  },
  {
   "cell_type": "code",
   "execution_count": null,
   "metadata": {},
   "outputs": [],
   "source": [
    "dfh.columns"
   ]
  },
  {
   "cell_type": "code",
   "execution_count": null,
   "metadata": {},
   "outputs": [],
   "source": [
    "vSDN_history.keys()"
   ]
  },
  {
   "cell_type": "code",
   "execution_count": null,
   "metadata": {},
   "outputs": [],
   "source": [
    "def calc_objective(vSDN_history, metric: str = None):\n",
    "    objectives = {}\n",
    "    for key, round_history in vSDN_history.items():\n",
    "        objectives[key] = np.zeros(max(df['end_time']))\n",
    "\n",
    "        for _, vSDN in round_history.items():\n",
    "            if vSDN['accepted'] and vSDN['active_time'] == vSDN['TTL']:\n",
    "                objectives[t][vSDN['end_time']-1] += vSDN[metric]\n",
    "    return objectives"
   ]
  },
  {
   "cell_type": "markdown",
   "metadata": {},
   "source": [
    "### Deployed vSDNs"
   ]
  },
  {
   "cell_type": "code",
   "execution_count": null,
   "metadata": {},
   "outputs": [],
   "source": [
    "dfh.query(\"sim_dynamic_type == 'conservative' & accepted == True\")"
   ]
  },
  {
   "cell_type": "markdown",
   "metadata": {},
   "source": [
    "### Conservative - Liberal differences"
   ]
  },
  {
   "cell_type": "code",
   "execution_count": null,
   "metadata": {},
   "outputs": [],
   "source": [
    "idc = dfh.query(\"dynamic_type == 'conservative'\").accepted.to_numpy()\n",
    "idl = dfh.query(\"dynamic_type == 'liberal'\").accepted.to_numpy()\n",
    "print(f\"Conservative: {sum(idc)}\\nLiberal: {sum(idl)}\")"
   ]
  },
  {
   "cell_type": "code",
   "execution_count": null,
   "metadata": {},
   "outputs": [],
   "source": [
    "dfh.query(\"dynamic_type == 'conservative'\")[np.]"
   ]
  },
  {
   "cell_type": "code",
   "execution_count": null,
   "metadata": {},
   "outputs": [],
   "source": [
    "dfl.iloc[idl.difference(idc)]"
   ]
  },
  {
   "cell_type": "code",
   "execution_count": null,
   "metadata": {},
   "outputs": [],
   "source": [
    "# Discarded requests before TTL\n",
    "violations = dfh.query('accepted & active_time != TTL')#['simulation_round'].value_counts()\n",
    "violations"
   ]
  },
  {
   "cell_type": "code",
   "execution_count": null,
   "metadata": {},
   "outputs": [],
   "source": [
    "dfh.query('accepted & dynamic_type == \"liberal\"')"
   ]
  },
  {
   "cell_type": "code",
   "execution_count": null,
   "metadata": {},
   "outputs": [],
   "source": [
    "violations.simulation_round.value_counts()"
   ]
  },
  {
   "cell_type": "code",
   "execution_count": null,
   "metadata": {},
   "outputs": [],
   "source": [
    "sns.countplot(violations.TTL - violations.active_time)"
   ]
  }
 ],
 "metadata": {
  "kernelspec": {
   "display_name": "Python 3",
   "language": "python",
   "name": "python3"
  },
  "language_info": {
   "codemirror_mode": {
    "name": "ipython",
    "version": 3
   },
   "file_extension": ".py",
   "mimetype": "text/x-python",
   "name": "python",
   "nbconvert_exporter": "python",
   "pygments_lexer": "ipython3",
   "version": "3.8.2"
  },
  "vscode": {
   "interpreter": {
    "hash": "dcfd4f773bf5e226e1489114b6468ab89926ab25e4ffaffcce46052f5d998310"
   }
  }
 },
 "nbformat": 4,
 "nbformat_minor": 4
}
