{
 "cells": [
  {
   "cell_type": "code",
   "execution_count": 1,
   "metadata": {},
   "outputs": [],
   "source": [
    "%load_ext autoreload\n",
    "%autoreload 2"
   ]
  },
  {
   "cell_type": "code",
   "execution_count": 2,
   "metadata": {},
   "outputs": [],
   "source": [
    "# Standard library imports.\n",
    "import itertools\n",
    "import json\n",
    "\n",
    "# Related third party imports.\n",
    "import numpy as np\n",
    "import tqdm\n",
    "\n",
    "# Local application/library specific imports.\n",
    "from src.models.network_simulation import NetworkSimulation\n",
    "from src.data.json_encoder import NumpyEncoder"
   ]
  },
  {
   "cell_type": "code",
   "execution_count": 3,
   "metadata": {},
   "outputs": [
    {
     "name": "stderr",
     "output_type": "stream",
     "text": [
      "100%|██████████| 10/10 [1:01:48<00:00, 370.86s/it]\n"
     ]
    }
   ],
   "source": [
    "network_name = '50_germany'\n",
    "simulation_logs = []\n",
    "\n",
    "possible_settings = {\n",
    "    'network_name': [network_name],\n",
    "    'latency_factor': np.arange(0.1, 1.1, 0.1),\n",
    "    'shortest_k': [16],\n",
    "    'hp_type': ['heuristics'],\n",
    "    'hp_objective': ['hypervisor count'],\n",
    "    'repeat': [100],\n",
    "}\n",
    "param_names_1 = list(possible_settings.keys())\n",
    "setting_generator = [dict(zip(param_names_1, x)) for x in itertools.product(*possible_settings.values())]\n",
    "\n",
    "possible_request_settings = {    \n",
    "    'size_of_requests': range(2, 26),\n",
    "    'count':[4000]\n",
    "}\n",
    "param_names_2 = list(possible_request_settings.keys())\n",
    "request_setting_generator = [dict(zip(param_names_2, x)) for x in itertools.product(*possible_request_settings.values())]\n",
    "\n",
    "for setting in tqdm.tqdm(setting_generator, total=len(setting_generator)):\n",
    "    ns = NetworkSimulation(**setting)\n",
    "    ns.init_simulation(**setting)\n",
    "    ns.hypervisor_placement(**setting)\n",
    "    for request_setting in request_setting_generator:\n",
    "        ns.request_simulation(**request_setting)\n",
    "        simulation_logs.append(ns.log_simulation())"
   ]
  },
  {
   "cell_type": "code",
   "execution_count": 4,
   "metadata": {},
   "outputs": [],
   "source": [
    "with open(f\"../results/{network_name}/2021-10-25.json\", 'w') as file:\n",
    "    json.dump(simulation_logs, file, indent=4, sort_keys=True,\n",
    "              separators=(', ', ': '), ensure_ascii=False,\n",
    "              cls=NumpyEncoder)"
   ]
  }
 ],
 "metadata": {
  "interpreter": {
   "hash": "198c5c8b06a543be5d206c29f99af937e4c5f8a9521fc2b90f586564194f4e7c"
  },
  "kernelspec": {
   "display_name": "Python 3.8.2 64-bit ('hp': conda)",
   "name": "python3"
  },
  "language_info": {
   "codemirror_mode": {
    "name": "ipython",
    "version": 3
   },
   "file_extension": ".py",
   "mimetype": "text/x-python",
   "name": "python",
   "nbconvert_exporter": "python",
   "pygments_lexer": "ipython3",
   "version": "3.8.2"
  }
 },
 "nbformat": 4,
 "nbformat_minor": 4
}
