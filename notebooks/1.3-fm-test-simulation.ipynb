{
 "cells": [
  {
   "cell_type": "code",
   "execution_count": 1,
   "metadata": {},
   "outputs": [],
   "source": [
    "%load_ext autoreload\n",
    "%autoreload 2"
   ]
  },
  {
   "cell_type": "code",
   "execution_count": 2,
   "metadata": {},
   "outputs": [],
   "source": [
    "# Standard library imports.\n",
    "import datetime\n",
    "import itertools\n",
    "import json\n",
    "\n",
    "# Related third party imports.\n",
    "import numpy as np\n",
    "import tqdm\n",
    "\n",
    "# Local application/library specific imports.\n",
    "from src.models.network_simulation import NetworkSimulation\n",
    "from src.data.json_encoder import NumpyEncoder"
   ]
  },
  {
   "cell_type": "code",
   "execution_count": 3,
   "metadata": {},
   "outputs": [],
   "source": [
    "network_name = '25_italy'\n",
    "max_vSDN_size = 5\n",
    "hp_type = 'heuristics'\n",
    "hp_objective = 'hypervisor count'\n",
    "simulation_logs = []\n",
    "\n",
    "possible_settings = {\n",
    "    'network_name': [network_name],\n",
    "    'latency_factor': np.arange(0.6, 0.8, 0.1),\n",
    "    'shortest_k': [16],\n",
    "    'hp_type': [hp_type],\n",
    "    'hp_objective': [hp_objective],\n",
    "    'repeat': [100],\n",
    "    'max_request_size': [max_vSDN_size]\n",
    "}\n",
    "param_names_1 = list(possible_settings.keys())\n",
    "setting_generator = [\n",
    "    dict(zip(param_names_1, x))\n",
    "    for x in itertools.product(*possible_settings.values())\n",
    "]\n",
    "\n",
    "possible_request_settings = {\n",
    "    'request_size': range(2, max_vSDN_size),\n",
    "    'count': [4000]\n",
    "}\n",
    "param_names_2 = list(possible_request_settings.keys())\n",
    "request_setting_generator = [\n",
    "    dict(zip(param_names_2, x))\n",
    "    for x in itertools.product(*possible_request_settings.values())\n",
    "]"
   ]
  },
  {
   "cell_type": "code",
   "execution_count": 16,
   "metadata": {},
   "outputs": [
    {
     "name": "stdout",
     "output_type": "stream",
     "text": [
      "1 [19, 21]\n",
      "23 [3, 5]\n",
      "20 [5, 19]\n",
      "2 [20, 21]\n",
      "30 [2, 24]\n",
      "8 [13, 14]\n",
      "9 [14, 15]\n",
      "7 [15, 22]\n",
      "12 [9, 10]\n",
      "6 [16, 22]\n",
      "12 [9, 10]\n",
      "27 [1, 8]\n",
      "15 [8, 15]\n",
      "31 [0, 24]\n",
      "15 [8, 15]\n",
      "10 [11, 13]\n",
      "27 [1, 8]\n",
      "28 [7, 8]\n",
      "29 [1, 2]\n",
      "30 [2, 24]\n",
      "1 [19, 21]\n",
      "17 [6, 9]\n",
      "9 [14, 15]\n",
      "9 [14, 15]\n",
      "8 [13, 14]\n",
      "28 [7, 8]\n",
      "27 [1, 8]\n",
      "8 [13, 14]\n",
      "14 [12, 15]\n",
      "25 [18, 24]\n",
      "5 [16, 17]\n",
      "21 [4, 5]\n",
      "15 [8, 15]\n",
      "31 [0, 24]\n"
     ]
    }
   ],
   "source": [
    "# Run\n",
    "setting = setting_generator[0]\n",
    "request_setting = request_setting_generator[0]\n",
    "\n",
    "ns = NetworkSimulation(**setting)\n",
    "ns.init_simulation(**setting)\n",
    "ns.hypervisor_placement(**setting)\n",
    "ns.request_simulation(**request_setting)\n",
    "run_log = ns.log_simulation()"
   ]
  },
  {
   "cell_type": "code",
   "execution_count": 17,
   "metadata": {},
   "outputs": [
    {
     "data": {
      "text/plain": [
       "{'network': '25_italy',\n",
       " 'diameter': 1586,\n",
       " 'max_length': 951,\n",
       " 'latency_factor': 0.6,\n",
       " 'shortest_k': 16,\n",
       " 'hp_type': 'heuristics',\n",
       " 'hp_objective': 'hypervisor count',\n",
       " 'ha_objective': 'avg cp length',\n",
       " 'cp_objective': 'random',\n",
       " 'hp_runtime': 6.48,\n",
       " 'h_list': [0, 24, 20, 23],\n",
       " 'h_count': 4,\n",
       " 'vSDN_generator_seed': 123,\n",
       " 'vSDN_size': 2,\n",
       " 'vSDN_count': 34,\n",
       " 'vSDN_coverage': 1.0,\n",
       " 'vSDN_count_ilp': 0,\n",
       " 'vSDN_max_size_ilp': 0,\n",
       " 'acceptable_count': 32,\n",
       " 'acceptance_ratio': 0.9411764705882353,\n",
       " 'acceptance_ratio_ilp': None,\n",
       " 'request_processing_time': 0.06,\n",
       " 'chs_avg': 0,\n",
       " 'chs_avg_p': 707,\n",
       " 'chs_max_p': 939,\n",
       " 'chs_avg_b': 846,\n",
       " 'chs_max_b': 950}"
      ]
     },
     "execution_count": 17,
     "metadata": {},
     "output_type": "execute_result"
    }
   ],
   "source": [
    "run_log = ns.log_simulation()\n",
    "run_log"
   ]
  },
  {
   "cell_type": "code",
   "execution_count": null,
   "metadata": {},
   "outputs": [],
   "source": [
    "# Simulation\n",
    "for setting in tqdm.tqdm(setting_generator, total=len(setting_generator)):\n",
    "    ns = NetworkSimulation(**setting)\n",
    "    ns.init_simulation(**setting)\n",
    "    ns.hypervisor_placement(**setting)\n",
    "    for request_setting in request_setting_generator:\n",
    "        ns.request_simulation(**request_setting)\n",
    "        simulation_logs.append(ns.log_simulation())"
   ]
  },
  {
   "cell_type": "code",
   "execution_count": null,
   "metadata": {},
   "outputs": [],
   "source": [
    "with open(f\"../results/{network_name}/{datetime.date.today()}-{network_name}-test.json\", 'w') as file:\n",
    "    json.dump(simulation_logs, file, indent=4, sort_keys=True,\n",
    "              separators=(', ', ': '), ensure_ascii=False,\n",
    "              cls=NumpyEncoder)"
   ]
  },
  {
   "cell_type": "code",
   "execution_count": null,
   "metadata": {},
   "outputs": [],
   "source": [
    "simulation_logs"
   ]
  }
 ],
 "metadata": {
  "interpreter": {
   "hash": "dcfd4f773bf5e226e1489114b6468ab89926ab25e4ffaffcce46052f5d998310"
  },
  "kernelspec": {
   "display_name": "Python 3.8.2 64-bit ('hp': conda)",
   "name": "python3"
  },
  "language_info": {
   "codemirror_mode": {
    "name": "ipython",
    "version": 3
   },
   "file_extension": ".py",
   "mimetype": "text/x-python",
   "name": "python",
   "nbconvert_exporter": "python",
   "pygments_lexer": "ipython3",
   "version": "3.8.2"
  }
 },
 "nbformat": 4,
 "nbformat_minor": 4
}
