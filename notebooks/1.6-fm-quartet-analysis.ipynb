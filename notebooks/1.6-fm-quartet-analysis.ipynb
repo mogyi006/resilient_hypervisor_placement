{
 "cells": [
  {
   "cell_type": "code",
   "execution_count": 2,
   "metadata": {},
   "outputs": [],
   "source": [
    "%load_ext autoreload\n",
    "%autoreload 2"
   ]
  },
  {
   "cell_type": "code",
   "execution_count": 4,
   "metadata": {},
   "outputs": [],
   "source": [
    "# Standard library imports.\n",
    "import pickle\n",
    "\n",
    "# Related third party imports.\n",
    "import pandas as pd\n",
    "import numpy as np\n",
    "\n",
    "# Local application/library specific imports.\n",
    "from src.models.network_simulation import NetworkSimulation"
   ]
  },
  {
   "cell_type": "code",
   "execution_count": 56,
   "metadata": {},
   "outputs": [],
   "source": [
    "network_name = '50_germany'\n",
    "df = pd.DataFrame()\n",
    "\n",
    "for L in range(1,11):\n",
    "    network_operator_path = f'../data/processed/network_operators/{network_name}/{network_name}_L{L}_k16.p'\n",
    "    network_operator = pickle.load(open(network_operator_path, \"rb\"))\n",
    "\n",
    "    counts = {c:len(Qc) for c, Qc in network_operator.quartets_by_controllers.items()}\n",
    "    df[L] = pd.Series(counts, index=counts.keys())"
   ]
  },
  {
   "cell_type": "code",
   "execution_count": 51,
   "metadata": {},
   "outputs": [],
   "source": [
    "df['mean'] = df.divide(df.sum(), axis='columns').mean(axis=1)"
   ]
  },
  {
   "cell_type": "code",
   "execution_count": null,
   "metadata": {},
   "outputs": [],
   "source": [
    "print(df.to_csv())"
   ]
  },
  {
   "cell_type": "code",
   "execution_count": 57,
   "metadata": {},
   "outputs": [
    {
     "name": "stdout",
     "output_type": "stream",
     "text": [
      "159\n",
      "1137\n",
      "7503\n",
      "35321\n",
      "105907\n",
      "252622\n",
      "505869\n",
      "869791\n",
      "1300423\n",
      "1739197\n"
     ]
    }
   ],
   "source": [
    "# print quartet count by L\n",
    "for i, count in df.sum().items():\n",
    "    print(f'{count}')"
   ]
  }
 ],
 "metadata": {
  "interpreter": {
   "hash": "dcfd4f773bf5e226e1489114b6468ab89926ab25e4ffaffcce46052f5d998310"
  },
  "kernelspec": {
   "display_name": "Python 3.8.2 64-bit ('hp': conda)",
   "name": "python3"
  },
  "language_info": {
   "codemirror_mode": {
    "name": "ipython",
    "version": 3
   },
   "file_extension": ".py",
   "mimetype": "text/x-python",
   "name": "python",
   "nbconvert_exporter": "python",
   "pygments_lexer": "ipython3",
   "version": "3.8.2"
  },
  "orig_nbformat": 4
 },
 "nbformat": 4,
 "nbformat_minor": 2
}
